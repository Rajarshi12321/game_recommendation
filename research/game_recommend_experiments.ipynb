{
 "cells": [
  {
   "cell_type": "code",
   "execution_count": 1,
   "metadata": {},
   "outputs": [],
   "source": [
    "## Getting to Main directory\n",
    "import os\n",
    "os.chdir(\"../\")"
   ]
  },
  {
   "cell_type": "code",
   "execution_count": 2,
   "metadata": {},
   "outputs": [
    {
     "data": {
      "text/plain": [
       "True"
      ]
     },
     "execution_count": 2,
     "metadata": {},
     "output_type": "execute_result"
    }
   ],
   "source": [
    "# loading secret key\n",
    "from dotenv import load_dotenv\n",
    "load_dotenv()"
   ]
  },
  {
   "cell_type": "code",
   "execution_count": 3,
   "metadata": {},
   "outputs": [],
   "source": [
    "import pandas as pd"
   ]
  },
  {
   "cell_type": "code",
   "execution_count": 4,
   "metadata": {},
   "outputs": [
    {
     "name": "stderr",
     "output_type": "stream",
     "text": [
      "e:\\projects\\AI research assistant\\venv\\lib\\site-packages\\tqdm\\auto.py:21: TqdmWarning: IProgress not found. Please update jupyter and ipywidgets. See https://ipywidgets.readthedocs.io/en/stable/user_install.html\n",
      "  from .autonotebook import tqdm as notebook_tqdm\n"
     ]
    }
   ],
   "source": [
    "import streamlit as st\n",
    "from langchain.text_splitter import RecursiveCharacterTextSplitter\n",
    "import os\n",
    "from langchain_google_genai import GoogleGenerativeAIEmbeddings\n",
    "import google.generativeai as genai\n",
    "from langchain.vectorstores import FAISS\n",
    "from langchain_google_genai import ChatGoogleGenerativeAI\n",
    "from langchain.chains.question_answering import load_qa_chain\n",
    "from langchain.prompts import PromptTemplate\n"
   ]
  },
  {
   "cell_type": "code",
   "execution_count": 5,
   "metadata": {},
   "outputs": [],
   "source": [
    "load_dotenv()\n",
    "gemini_api_key=os.getenv(\"GOOGLE_API_KEY\")\n",
    "genai.configure(api_key=os.getenv(\"GOOGLE_API_KEY\"))"
   ]
  },
  {
   "cell_type": "code",
   "execution_count": 69,
   "metadata": {},
   "outputs": [],
   "source": [
    "from langchain.document_loaders.csv_loader import CSVLoader\n",
    "from langchain.text_splitter import CharacterTextSplitter\n"
   ]
  },
  {
   "cell_type": "code",
   "execution_count": 7,
   "metadata": {},
   "outputs": [],
   "source": [
    "csv_file=\"Data/app_details.csv\""
   ]
  },
  {
   "cell_type": "code",
   "execution_count": 8,
   "metadata": {},
   "outputs": [],
   "source": [
    "loader = CSVLoader(file_path=\"Data/app_details.csv\")\n",
    "data = loader.load()"
   ]
  },
  {
   "cell_type": "code",
   "execution_count": 9,
   "metadata": {},
   "outputs": [],
   "source": [
    "df = pd.read_csv(csv_file)"
   ]
  },
  {
   "cell_type": "code",
   "execution_count": 10,
   "metadata": {},
   "outputs": [
    {
     "data": {
      "text/html": [
       "<div>\n",
       "<style scoped>\n",
       "    .dataframe tbody tr th:only-of-type {\n",
       "        vertical-align: middle;\n",
       "    }\n",
       "\n",
       "    .dataframe tbody tr th {\n",
       "        vertical-align: top;\n",
       "    }\n",
       "\n",
       "    .dataframe thead th {\n",
       "        text-align: right;\n",
       "    }\n",
       "</style>\n",
       "<table border=\"1\" class=\"dataframe\">\n",
       "  <thead>\n",
       "    <tr style=\"text-align: right;\">\n",
       "      <th></th>\n",
       "      <th>appId_or_package_name</th>\n",
       "      <th>title</th>\n",
       "      <th>description</th>\n",
       "      <th>summary</th>\n",
       "      <th>installs</th>\n",
       "      <th>score</th>\n",
       "      <th>ratings</th>\n",
       "      <th>developer</th>\n",
       "      <th>categories</th>\n",
       "      <th>icon</th>\n",
       "      <th>headerImage</th>\n",
       "      <th>contentRating</th>\n",
       "      <th>contentRatingDescription</th>\n",
       "      <th>released</th>\n",
       "      <th>lastUpdatedOn</th>\n",
       "      <th>version</th>\n",
       "    </tr>\n",
       "  </thead>\n",
       "  <tbody>\n",
       "    <tr>\n",
       "      <th>0</th>\n",
       "      <td>com.supercell.clashofclans</td>\n",
       "      <td>Clash of Clans</td>\n",
       "      <td>Join millions of players worldwide as you buil...</td>\n",
       "      <td>Epic combat strategy game. Build your village,...</td>\n",
       "      <td>500,000,000+</td>\n",
       "      <td>4.500125</td>\n",
       "      <td>61148515.0</td>\n",
       "      <td>Supercell</td>\n",
       "      <td>[{'name': 'Strategy', 'id': 'GAME_STRATEGY'}, ...</td>\n",
       "      <td>https://play-lh.googleusercontent.com/LByrur1m...</td>\n",
       "      <td>https://play-lh.googleusercontent.com/D6u3M1r7...</td>\n",
       "      <td>Rated for 7+</td>\n",
       "      <td>Mild Violence</td>\n",
       "      <td>Sep 30, 2013</td>\n",
       "      <td>May 3, 2024</td>\n",
       "      <td>16.253.25</td>\n",
       "    </tr>\n",
       "    <tr>\n",
       "      <th>1</th>\n",
       "      <td>com.supercell.clashroyale</td>\n",
       "      <td>Clash Royale</td>\n",
       "      <td>Enter the Arena! Build your Battle Deck and ou...</td>\n",
       "      <td>Clash Royale is a real-time, head-to-head batt...</td>\n",
       "      <td>500,000,000+</td>\n",
       "      <td>4.178366</td>\n",
       "      <td>37525676.0</td>\n",
       "      <td>Supercell</td>\n",
       "      <td>[{'name': 'Strategy', 'id': 'GAME_STRATEGY'}, ...</td>\n",
       "      <td>https://play-lh.googleusercontent.com/z950eFx-...</td>\n",
       "      <td>https://play-lh.googleusercontent.com/s9qs3woa...</td>\n",
       "      <td>Rated for 7+</td>\n",
       "      <td>Mild Violence</td>\n",
       "      <td>Mar 1, 2016</td>\n",
       "      <td>Apr 17, 2024</td>\n",
       "      <td>60256021</td>\n",
       "    </tr>\n",
       "    <tr>\n",
       "      <th>2</th>\n",
       "      <td>com.dts.freefiremax</td>\n",
       "      <td>Free Fire MAX</td>\n",
       "      <td>[Mechadrake Incoming]\\r\\nThe fierce Mechadrake...</td>\n",
       "      <td>MAX Battle Royale Experience</td>\n",
       "      <td>100,000,000+</td>\n",
       "      <td>4.300161</td>\n",
       "      <td>22448961.0</td>\n",
       "      <td>Garena International I</td>\n",
       "      <td>[{'name': 'Action', 'id': 'GAME_ACTION'}, {'na...</td>\n",
       "      <td>https://play-lh.googleusercontent.com/T8RuSQDF...</td>\n",
       "      <td>https://play-lh.googleusercontent.com/PTF7b77h...</td>\n",
       "      <td>Rated for 12+</td>\n",
       "      <td>Moderate Violence</td>\n",
       "      <td>Sep 18, 2021</td>\n",
       "      <td>Apr 7, 2024</td>\n",
       "      <td>2.104.1</td>\n",
       "    </tr>\n",
       "    <tr>\n",
       "      <th>3</th>\n",
       "      <td>com.topgamesinc.evony</td>\n",
       "      <td>Evony: The King's Return</td>\n",
       "      <td>Shoot and engage in battles！\\r\\nBuild your cit...</td>\n",
       "      <td>Move and Shoot! Build Your Empire, Explore Dif...</td>\n",
       "      <td>100,000,000+</td>\n",
       "      <td>3.536870</td>\n",
       "      <td>705629.0</td>\n",
       "      <td>TG Inc.</td>\n",
       "      <td>[{'name': 'Strategy', 'id': 'GAME_STRATEGY'}, ...</td>\n",
       "      <td>https://play-lh.googleusercontent.com/_AnSpAUp...</td>\n",
       "      <td>https://play-lh.googleusercontent.com/0WahHxuN...</td>\n",
       "      <td>Rated for 7+</td>\n",
       "      <td>Mild Violence</td>\n",
       "      <td>Aug 10, 2016</td>\n",
       "      <td>May 15, 2024</td>\n",
       "      <td>4.72.2</td>\n",
       "    </tr>\n",
       "    <tr>\n",
       "      <th>4</th>\n",
       "      <td>com.vizorapps.klondike</td>\n",
       "      <td>Klondike Adventures</td>\n",
       "      <td>Do you like travelling to odd places? 🗺 Fancy ...</td>\n",
       "      <td>Farming games: Harvest crops and Grow your own...</td>\n",
       "      <td>50,000,000+</td>\n",
       "      <td>4.055430</td>\n",
       "      <td>1232980.0</td>\n",
       "      <td>VIZOR APPS LTD.</td>\n",
       "      <td>[{'name': 'Simulation', 'id': 'GAME_SIMULATION...</td>\n",
       "      <td>https://play-lh.googleusercontent.com/jW61KFsl...</td>\n",
       "      <td>https://play-lh.googleusercontent.com/vyiC4Rx0...</td>\n",
       "      <td>Rated for 3+</td>\n",
       "      <td>NaN</td>\n",
       "      <td>Apr 3, 2018</td>\n",
       "      <td>May 10, 2024</td>\n",
       "      <td>2.121.1</td>\n",
       "    </tr>\n",
       "  </tbody>\n",
       "</table>\n",
       "</div>"
      ],
      "text/plain": [
       "        appId_or_package_name                     title  \\\n",
       "0  com.supercell.clashofclans            Clash of Clans   \n",
       "1   com.supercell.clashroyale              Clash Royale   \n",
       "2         com.dts.freefiremax             Free Fire MAX   \n",
       "3       com.topgamesinc.evony  Evony: The King's Return   \n",
       "4      com.vizorapps.klondike       Klondike Adventures   \n",
       "\n",
       "                                         description  \\\n",
       "0  Join millions of players worldwide as you buil...   \n",
       "1  Enter the Arena! Build your Battle Deck and ou...   \n",
       "2  [Mechadrake Incoming]\\r\\nThe fierce Mechadrake...   \n",
       "3  Shoot and engage in battles！\\r\\nBuild your cit...   \n",
       "4  Do you like travelling to odd places? 🗺 Fancy ...   \n",
       "\n",
       "                                             summary      installs     score  \\\n",
       "0  Epic combat strategy game. Build your village,...  500,000,000+  4.500125   \n",
       "1  Clash Royale is a real-time, head-to-head batt...  500,000,000+  4.178366   \n",
       "2                       MAX Battle Royale Experience  100,000,000+  4.300161   \n",
       "3  Move and Shoot! Build Your Empire, Explore Dif...  100,000,000+  3.536870   \n",
       "4  Farming games: Harvest crops and Grow your own...   50,000,000+  4.055430   \n",
       "\n",
       "      ratings               developer  \\\n",
       "0  61148515.0               Supercell   \n",
       "1  37525676.0               Supercell   \n",
       "2  22448961.0  Garena International I   \n",
       "3    705629.0                 TG Inc.   \n",
       "4   1232980.0         VIZOR APPS LTD.   \n",
       "\n",
       "                                          categories  \\\n",
       "0  [{'name': 'Strategy', 'id': 'GAME_STRATEGY'}, ...   \n",
       "1  [{'name': 'Strategy', 'id': 'GAME_STRATEGY'}, ...   \n",
       "2  [{'name': 'Action', 'id': 'GAME_ACTION'}, {'na...   \n",
       "3  [{'name': 'Strategy', 'id': 'GAME_STRATEGY'}, ...   \n",
       "4  [{'name': 'Simulation', 'id': 'GAME_SIMULATION...   \n",
       "\n",
       "                                                icon  \\\n",
       "0  https://play-lh.googleusercontent.com/LByrur1m...   \n",
       "1  https://play-lh.googleusercontent.com/z950eFx-...   \n",
       "2  https://play-lh.googleusercontent.com/T8RuSQDF...   \n",
       "3  https://play-lh.googleusercontent.com/_AnSpAUp...   \n",
       "4  https://play-lh.googleusercontent.com/jW61KFsl...   \n",
       "\n",
       "                                         headerImage  contentRating  \\\n",
       "0  https://play-lh.googleusercontent.com/D6u3M1r7...   Rated for 7+   \n",
       "1  https://play-lh.googleusercontent.com/s9qs3woa...   Rated for 7+   \n",
       "2  https://play-lh.googleusercontent.com/PTF7b77h...  Rated for 12+   \n",
       "3  https://play-lh.googleusercontent.com/0WahHxuN...   Rated for 7+   \n",
       "4  https://play-lh.googleusercontent.com/vyiC4Rx0...   Rated for 3+   \n",
       "\n",
       "  contentRatingDescription      released lastUpdatedOn    version  \n",
       "0            Mild Violence  Sep 30, 2013   May 3, 2024  16.253.25  \n",
       "1            Mild Violence   Mar 1, 2016  Apr 17, 2024   60256021  \n",
       "2        Moderate Violence  Sep 18, 2021   Apr 7, 2024    2.104.1  \n",
       "3            Mild Violence  Aug 10, 2016  May 15, 2024     4.72.2  \n",
       "4                      NaN   Apr 3, 2018  May 10, 2024    2.121.1  "
      ]
     },
     "execution_count": 10,
     "metadata": {},
     "output_type": "execute_result"
    }
   ],
   "source": [
    "df.head()"
   ]
  },
  {
   "cell_type": "code",
   "execution_count": 11,
   "metadata": {},
   "outputs": [],
   "source": [
    "from datetime import datetime\n",
    "from typing import List\n",
    "import csv\n",
    "from langchain.docstore.document import Document\n",
    "from langchain.document_loaders.base import BaseLoader\n",
    "from typing import Optional, Dict\n"
   ]
  },
  {
   "cell_type": "code",
   "execution_count": 12,
   "metadata": {},
   "outputs": [],
   "source": [
    "import pandas as pd\n",
    "import langchain  # Assuming Langchain is installed\n",
    "\n",
    "class CsvDocumentLoader:\n",
    "    \"\"\"A document loader class that reads CSV data into Langchain documents using a DataFrame.\"\"\"\n",
    "\n",
    "    def __init__(self, file_path, content_column=\"description\", metadata_columns=None):\n",
    "        \"\"\"\n",
    "        Initializes the document loader.\n",
    "\n",
    "        Args:\n",
    "            file_path (str): Path to the CSV file.\n",
    "            content_column (str, optional): Name of the column containing document content. Defaults to \"description\".\n",
    "            metadata_columns (List[str], optional): List of column names for additional metadata. Defaults to None, which includes all columns except the content column.\n",
    "        \"\"\"\n",
    "\n",
    "        self.file_path = file_path\n",
    "        self.content_column = content_column\n",
    "        self.metadata_columns = metadata_columns\n",
    "\n",
    "    def load(self) -> List[Document]:\n",
    "        \"\"\"\n",
    "        Loads CSV data as a list of Langchain documents.\n",
    "\n",
    "        Returns:\n",
    "            List[Document]: List of Langchain documents created from the CSV data.\n",
    "        \"\"\"\n",
    "\n",
    "        try:\n",
    "            # Read CSV data into a DataFrame\n",
    "            df = pd.read_csv(self.file_path)\n",
    "\n",
    "            # Extract content and metadata\n",
    "            content = df[self.content_column].tolist()  # List of content strings\n",
    "            if self.metadata_columns is None:\n",
    "                # Include all columns except content for metadata\n",
    "                metadata_columns = list(df.columns)\n",
    "                metadata_columns.remove(self.content_column)\n",
    "                metadata = df[metadata_columns].to_dict(orient=\"records\")  # List of metadata dictionaries\n",
    "            else:\n",
    "                # Use specified columns for metadata\n",
    "                metadata = df[self.metadata_columns].to_dict(orient=\"records\")\n",
    "\n",
    "            # Create Langchain documents\n",
    "            docs = []\n",
    "            for i, (cont, meta) in enumerate(zip(content, metadata)):\n",
    "                doc = Document(page_content=cont.strip(), metadata=dict(meta, row=i))  # Add row number to metadata\n",
    "                docs.append(doc)\n",
    "\n",
    "            return docs\n",
    "\n",
    "        except FileNotFoundError as e:\n",
    "            print(f\"Error: File not found: {self.file_path}\")\n",
    "            return []\n",
    "        except Exception as e:\n",
    "            print(f\"Unexpected error: {str(e)}\")\n",
    "            return []\n",
    "\n",
    "# Usage example\n",
    "# loader = CsvDocumentLoader(\"your_csv_file.csv\", content_column=\"description\", metadata_columns=[\"title\", \"developer\"])\n",
    "# documents = loader.load()\n",
    "\n",
    "# # Process documents using Langchain\n",
    "# for doc in documents:\n",
    "#     print(doc.page_content)\n",
    "#     print(doc.metadata)\n"
   ]
  },
  {
   "cell_type": "code",
   "execution_count": 13,
   "metadata": {},
   "outputs": [],
   "source": [
    "metadata_columns_list = [\n",
    "    \"appId_or_package_name\", \"title\", \"summary\", \"installs\", \"score\",\n",
    "    \"ratings\", \"developer\", \"categories\", \"icon\", \"headerImage\",\n",
    "    \"contentRating\", \"contentRatingDescription\", \"released\", \"lastUpdatedOn\",\n",
    "    \"version\"\n",
    "]\n"
   ]
  },
  {
   "cell_type": "code",
   "execution_count": 14,
   "metadata": {},
   "outputs": [
    {
     "data": {
      "text/plain": [
       "Document(page_content=\"Join millions of players worldwide as you build your village, raise a clan, and compete in epic Clan Wars!\\r\\n\\r\\nMustachioed Barbarians, fire wielding Wizards, and other unique troops are waiting for you! Enter the world of Clash!\\r\\n\\r\\nClassic Features:\\r\\n● Join a Clan of fellow players or start your own and invite friends.\\r\\n● Fight in Clan Wars as a team against millions of active players across the globe.\\r\\n● Test your skills in the competitive Clan War Leagues and prove you’re the best.\\r\\n● Forge alliances, work together with your Clan in Clan Games to earn valuable Magic items.\\r\\n● Plan your unique battle strategy with countless combinations of Spells, Troops, and Heroes!\\r\\n● Compete with the best players from around the world and rise to the top of the Leaderboard in Legend League.\\r\\n● Collect resources and steal loot from other players to upgrade your own Village and turn it into a stronghold. \\r\\n● Defend against enemy attacks with a multitude of Towers, Cannons, Bombs, Traps, Mortars, and Walls.\\r\\n● Unlock epic Heroes like the Barbarian King, Archer Queen, Grand Warden, Royal Champion, and Battle Machine. \\r\\n● Research upgrades in your Laboratory to make your Troops, Spells, and Siege Machines even more powerful.\\r\\n● Create your own custom PVP experiences through Friendly Challenges, Friendly Wars, and special live events.\\r\\n● Watch Clanmates attack and defend in real-time as a spectator or check out the video replays.\\r\\n● Fight against the Goblin King in a single player campaign mode through the realm.\\r\\n● Learn new tactics and experiment with your army and Clan Castle troops in Practice Mode.\\r\\n● Journey to the Builder Base and discover new buildings and characters in a mysterious world.\\r\\n● Turn your Builder Base into an unbeatable fortress and defeat rival players in Versus Battles. \\r\\n● Collect exclusive Hero Skins and Sceneries to customize your Village.\\r\\n\\r\\nWhat are you waiting for, Chief? Join the action today.\\r\\n\\r\\nPLEASE NOTE! Clash of Clans is free to download and play, however, some game items can also be purchased for real money. If you don't want to use this feature, please disable in-app purchases in your device's settings. Also, under our Terms of Service and Privacy Policy, you must be at least 13 years of age to play or download Clash of Clans.\\r\\n\\r\\nA network connection is also required.\\r\\n\\r\\nIf you have fun playing Clash of Clans, you may also enjoy other Supercell games like Clash Royale, Brawl Stars, Boom Beach, and Hay Day. Make sure to check those out!\\r\\n\\r\\nSupport: Chief, are you having problems? Visit https://help.supercellsupport.com/clash-of-clans/en/index.html or http://supr.cl/ClashForum or contact us in game by going to Settings > Help and Support.\\r\\n\\r\\nPrivacy Policy: http://www.supercell.net/privacy-policy/\\r\\n\\r\\nTerms of Service: http://www.supercell.net/terms-of-service/\\r\\n\\r\\nParent’s Guide: http://www.supercell.net/parents\", metadata={'appId_or_package_name': 'com.supercell.clashofclans', 'title': 'Clash of Clans', 'summary': 'Epic combat strategy game. Build your village, train your troops & go to battle!', 'installs': '500,000,000+', 'score': 4.500125, 'ratings': 61148515.0, 'developer': 'Supercell', 'categories': \"[{'name': 'Strategy', 'id': 'GAME_STRATEGY'}, {'name': 'Build & battle', 'id': None}, {'name': 'Casual', 'id': 'GAME_CASUAL'}, {'name': 'Single player', 'id': None}, {'name': 'Multiplayer', 'id': None}, {'name': 'Stylized', 'id': None}, {'name': 'Cartoon', 'id': None}]\", 'icon': 'https://play-lh.googleusercontent.com/LByrur1mTmPeNr0ljI-uAUcct1rzmTve5Esau1SwoAzjBXQUby6uHIfHbF9TAT51mgHm', 'headerImage': 'https://play-lh.googleusercontent.com/D6u3M1r7IM2Xr9IZa-R0OTs4I4fIMBXEKJdQbLRtOxAmfTOH4GVtEFPXCq23IvlZpcg', 'contentRating': 'Rated for 7+', 'contentRatingDescription': 'Mild Violence', 'released': 'Sep 30, 2013', 'lastUpdatedOn': 'May 3, 2024', 'version': '16.253.25', 'row': 0})"
      ]
     },
     "execution_count": 14,
     "metadata": {},
     "output_type": "execute_result"
    }
   ],
   "source": [
    "loader = CsvDocumentLoader(file_path=csv_file, content_column=\"description\",  metadata_columns=metadata_columns_list)\n",
    "docs = loader.load()\n",
    "docs[0]"
   ]
  },
  {
   "cell_type": "code",
   "execution_count": null,
   "metadata": {},
   "outputs": [],
   "source": []
  },
  {
   "cell_type": "code",
   "execution_count": 15,
   "metadata": {},
   "outputs": [
    {
     "data": {
      "text/plain": [
       "58"
      ]
     },
     "execution_count": 15,
     "metadata": {},
     "output_type": "execute_result"
    }
   ],
   "source": [
    "len(docs)\n"
   ]
  },
  {
   "cell_type": "code",
   "execution_count": 70,
   "metadata": {},
   "outputs": [],
   "source": [
    "# Transform data\n",
    "text_splitter = CharacterTextSplitter(chunk_size=1000, chunk_overlap=10)\n",
    "texts = text_splitter.split_documents(data)"
   ]
  },
  {
   "cell_type": "code",
   "execution_count": 71,
   "metadata": {},
   "outputs": [],
   "source": [
    "\n",
    "# text_splitter = RecursiveCharacterTextSplitter(chunk_size=1000, chunk_overlap=10)\n",
    "# text_chunks = text_splitter.split_documents(docs)"
   ]
  },
  {
   "cell_type": "code",
   "execution_count": 72,
   "metadata": {},
   "outputs": [
    {
     "data": {
      "text/plain": [
       "[Document(page_content='Join millions of players worldwide as you build your village, raise a clan, and compete in epic Clan Wars! Mustachioed Barbarians, fire wielding Wizards, and other unique troops are waiting for you! Enter the world of Clash! Classic Features: ● Join a Clan of fellow players or start your own and invite friends. ● Fight in Clan Wars as a team against millions of active players across the globe. ● Test your skills in the competitive Clan War Leagues and prove you’re the best. ● Forge alliances, work together with your Clan in Clan Games to earn valuable Magic items. ● Plan your unique battle strategy with countless combinations of Spells, Troops, and Heroes! ● Compete with the best players from around the world and rise to the top of the Leaderboard in Legend League. ● Collect resources and steal loot from other players to upgrade your own Village and turn it into a stronghold.', metadata={'appId_or_package_name': 'com.supercell.clashofclans', 'title': 'Clash of Clans', 'summary': 'Epic combat strategy game. Build your village, train your troops & go to battle!', 'installs': '500,000,000+', 'score': 4.500125, 'ratings': 61148515.0, 'developer': 'Supercell', 'categories': \"[{'name': 'Strategy', 'id': 'GAME_STRATEGY'}, {'name': 'Build & battle', 'id': None}, {'name': 'Casual', 'id': 'GAME_CASUAL'}, {'name': 'Single player', 'id': None}, {'name': 'Multiplayer', 'id': None}, {'name': 'Stylized', 'id': None}, {'name': 'Cartoon', 'id': None}]\", 'icon': 'https://play-lh.googleusercontent.com/LByrur1mTmPeNr0ljI-uAUcct1rzmTve5Esau1SwoAzjBXQUby6uHIfHbF9TAT51mgHm', 'headerImage': 'https://play-lh.googleusercontent.com/D6u3M1r7IM2Xr9IZa-R0OTs4I4fIMBXEKJdQbLRtOxAmfTOH4GVtEFPXCq23IvlZpcg', 'contentRating': 'Rated for 7+', 'contentRatingDescription': 'Mild Violence', 'released': 'Sep 30, 2013', 'lastUpdatedOn': 'May 3, 2024', 'version': '16.253.25', 'row': 0}),\n",
       " Document(page_content='● Defend against enemy attacks with a multitude of Towers, Cannons, Bombs, Traps, Mortars, and Walls. ● Unlock epic Heroes like the Barbarian King, Archer Queen, Grand Warden, Royal Champion, and Battle Machine. ● Research upgrades in your Laboratory to make your Troops, Spells, and Siege Machines even more powerful. ● Create your own custom PVP experiences through Friendly Challenges, Friendly Wars, and special live events. ● Watch Clanmates attack and defend in real-time as a spectator or check out the video replays. ● Fight against the Goblin King in a single player campaign mode through the realm. ● Learn new tactics and experiment with your army and Clan Castle troops in Practice Mode. ● Journey to the Builder Base and discover new buildings and characters in a mysterious world. ● Turn your Builder Base into an unbeatable fortress and defeat rival players in Versus Battles. ● Collect exclusive Hero Skins and Sceneries to customize your Village.', metadata={'appId_or_package_name': 'com.supercell.clashofclans', 'title': 'Clash of Clans', 'summary': 'Epic combat strategy game. Build your village, train your troops & go to battle!', 'installs': '500,000,000+', 'score': 4.500125, 'ratings': 61148515.0, 'developer': 'Supercell', 'categories': \"[{'name': 'Strategy', 'id': 'GAME_STRATEGY'}, {'name': 'Build & battle', 'id': None}, {'name': 'Casual', 'id': 'GAME_CASUAL'}, {'name': 'Single player', 'id': None}, {'name': 'Multiplayer', 'id': None}, {'name': 'Stylized', 'id': None}, {'name': 'Cartoon', 'id': None}]\", 'icon': 'https://play-lh.googleusercontent.com/LByrur1mTmPeNr0ljI-uAUcct1rzmTve5Esau1SwoAzjBXQUby6uHIfHbF9TAT51mgHm', 'headerImage': 'https://play-lh.googleusercontent.com/D6u3M1r7IM2Xr9IZa-R0OTs4I4fIMBXEKJdQbLRtOxAmfTOH4GVtEFPXCq23IvlZpcg', 'contentRating': 'Rated for 7+', 'contentRatingDescription': 'Mild Violence', 'released': 'Sep 30, 2013', 'lastUpdatedOn': 'May 3, 2024', 'version': '16.253.25', 'row': 0}),\n",
       " Document(page_content=\"What are you waiting for, Chief? Join the action today. PLEASE NOTE! Clash of Clans is free to download and play, however, some game items can also be purchased for real money. If you don't want to use this feature, please disable in-app purchases in your device's settings. Also, under our Terms of Service and Privacy Policy, you must be at least 13 years of age to play or download Clash of Clans. A network connection is also required. If you have fun playing Clash of Clans, you may also enjoy other Supercell games like Clash Royale, Brawl Stars, Boom Beach, and Hay Day. Make sure to check those out! Support: Chief, are you having problems? Visit https://help.supercellsupport.com/clash-of-clans/en/index.html or http://supr.cl/ClashForum or contact us in game by going to Settings > Help and Support. Privacy Policy: http://www.supercell.net/privacy-policy/ Terms of Service: http://www.supercell.net/terms-of-service/ Parent’s Guide: http://www.supercell.net/parents\", metadata={'appId_or_package_name': 'com.supercell.clashofclans', 'title': 'Clash of Clans', 'summary': 'Epic combat strategy game. Build your village, train your troops & go to battle!', 'installs': '500,000,000+', 'score': 4.500125, 'ratings': 61148515.0, 'developer': 'Supercell', 'categories': \"[{'name': 'Strategy', 'id': 'GAME_STRATEGY'}, {'name': 'Build & battle', 'id': None}, {'name': 'Casual', 'id': 'GAME_CASUAL'}, {'name': 'Single player', 'id': None}, {'name': 'Multiplayer', 'id': None}, {'name': 'Stylized', 'id': None}, {'name': 'Cartoon', 'id': None}]\", 'icon': 'https://play-lh.googleusercontent.com/LByrur1mTmPeNr0ljI-uAUcct1rzmTve5Esau1SwoAzjBXQUby6uHIfHbF9TAT51mgHm', 'headerImage': 'https://play-lh.googleusercontent.com/D6u3M1r7IM2Xr9IZa-R0OTs4I4fIMBXEKJdQbLRtOxAmfTOH4GVtEFPXCq23IvlZpcg', 'contentRating': 'Rated for 7+', 'contentRatingDescription': 'Mild Violence', 'released': 'Sep 30, 2013', 'lastUpdatedOn': 'May 3, 2024', 'version': '16.253.25', 'row': 0}),\n",
       " Document(page_content='Enter the Arena! Build your Battle Deck and outsmart the enemy in fast real-time battles. From the creators of CLASH OF CLANS comes a real-time multiplayer battle game starring your favourite Clash characters and more. Start battling against players from around the world! BECOME A MASTER OF STRATEGY AND DECK BUILDING Choose unique Cards to your Battle Deck and head to the Arena for Battle! Place your Cards right and knock down the enemy King and Princesses from their Towers in a strategic and fast-paced match. COLLECT AND UPGRADE 100+ CARDS Hog Rider! Collect and upgrade 100+ Cards featuring the Clash of Clans troops, spells and defences you know and love and many others. Win battles and progress to new Arenas to unlock powerful new Cards to your collection! BATTLE YOUR WAY TO THE TOP Battle your way to the League and Global Tournaments to match against the best players in the world. Compete for glory and rewards! SEASONAL EVENTS', metadata={'appId_or_package_name': 'com.supercell.clashroyale', 'title': 'Clash Royale', 'summary': 'Clash Royale is a real-time, head-to-head battle game set in the Clash Universe.', 'installs': '500,000,000+', 'score': 4.1783657, 'ratings': 37525676.0, 'developer': 'Supercell', 'categories': \"[{'name': 'Strategy', 'id': 'GAME_STRATEGY'}, {'name': 'Tactics', 'id': None}, {'name': 'Casual', 'id': 'GAME_CASUAL'}, {'name': 'Multiplayer', 'id': None}, {'name': 'Competitive multiplayer', 'id': None}, {'name': 'Single player', 'id': None}, {'name': 'Stylized', 'id': None}]\", 'icon': 'https://play-lh.googleusercontent.com/z950eFx-wowoAV2KgHast5YFcrxoGJtY18fYd_eMgvEDVn8_tsJwApy4Dbs1iqE2tAjX', 'headerImage': 'https://play-lh.googleusercontent.com/s9qs3woasHqqz_FbBoHmsrdHyxIiO5wtuurXR9wqJII_5DSOxFyhzcjgdKVVgjXtuiw', 'contentRating': 'Rated for 7+', 'contentRatingDescription': 'Mild Violence', 'released': 'Mar 1, 2016', 'lastUpdatedOn': 'Apr 17, 2024', 'version': '60256021', 'row': 1}),\n",
       " Document(page_content='Unlock new Seasonal items like Tower Skins, Emotes and powerful Magic Items with the Season Pass and participate in fun Challenges that put your skills to the test! JOIN A CLAN AND GO TO WAR Join or form a Clan with other players to share Cards and battle in Clan Wars for BIG rewards! See you in the Arena! PLEASE NOTE! Clash Royale is free to download and play, however, some game items can also be purchased for real money. If you do not want to use this feature, please set up password protection for purchases in the settings of your Google Play Store app. Also, under our Terms of Service and Privacy Policy, you must be at least 13 years of age to play or download Clash Royale. A network connection is also required. Support Are you having problems? Visit http://supercell.helpshift.com/a/clash-royale/ or http://supr.cl/ClashRoyaleForum or contact us in game by going to Settings > Help and Support. Privacy Policy: http://supercell.com/en/privacy-policy/', metadata={'appId_or_package_name': 'com.supercell.clashroyale', 'title': 'Clash Royale', 'summary': 'Clash Royale is a real-time, head-to-head battle game set in the Clash Universe.', 'installs': '500,000,000+', 'score': 4.1783657, 'ratings': 37525676.0, 'developer': 'Supercell', 'categories': \"[{'name': 'Strategy', 'id': 'GAME_STRATEGY'}, {'name': 'Tactics', 'id': None}, {'name': 'Casual', 'id': 'GAME_CASUAL'}, {'name': 'Multiplayer', 'id': None}, {'name': 'Competitive multiplayer', 'id': None}, {'name': 'Single player', 'id': None}, {'name': 'Stylized', 'id': None}]\", 'icon': 'https://play-lh.googleusercontent.com/z950eFx-wowoAV2KgHast5YFcrxoGJtY18fYd_eMgvEDVn8_tsJwApy4Dbs1iqE2tAjX', 'headerImage': 'https://play-lh.googleusercontent.com/s9qs3woasHqqz_FbBoHmsrdHyxIiO5wtuurXR9wqJII_5DSOxFyhzcjgdKVVgjXtuiw', 'contentRating': 'Rated for 7+', 'contentRatingDescription': 'Mild Violence', 'released': 'Mar 1, 2016', 'lastUpdatedOn': 'Apr 17, 2024', 'version': '60256021', 'row': 1})]"
      ]
     },
     "execution_count": 72,
     "metadata": {},
     "output_type": "execute_result"
    }
   ],
   "source": [
    "text_chunks[:5]"
   ]
  },
  {
   "cell_type": "code",
   "execution_count": 73,
   "metadata": {},
   "outputs": [
    {
     "data": {
      "text/plain": [
       "167"
      ]
     },
     "execution_count": 73,
     "metadata": {},
     "output_type": "execute_result"
    }
   ],
   "source": [
    "len(text_chunks)\n"
   ]
  },
  {
   "cell_type": "code",
   "execution_count": null,
   "metadata": {},
   "outputs": [],
   "source": []
  },
  {
   "cell_type": "code",
   "execution_count": 109,
   "metadata": {},
   "outputs": [],
   "source": [
    "\n",
    "from langchain_google_genai import GoogleGenerativeAIEmbeddings\n",
    "\n",
    "from langchain.prompts.chat import ChatPromptTemplate"
   ]
  },
  {
   "cell_type": "code",
   "execution_count": 110,
   "metadata": {},
   "outputs": [],
   "source": [
    "model = ChatGoogleGenerativeAI(\n",
    "    model=\"gemini-1.5-pro-latest\", api_key=gemini_api_key, temperature=0.3,  convert_system_message_to_human=True\n",
    ")\n",
    "\n",
    "genai.configure(api_key=gemini_api_key)\n"
   ]
  },
  {
   "cell_type": "code",
   "execution_count": null,
   "metadata": {},
   "outputs": [],
   "source": []
  },
  {
   "cell_type": "code",
   "execution_count": 74,
   "metadata": {},
   "outputs": [],
   "source": [
    "# Clean up our Documents' content\n",
    "import re\n",
    "\n",
    "def clean_up_text(content: str) -> str:\n",
    "    \"\"\"\n",
    "    Remove unwanted characters and patterns in text input.\n",
    "\n",
    "    :param content: Text input.\n",
    "    \n",
    "    :return: Cleaned version of original text input.\n",
    "    \"\"\"\n",
    "\n",
    "    # Fix hyphenated words broken by newline\n",
    "    content = re.sub(r'(\\w+)-\\n(\\w+)', r'\\1\\2', content)\n",
    "\n",
    "    # Remove specific unwanted patterns and characters\n",
    "    unwanted_patterns = [\n",
    "        \"\\\\n\", \"  —\", \"——————————\", \"—————————\", \"—————\",\n",
    "        r'\\\\u[\\dA-Fa-f]{4}', r'\\uf075', r'\\uf0b7'\n",
    "    ]\n",
    "    for pattern in unwanted_patterns:\n",
    "        content = re.sub(pattern, \"\", content)\n",
    "\n",
    "    # Fix improperly spaced hyphenated words and normalize whitespace\n",
    "    content = re.sub(r'(\\w)\\s*-\\s*(\\w)', r'\\1-\\2', content)\n",
    "    content = re.sub(r'\\s+', ' ', content)\n",
    "\n",
    "    return content\n",
    "\n",
    "# Call function\n",
    "cleaned_docs = []\n",
    "for d in text_chunks: \n",
    "    cleaned_text = clean_up_text(d.page_content)\n",
    "    d.page_content = cleaned_text\n",
    "    cleaned_docs.append(d)\n"
   ]
  },
  {
   "cell_type": "code",
   "execution_count": 75,
   "metadata": {},
   "outputs": [
    {
     "data": {
      "text/plain": [
       "[Document(page_content='Join millions of players worldwide as you build your village, raise a clan, and compete in epic Clan Wars! Mustachioed Barbarians, fire wielding Wizards, and other unique troops are waiting for you! Enter the world of Clash! Classic Features: ● Join a Clan of fellow players or start your own and invite friends. ● Fight in Clan Wars as a team against millions of active players across the globe. ● Test your skills in the competitive Clan War Leagues and prove you’re the best. ● Forge alliances, work together with your Clan in Clan Games to earn valuable Magic items. ● Plan your unique battle strategy with countless combinations of Spells, Troops, and Heroes! ● Compete with the best players from around the world and rise to the top of the Leaderboard in Legend League. ● Collect resources and steal loot from other players to upgrade your own Village and turn it into a stronghold.', metadata={'appId_or_package_name': 'com.supercell.clashofclans', 'title': 'Clash of Clans', 'summary': 'Epic combat strategy game. Build your village, train your troops & go to battle!', 'installs': '500,000,000+', 'score': 4.500125, 'ratings': 61148515.0, 'developer': 'Supercell', 'categories': \"[{'name': 'Strategy', 'id': 'GAME_STRATEGY'}, {'name': 'Build & battle', 'id': None}, {'name': 'Casual', 'id': 'GAME_CASUAL'}, {'name': 'Single player', 'id': None}, {'name': 'Multiplayer', 'id': None}, {'name': 'Stylized', 'id': None}, {'name': 'Cartoon', 'id': None}]\", 'icon': 'https://play-lh.googleusercontent.com/LByrur1mTmPeNr0ljI-uAUcct1rzmTve5Esau1SwoAzjBXQUby6uHIfHbF9TAT51mgHm', 'headerImage': 'https://play-lh.googleusercontent.com/D6u3M1r7IM2Xr9IZa-R0OTs4I4fIMBXEKJdQbLRtOxAmfTOH4GVtEFPXCq23IvlZpcg', 'contentRating': 'Rated for 7+', 'contentRatingDescription': 'Mild Violence', 'released': 'Sep 30, 2013', 'lastUpdatedOn': 'May 3, 2024', 'version': '16.253.25', 'row': 0}),\n",
       " Document(page_content='● Defend against enemy attacks with a multitude of Towers, Cannons, Bombs, Traps, Mortars, and Walls. ● Unlock epic Heroes like the Barbarian King, Archer Queen, Grand Warden, Royal Champion, and Battle Machine. ● Research upgrades in your Laboratory to make your Troops, Spells, and Siege Machines even more powerful. ● Create your own custom PVP experiences through Friendly Challenges, Friendly Wars, and special live events. ● Watch Clanmates attack and defend in real-time as a spectator or check out the video replays. ● Fight against the Goblin King in a single player campaign mode through the realm. ● Learn new tactics and experiment with your army and Clan Castle troops in Practice Mode. ● Journey to the Builder Base and discover new buildings and characters in a mysterious world. ● Turn your Builder Base into an unbeatable fortress and defeat rival players in Versus Battles. ● Collect exclusive Hero Skins and Sceneries to customize your Village.', metadata={'appId_or_package_name': 'com.supercell.clashofclans', 'title': 'Clash of Clans', 'summary': 'Epic combat strategy game. Build your village, train your troops & go to battle!', 'installs': '500,000,000+', 'score': 4.500125, 'ratings': 61148515.0, 'developer': 'Supercell', 'categories': \"[{'name': 'Strategy', 'id': 'GAME_STRATEGY'}, {'name': 'Build & battle', 'id': None}, {'name': 'Casual', 'id': 'GAME_CASUAL'}, {'name': 'Single player', 'id': None}, {'name': 'Multiplayer', 'id': None}, {'name': 'Stylized', 'id': None}, {'name': 'Cartoon', 'id': None}]\", 'icon': 'https://play-lh.googleusercontent.com/LByrur1mTmPeNr0ljI-uAUcct1rzmTve5Esau1SwoAzjBXQUby6uHIfHbF9TAT51mgHm', 'headerImage': 'https://play-lh.googleusercontent.com/D6u3M1r7IM2Xr9IZa-R0OTs4I4fIMBXEKJdQbLRtOxAmfTOH4GVtEFPXCq23IvlZpcg', 'contentRating': 'Rated for 7+', 'contentRatingDescription': 'Mild Violence', 'released': 'Sep 30, 2013', 'lastUpdatedOn': 'May 3, 2024', 'version': '16.253.25', 'row': 0}),\n",
       " Document(page_content=\"What are you waiting for, Chief? Join the action today. PLEASE NOTE! Clash of Clans is free to download and play, however, some game items can also be purchased for real money. If you don't want to use this feature, please disable in-app purchases in your device's settings. Also, under our Terms of Service and Privacy Policy, you must be at least 13 years of age to play or download Clash of Clans. A network connection is also required. If you have fun playing Clash of Clans, you may also enjoy other Supercell games like Clash Royale, Brawl Stars, Boom Beach, and Hay Day. Make sure to check those out! Support: Chief, are you having problems? Visit https://help.supercellsupport.com/clash-of-clans/en/index.html or http://supr.cl/ClashForum or contact us in game by going to Settings > Help and Support. Privacy Policy: http://www.supercell.net/privacy-policy/ Terms of Service: http://www.supercell.net/terms-of-service/ Parent’s Guide: http://www.supercell.net/parents\", metadata={'appId_or_package_name': 'com.supercell.clashofclans', 'title': 'Clash of Clans', 'summary': 'Epic combat strategy game. Build your village, train your troops & go to battle!', 'installs': '500,000,000+', 'score': 4.500125, 'ratings': 61148515.0, 'developer': 'Supercell', 'categories': \"[{'name': 'Strategy', 'id': 'GAME_STRATEGY'}, {'name': 'Build & battle', 'id': None}, {'name': 'Casual', 'id': 'GAME_CASUAL'}, {'name': 'Single player', 'id': None}, {'name': 'Multiplayer', 'id': None}, {'name': 'Stylized', 'id': None}, {'name': 'Cartoon', 'id': None}]\", 'icon': 'https://play-lh.googleusercontent.com/LByrur1mTmPeNr0ljI-uAUcct1rzmTve5Esau1SwoAzjBXQUby6uHIfHbF9TAT51mgHm', 'headerImage': 'https://play-lh.googleusercontent.com/D6u3M1r7IM2Xr9IZa-R0OTs4I4fIMBXEKJdQbLRtOxAmfTOH4GVtEFPXCq23IvlZpcg', 'contentRating': 'Rated for 7+', 'contentRatingDescription': 'Mild Violence', 'released': 'Sep 30, 2013', 'lastUpdatedOn': 'May 3, 2024', 'version': '16.253.25', 'row': 0}),\n",
       " Document(page_content='Enter the Arena! Build your Battle Deck and outsmart the enemy in fast real-time battles. From the creators of CLASH OF CLANS comes a real-time multiplayer battle game starring your favourite Clash characters and more. Start battling against players from around the world! BECOME A MASTER OF STRATEGY AND DECK BUILDING Choose unique Cards to your Battle Deck and head to the Arena for Battle! Place your Cards right and knock down the enemy King and Princesses from their Towers in a strategic and fast-paced match. COLLECT AND UPGRADE 100+ CARDS Hog Rider! Collect and upgrade 100+ Cards featuring the Clash of Clans troops, spells and defences you know and love and many others. Win battles and progress to new Arenas to unlock powerful new Cards to your collection! BATTLE YOUR WAY TO THE TOP Battle your way to the League and Global Tournaments to match against the best players in the world. Compete for glory and rewards! SEASONAL EVENTS', metadata={'appId_or_package_name': 'com.supercell.clashroyale', 'title': 'Clash Royale', 'summary': 'Clash Royale is a real-time, head-to-head battle game set in the Clash Universe.', 'installs': '500,000,000+', 'score': 4.1783657, 'ratings': 37525676.0, 'developer': 'Supercell', 'categories': \"[{'name': 'Strategy', 'id': 'GAME_STRATEGY'}, {'name': 'Tactics', 'id': None}, {'name': 'Casual', 'id': 'GAME_CASUAL'}, {'name': 'Multiplayer', 'id': None}, {'name': 'Competitive multiplayer', 'id': None}, {'name': 'Single player', 'id': None}, {'name': 'Stylized', 'id': None}]\", 'icon': 'https://play-lh.googleusercontent.com/z950eFx-wowoAV2KgHast5YFcrxoGJtY18fYd_eMgvEDVn8_tsJwApy4Dbs1iqE2tAjX', 'headerImage': 'https://play-lh.googleusercontent.com/s9qs3woasHqqz_FbBoHmsrdHyxIiO5wtuurXR9wqJII_5DSOxFyhzcjgdKVVgjXtuiw', 'contentRating': 'Rated for 7+', 'contentRatingDescription': 'Mild Violence', 'released': 'Mar 1, 2016', 'lastUpdatedOn': 'Apr 17, 2024', 'version': '60256021', 'row': 1}),\n",
       " Document(page_content='Unlock new Seasonal items like Tower Skins, Emotes and powerful Magic Items with the Season Pass and participate in fun Challenges that put your skills to the test! JOIN A CLAN AND GO TO WAR Join or form a Clan with other players to share Cards and battle in Clan Wars for BIG rewards! See you in the Arena! PLEASE NOTE! Clash Royale is free to download and play, however, some game items can also be purchased for real money. If you do not want to use this feature, please set up password protection for purchases in the settings of your Google Play Store app. Also, under our Terms of Service and Privacy Policy, you must be at least 13 years of age to play or download Clash Royale. A network connection is also required. Support Are you having problems? Visit http://supercell.helpshift.com/a/clash-royale/ or http://supr.cl/ClashRoyaleForum or contact us in game by going to Settings > Help and Support. Privacy Policy: http://supercell.com/en/privacy-policy/', metadata={'appId_or_package_name': 'com.supercell.clashroyale', 'title': 'Clash Royale', 'summary': 'Clash Royale is a real-time, head-to-head battle game set in the Clash Universe.', 'installs': '500,000,000+', 'score': 4.1783657, 'ratings': 37525676.0, 'developer': 'Supercell', 'categories': \"[{'name': 'Strategy', 'id': 'GAME_STRATEGY'}, {'name': 'Tactics', 'id': None}, {'name': 'Casual', 'id': 'GAME_CASUAL'}, {'name': 'Multiplayer', 'id': None}, {'name': 'Competitive multiplayer', 'id': None}, {'name': 'Single player', 'id': None}, {'name': 'Stylized', 'id': None}]\", 'icon': 'https://play-lh.googleusercontent.com/z950eFx-wowoAV2KgHast5YFcrxoGJtY18fYd_eMgvEDVn8_tsJwApy4Dbs1iqE2tAjX', 'headerImage': 'https://play-lh.googleusercontent.com/s9qs3woasHqqz_FbBoHmsrdHyxIiO5wtuurXR9wqJII_5DSOxFyhzcjgdKVVgjXtuiw', 'contentRating': 'Rated for 7+', 'contentRatingDescription': 'Mild Violence', 'released': 'Mar 1, 2016', 'lastUpdatedOn': 'Apr 17, 2024', 'version': '60256021', 'row': 1})]"
      ]
     },
     "execution_count": 75,
     "metadata": {},
     "output_type": "execute_result"
    }
   ],
   "source": [
    "text_chunks[:5]\n"
   ]
  },
  {
   "cell_type": "code",
   "execution_count": 76,
   "metadata": {},
   "outputs": [],
   "source": [
    "from langchain_google_genai import GoogleGenerativeAIEmbeddings\n"
   ]
  },
  {
   "cell_type": "code",
   "execution_count": 77,
   "metadata": {},
   "outputs": [],
   "source": [
    "genai.configure(api_key=gemini_api_key)\n",
    "embeddings = GoogleGenerativeAIEmbeddings(model=\"models/embedding-001\")\n",
    "# Setting Tempreture to 0.3 for getting low risk results\n",
    "\n",
    "model = ChatGoogleGenerativeAI(model=\"gemini-1.5-pro-latest\",api_key=gemini_api_key,temperature=0.3)"
   ]
  },
  {
   "cell_type": "code",
   "execution_count": 115,
   "metadata": {},
   "outputs": [],
   "source": [
    "# Fill Vector DB\n",
    "docsearch = FAISS.from_documents(texts, embeddings)\n",
    "retriever=docsearch.as_retriever()"
   ]
  },
  {
   "cell_type": "code",
   "execution_count": 116,
   "metadata": {},
   "outputs": [
    {
     "data": {
      "text/plain": [
       "Document(page_content=\"appId_or_package_name: com.vizorapps.klondike\\ntitle: Klondike Adventures\\ndescription: Do you like travelling to odd places? 🗺 Fancy renovating abandoned spots? ⚒️ Or maybe you just want to take a break and play a relaxing mini-game? 👾\\r\\n\\r\\nKlondike has it all! Join in for so much fun:\\r\\n\\r\\n🍿 <b>FOLLOW THE STORY</b> of Paul and Kate going through quite a life! This is going to feel like your favorite TV show, we promise!\\r\\n\\r\\n💫 <b>EXPLORE</b> numerous locations set in various landscapes and having their own distinct content. This game has it all! 🤩\\r\\n\\r\\n🏘 <b>BUILD</b> a flourishing city with factories & farms, mine for resources and craft everything you need for travels, quests, new buildings and orders from the locals dropping by your town.\\r\\n\\r\\n🐏 <b>FARM</b> simulation in the wild! Raise animals & harvest crops, make food for yourself and to trade.\\r\\n\\r\\n🏆 <b>COMPETE</b> with neighboring farm owners & take as many craft and farm orders as you can during the timed events held among all the players of the simulation game!  \\r\\n\\r\\n✅ <b>UNLOCK</b> challenging quests! Help explorers Kate and Paul solve mysteries and build up ancient ruins in every town or village they travel to.\\r\\n\\r\\n🎯 <b>PLAY</b> fun mini-games at your farm and at other locations!\\r\\n\\r\\n🏔 <b>ENJOY</b> the breathtaking scenery & landscapes of various locations! Every corner of your small northern town is packed with wonders of nature and history!\\r\\n\\r\\n👨\\u200d🌾 <b>MEET</b> outstanding game characters and hear their compelling stories during your journeys from one town to another!\\r\\n\\r\\n🌄 The wild lands hide many thrilling adventures. Enjoy the best Klondike simulator! 🎒\\r\\n\\r\\nBy downloading this application, you agree to Vizor Games’ User Agreement and Privacy Notice.\\r\\n\\r\\nUnder our User Agreement and Privacy Notice, only persons of 18 years of age or older may download and play Klondike Adventures.\\r\\n\\r\\nPLEASE NOTE: Klondike Adventures is free to download and install. However, some game items can be purchased for real money. If you do not want to use this feature, please set up password protection for purchases in the settings of your Google Play Store app. Additionally, a network connection is required to play.\\r\\n\\r\\nPrivacy Notice: https://vizor-games.com/privacy-notice/ \\r\\nUser Agreement: https://vizor-games.com/user-agreement/\\nsummary: Farming games: Harvest crops and Grow your own farm\\ninstalls: 50,000,000+\\nscore: 4.0554304\\nratings: 1232980.0\\ndeveloper: VIZOR APPS LTD.\\ncategories: [{'name': 'Simulation', 'id': 'GAME_SIMULATION'}, {'name': 'Management', 'id': None}, {'name': 'Farming', 'id': None}, {'name': 'Casual', 'id': 'GAME_CASUAL'}, {'name': 'Single player', 'id': None}, {'name': 'Stylized', 'id': None}]\\nicon: https://play-lh.googleusercontent.com/jW61KFsluyqSfGV_GhBNWdNJfmNfF8vApum1WiWw2hNR7cirY4hIaGd6fQ2zUGomRXw\\nheaderImage: https://play-lh.googleusercontent.com/vyiC4Rx0e5no6Fiz_ySA-S6Y8evqPNyR_BopYSiTmrzzlWydDDFAD7jASAXRmxJ2Qxyf\\ncontentRating: Rated for 3+\\ncontentRatingDescription: \\nreleased: Apr 3, 2018\\nlastUpdatedOn: May 10, 2024\\nversion: 2.121.1\", metadata={'source': 'Data/app_details.csv', 'row': 4})"
      ]
     },
     "execution_count": 116,
     "metadata": {},
     "output_type": "execute_result"
    }
   ],
   "source": [
    "ans = docsearch.similarity_search(\"Which games may you recommend for adventure lover?\")\n",
    "\n",
    "ans[0]\n"
   ]
  },
  {
   "cell_type": "code",
   "execution_count": 117,
   "metadata": {},
   "outputs": [
    {
     "data": {
      "text/plain": [
       "Document(page_content=\"appId_or_package_name: com.vizorapps.klondike\\ntitle: Klondike Adventures\\ndescription: Do you like travelling to odd places? 🗺 Fancy renovating abandoned spots? ⚒️ Or maybe you just want to take a break and play a relaxing mini-game? 👾\\r\\n\\r\\nKlondike has it all! Join in for so much fun:\\r\\n\\r\\n🍿 <b>FOLLOW THE STORY</b> of Paul and Kate going through quite a life! This is going to feel like your favorite TV show, we promise!\\r\\n\\r\\n💫 <b>EXPLORE</b> numerous locations set in various landscapes and having their own distinct content. This game has it all! 🤩\\r\\n\\r\\n🏘 <b>BUILD</b> a flourishing city with factories & farms, mine for resources and craft everything you need for travels, quests, new buildings and orders from the locals dropping by your town.\\r\\n\\r\\n🐏 <b>FARM</b> simulation in the wild! Raise animals & harvest crops, make food for yourself and to trade.\\r\\n\\r\\n🏆 <b>COMPETE</b> with neighboring farm owners & take as many craft and farm orders as you can during the timed events held among all the players of the simulation game!  \\r\\n\\r\\n✅ <b>UNLOCK</b> challenging quests! Help explorers Kate and Paul solve mysteries and build up ancient ruins in every town or village they travel to.\\r\\n\\r\\n🎯 <b>PLAY</b> fun mini-games at your farm and at other locations!\\r\\n\\r\\n🏔 <b>ENJOY</b> the breathtaking scenery & landscapes of various locations! Every corner of your small northern town is packed with wonders of nature and history!\\r\\n\\r\\n👨\\u200d🌾 <b>MEET</b> outstanding game characters and hear their compelling stories during your journeys from one town to another!\\r\\n\\r\\n🌄 The wild lands hide many thrilling adventures. Enjoy the best Klondike simulator! 🎒\\r\\n\\r\\nBy downloading this application, you agree to Vizor Games’ User Agreement and Privacy Notice.\\r\\n\\r\\nUnder our User Agreement and Privacy Notice, only persons of 18 years of age or older may download and play Klondike Adventures.\\r\\n\\r\\nPLEASE NOTE: Klondike Adventures is free to download and install. However, some game items can be purchased for real money. If you do not want to use this feature, please set up password protection for purchases in the settings of your Google Play Store app. Additionally, a network connection is required to play.\\r\\n\\r\\nPrivacy Notice: https://vizor-games.com/privacy-notice/ \\r\\nUser Agreement: https://vizor-games.com/user-agreement/\\nsummary: Farming games: Harvest crops and Grow your own farm\\ninstalls: 50,000,000+\\nscore: 4.0554304\\nratings: 1232980.0\\ndeveloper: VIZOR APPS LTD.\\ncategories: [{'name': 'Simulation', 'id': 'GAME_SIMULATION'}, {'name': 'Management', 'id': None}, {'name': 'Farming', 'id': None}, {'name': 'Casual', 'id': 'GAME_CASUAL'}, {'name': 'Single player', 'id': None}, {'name': 'Stylized', 'id': None}]\\nicon: https://play-lh.googleusercontent.com/jW61KFsluyqSfGV_GhBNWdNJfmNfF8vApum1WiWw2hNR7cirY4hIaGd6fQ2zUGomRXw\\nheaderImage: https://play-lh.googleusercontent.com/vyiC4Rx0e5no6Fiz_ySA-S6Y8evqPNyR_BopYSiTmrzzlWydDDFAD7jASAXRmxJ2Qxyf\\ncontentRating: Rated for 3+\\ncontentRatingDescription: \\nreleased: Apr 3, 2018\\nlastUpdatedOn: May 10, 2024\\nversion: 2.121.1\", metadata={'source': 'Data/app_details.csv', 'row': 4})"
      ]
     },
     "execution_count": 117,
     "metadata": {},
     "output_type": "execute_result"
    }
   ],
   "source": [
    "docs = retriever.get_relevant_documents(\"Which games may you recommend for adventure lover?\")\n",
    "\n",
    "docs[0]"
   ]
  },
  {
   "cell_type": "code",
   "execution_count": 118,
   "metadata": {},
   "outputs": [
    {
     "data": {
      "text/plain": [
       "'Based on the provided descriptions, here are the games that might suit an adventure lover:\\n\\n* **Klondike Adventures:** This game offers a blend of adventure, exploration, and city-building. You follow a story, explore new locations, solve mysteries, and build up towns. \\n* **Fortias Saga: Action Adventure:** This game features a classic RPG adventure where you battle monsters, explore diverse worlds, collect resources, and recruit heroes to fight against dark forces. \\n* **Puzzle Legends:** While this game focuses on puzzle-solving, it also features a storyline where you lead a group of heroes against an evil army, explore dungeons, and face unique challenges. \\n\\nThe choice depends on what kind of adventure the person prefers: story-driven exploration, strategic combat, or puzzle-based challenges with a narrative. \\n'"
      ]
     },
     "execution_count": 118,
     "metadata": {},
     "output_type": "execute_result"
    }
   ],
   "source": [
    "qa = RetrievalQA.from_chain_type(llm=model, chain_type=\"stuff\", retriever=retriever)\n",
    "qa.run({\"query\": \"Which games may you recommend for adventure lover?\"} )\n"
   ]
  },
  {
   "cell_type": "code",
   "execution_count": 121,
   "metadata": {},
   "outputs": [
    {
     "data": {
      "text/plain": [
       "'Here are 10 adventure games with their icon image URLs:\\n\\n1. **Klondike Adventures**\\n   - Description: Embark on a journey with Paul and Kate, exploring diverse landscapes, building a flourishing city, and farming in the wild.\\n   - Icon URL: https://play-lh.googleusercontent.com/jW61KFsluyqSfGV_GhBNWdNJfmNfF8vApum1WiWw2hNR7cirY4hIaGd6fQ2zUGomRXw\\n\\n2. **Fortias Saga: Action Adventure**\\n   - Description: Engage in a war against dark forces, collecting resources, recruiting heroes, and battling monsters across various worlds.\\n   - Icon URL: https://play-lh.googleusercontent.com/-T2g7Lcbim190MJ_g7qnZmTn7zjpdrkryPeHSanFq81Je5MJUeG_0ah3KiqdesC_LeU\\n\\n3. **Clash of Clans**\\n   - Description: Build your village, raise a clan, and compete in epic Clan Wars in this popular strategy game.\\n   - Icon URL: https://play-lh.googleusercontent.com/LByrur1mTmPeNr0ljI-uAUcct1rzmTve5Esau1SwoAzjBXQUby6uHIfHbF9TAT51mgHm\\n\\n4. **Mythic Samkok**\\n   - Description: Experience the Three Kingdoms era with strategic battles, thrilling combat, and easy upgrades in this MMORPG.\\n   - Icon URL: https://play-lh.googleusercontent.com/C4gz0QN80HKvBzoEndxCPj8FaKWYfauoztkZH4VAnDVaHjBsZUFMQGfdjQb7fejNs0d8 \\n\\n5. **Pokémon GO** (not in the provided context, but a popular adventure game)\\n   - Description: Explore the real world, catching Pokémon, battling other trainers, and participating in raids.\\n   - Icon URL: https://play-lh.googleusercontent.com/N4bN-oBGY2RBp6tYmh5sK4M2O7yTKrS28b_TR-tNKujdwxfJm4riO99o6UXziA_2xQ\\n\\n6. **Minecraft** (not in the provided context, but a popular adventure game)\\n   - Description: Build anything you can imagine, explore vast worlds, and battle creatures in this sandbox game.\\n   - Icon URL: https://play-lh.googleusercontent.com/VSwhqyK-aQf6yT4RZo6ZgPwsCKD8C9huX3aYjV4K4iE8hgMksO7Rj_wDpxcVh-lA9w\\n\\n7. **The Legend of Zelda: Breath of the Wild** (not on Google Play, but a popular console adventure game)\\n   - Description: Explore a vast open world, solve puzzles, and battle enemies in this critically acclaimed action-adventure game.\\n   - Icon URL: https://www.zeldadungeon.net/wiki/images/thumb/f/fb/BotW_Icon.png/250px-BotW_Icon.png\\n\\n8. **Genshin Impact** (not in the provided context, but a popular adventure game)\\n   - Description: Explore a vast open world, collect characters, and engage in elemental combat in this anime-style RPG.\\n   - Icon URL: https://play-lh.googleusercontent.com/VDjfM2sjcK6d0tY9lMqmBHAivLv0xQ7WvVvaRk7xworeSul0r5t2TbJSzO0OPQ6tCw\\n\\n9. **Stardew Valley** (not in the provided context, but a popular adventure game)\\n   - Description: Escape to the countryside, build a farm, befriend villagers, and explore mysterious mines in this relaxing simulation RPG.\\n   - Icon URL: https://play-lh.googleusercontent.com/HQCzq9Y_5pIqkZg6j2gIsLfD4_T7-zDjd5-kZR6_-QmWhS_bMUPThshzop8ttA_lHg\\n\\n10. **Terraria** (not in the provided context, but a popular adventure game)\\n   - Description: Dig, fight, explore, and build in this 2D action-adventure sandbox game with a focus on crafting and exploration.\\n   - Icon URL: https://play-lh.googleusercontent.com/A7fipCxlorbI3tD_zVEw1Auz2QkRVlEgJ1pMtI-B4c4W6_qS89I_bE2o8xw-T7g=w480-h960-rw \\n'"
      ]
     },
     "execution_count": 121,
     "metadata": {},
     "output_type": "execute_result"
    }
   ],
   "source": [
    "qa.run({\"query\": \"Which games may you recommend for adventure lover give me 10 recommendation?, give me image url too\"} )\n"
   ]
  },
  {
   "cell_type": "code",
   "execution_count": 81,
   "metadata": {},
   "outputs": [],
   "source": [
    "# vector_store = FAISS.from_documents(text_chunks, embedding=embeddings)\n",
    "# vector_store.save_local(\"faiss_index\")"
   ]
  },
  {
   "cell_type": "code",
   "execution_count": 95,
   "metadata": {},
   "outputs": [
    {
     "data": {
      "text/plain": [
       "PromptTemplate(input_variables=['context', 'question'], template='\\nAnswer the question as detailed as possible from the provided context and the metadata, make sure to provide all the details\\nprovided context just say, \"answer is not available in the context\", don\\'t provide the wrong answer\\n\\n\\nContext:\\n {context}?\\n\\nQuestion: \\n{question}\\n\\n\\n\\nInstructions for Game Recommendation:\\n\\n1. Provide a brief overview of the user\\'s gaming preferences or requirements, if available.\\n2. Suggest game titles based on the user\\'s preferences, considering factors such as genre, platform, gameplay style, and user ratings.\\n3. Include a concise description of each recommended game, highlighting its key features, gameplay mechanics, and any unique selling points.\\n4. If applicable, mention any additional information relevant to the user\\'s query, such as in-game purchases, multiplayer options, or compatibility with specific devices.\\n5. Aim to offer a diverse selection of game recommendations to cater to different tastes and preferences.\\n6. Avoid recommending games that may not align with the user\\'s preferences or requirements.\\n\\n\\nAnswer:\\n')"
      ]
     },
     "execution_count": 95,
     "metadata": {},
     "output_type": "execute_result"
    }
   ],
   "source": [
    "prompt_template = \"\"\"\n",
    "Answer the question as detailed as possible from the provided context and the metadata, make sure to provide all the details\n",
    "provided context just say, \"answer is not available in the context\", don't provide the wrong answer\\n\\n\n",
    "Context:\\n {context}?\\n\n",
    "Question: \\n{question}\\n\n",
    "\n",
    "\n",
    "Instructions for Game Recommendation:\n",
    "\n",
    "1. Provide a brief overview of the user's gaming preferences or requirements, if available.\n",
    "2. Suggest game titles based on the user's preferences, considering factors such as genre, platform, gameplay style, and user ratings.\n",
    "3. Include a concise description of each recommended game, highlighting its key features, gameplay mechanics, and any unique selling points.\n",
    "4. If applicable, mention any additional information relevant to the user's query, such as in-game purchases, multiplayer options, or compatibility with specific devices.\n",
    "5. Aim to offer a diverse selection of game recommendations to cater to different tastes and preferences.\n",
    "6. Avoid recommending games that may not align with the user's preferences or requirements.\n",
    "\n",
    "\n",
    "Answer:\n",
    "\"\"\"\n",
    "\n",
    "# model = ChatGoogleGenerativeAI(model=\"gemini-pro\",\n",
    "#                             temperature=0.3)\n",
    "\n",
    "prompt = PromptTemplate(template = prompt_template, input_variables = [\"context\", \"question\"])\n",
    "\n",
    "prompt\n",
    "# return chain"
   ]
  },
  {
   "cell_type": "code",
   "execution_count": 96,
   "metadata": {},
   "outputs": [
    {
     "data": {
      "text/plain": [
       "ChatPromptTemplate(input_variables=['context', 'question'], messages=[HumanMessagePromptTemplate(prompt=PromptTemplate(input_variables=['context', 'question'], template='\\nAnswer the question as detailed as possible from the provided context and the metadata, make sure to provide all the details\\nprovided context just say, \"answer is not available in the context\", don\\'t provide the wrong answer\\n\\n\\nContext:\\n {context}?\\n\\nQuestion: \\n{question}\\n\\n\\n\\nInstructions for Game Recommendation:\\n\\n1. Provide a brief overview of the user\\'s gaming preferences or requirements, if available.\\n2. Suggest game titles based on the user\\'s preferences, considering factors such as genre, platform, gameplay style, and user ratings.\\n3. Include a concise description of each recommended game, highlighting its key features, gameplay mechanics, and any unique selling points.\\n4. If applicable, mention any additional information relevant to the user\\'s query, such as in-game purchases, multiplayer options, or compatibility with specific devices.\\n5. Aim to offer a diverse selection of game recommendations to cater to different tastes and preferences.\\n6. Avoid recommending games that may not align with the user\\'s preferences or requirements.\\n\\n\\nAnswer:\\n'))])"
      ]
     },
     "execution_count": 96,
     "metadata": {},
     "output_type": "execute_result"
    }
   ],
   "source": [
    "from langchain.prompts.chat import ChatPromptTemplate\n",
    "qa_prompt = ChatPromptTemplate.from_messages([(\"human\", prompt_template)])\n",
    "qa_prompt"
   ]
  },
  {
   "cell_type": "code",
   "execution_count": 97,
   "metadata": {},
   "outputs": [],
   "source": [
    "chain = load_qa_chain(llm=model, chain_type=\"stuff\", verbose=True, prompt=qa_prompt)\n"
   ]
  },
  {
   "cell_type": "code",
   "execution_count": 98,
   "metadata": {},
   "outputs": [],
   "source": [
    "user_question = \"Which games may you recommend for adventure lover? \"\n"
   ]
  },
  {
   "cell_type": "code",
   "execution_count": 99,
   "metadata": {},
   "outputs": [],
   "source": [
    "new_db = FAISS.load_local(\"faiss_index\", embeddings,allow_dangerous_deserialization=True)\n",
    "docs = new_db.similarity_search(user_question)"
   ]
  },
  {
   "cell_type": "code",
   "execution_count": 100,
   "metadata": {},
   "outputs": [
    {
     "data": {
      "text/plain": [
       "[Document(page_content='Twitter : https://twitter.com/BrownDust2_EN', metadata={'appId_or_package_name': 'com.neowizgames.game.browndust2', 'title': 'BrownDust2 - Adventure RPG', 'summary': 'Enjoyable JRPG Masterpiece with High End 2D Graphics', 'installs': '1,000,000+', 'score': 4.49, 'ratings': 63295.0, 'developer': 'NEOWIZ', 'categories': \"[{'name': 'Role Playing', 'id': 'GAME_ROLE_PLAYING'}, {'name': 'Turn-based RPG', 'id': None}, {'name': 'Multiplayer', 'id': None}, {'name': 'Competitive multiplayer', 'id': None}, {'name': 'Single player', 'id': None}, {'name': 'Stylized', 'id': None}, {'name': 'Anime', 'id': None}]\", 'icon': 'https://play-lh.googleusercontent.com/vl_iLdKz4F84jKFTa7acfDYe-Uu8zqx4GWKFnSJDViCX_gIIX5RYZYrpnfgouWtvtCk', 'headerImage': 'https://play-lh.googleusercontent.com/dfR5al1SHyNPIQM6wb7G7X53U9TseR6DZgucT2Bb8mrycza1fN_q9PpCdURhIQjRUgE', 'contentRating': 'Rated for 12+', 'contentRatingDescription': 'Sexual Innuendo', 'released': 'Jun 15, 2023', 'lastUpdatedOn': 'May 9, 2024', 'version': '1.59.9', 'row': 30}),\n",
       " Document(page_content='Terms of Use: http://www.gameloft.com/en/conditions-of-use Privacy Policy: http://www.gameloft.com/en/privacy-notice End-User License Agreement: http://www.gameloft.com/en/eula', metadata={'appId_or_package_name': 'com.gameloft.android.ANMP.GloftA9HM', 'title': 'Asphalt 9: Legends', 'summary': 'Sports racing game to drift on the streets. Play online solo & multiplayer mode', 'installs': '100,000,000+', 'score': 4.454135, 'ratings': 2768656.0, 'developer': 'Gameloft SE', 'categories': \"[{'name': 'Racing', 'id': 'GAME_RACING'}, {'name': 'Car race', 'id': None}, {'name': 'Multiplayer', 'id': None}, {'name': 'Competitive multiplayer', 'id': None}, {'name': 'Single player', 'id': None}, {'name': 'Realistic', 'id': None}]\", 'icon': 'https://play-lh.googleusercontent.com/xAv1VUI_x5lGhcb_93XdgeRjQ0aMGk0BP8MxOdJODwEToGRpcYy_yo9JLp5qmWFsW2wX', 'headerImage': 'https://play-lh.googleusercontent.com/58Oj2RSnU5Dt_xbzDBzpxRXY_jHfyoYmNAZg9Q_K3-RXFQqHtANVf5dRrDaQBmezbQ', 'contentRating': 'Rated for 7+', 'contentRatingDescription': 'Mild Violence, Implied Violence', 'released': 'Jul 25, 2018', 'lastUpdatedOn': 'Apr 25, 2024', 'version': '4.6.1b', 'row': 13}),\n",
       " Document(page_content='To have an excellent of music game experience, it is recommended to use headphones. More surprises are waiting for you! Download now and enjoy a new gaming experience!', metadata={'appId_or_package_name': 'beatmaker.edm.musicgames.fluffyhop', 'title': 'Monster Hop：My Fluffy Friends', 'summary': 'Dance into the rhythm of pop music with furry friends!', 'installs': '10,000+', 'score': nan, 'ratings': nan, 'developer': 'Adaric Music', 'categories': \"[{'name': 'Music', 'id': 'GAME_MUSIC'}]\", 'icon': 'https://play-lh.googleusercontent.com/D6tp1348kvMkfj9-jAazF3vfnSQ1c-y0hhiv8l-WeeVtJ0VOm7pjy4HZw3YEXN00cisU', 'headerImage': 'https://play-lh.googleusercontent.com/AJ2CHJihw81MXzlJRrSu44Q5DmhGniHo6gsR3Ek-vYxdUep8K_7xW8egnJoJYcHI6ouX', 'contentRating': 'Rated for 3+', 'contentRatingDescription': nan, 'released': nan, 'lastUpdatedOn': 'May 13, 2024', 'version': nan, 'row': 53}),\n",
       " Document(page_content='Privacy Policy: https://elementalraiders.gamesforaliving.com/privacy-policy/ End-User License Agreement:https://elementalraiders.gamesforaliving.com/tou/', metadata={'appId_or_package_name': 'com.g4al.eraiders', 'title': 'Elemental Raiders', 'summary': 'Command strategic battles in a visually stunning multiplayer arena!', 'installs': '10,000+', 'score': 4.428571, 'ratings': 493.0, 'developer': 'Games for a Living', 'categories': \"[{'name': 'Role Playing', 'id': 'GAME_ROLE_PLAYING'}, {'name': 'Turn-based RPG', 'id': None}, {'name': 'Casual', 'id': 'GAME_CASUAL'}, {'name': 'Stylized', 'id': None}]\", 'icon': 'https://play-lh.googleusercontent.com/rgULJetmKlgCDZWEwX-BNORxsuN72jgOSZYN8-E_7wOe8__g9IQX3aq3fg9C8hBtu9a0', 'headerImage': 'https://play-lh.googleusercontent.com/qV8LL_cbKBalV2ULq8YLBWMX9urPW1VNlfUEsO9sFp8-7yIObgXGaKbf3gPJpY-4cFk', 'contentRating': 'Rated for 7+', 'contentRatingDescription': 'Mild Violence', 'released': 'Mar 18, 2024', 'lastUpdatedOn': 'May 3, 2024', 'version': '0.6.3', 'row': 37})]"
      ]
     },
     "execution_count": 100,
     "metadata": {},
     "output_type": "execute_result"
    }
   ],
   "source": [
    "docs\n"
   ]
  },
  {
   "cell_type": "code",
   "execution_count": 101,
   "metadata": {},
   "outputs": [
    {
     "name": "stdout",
     "output_type": "stream",
     "text": [
      "\n",
      "\n",
      "\u001b[1m> Entering new StuffDocumentsChain chain...\u001b[0m\n",
      "\n",
      "\n",
      "\u001b[1m> Entering new LLMChain chain...\u001b[0m\n",
      "Prompt after formatting:\n",
      "\u001b[32;1m\u001b[1;3mHuman: \n",
      "Answer the question as detailed as possible from the provided context and the metadata, make sure to provide all the details\n",
      "provided context just say, \"answer is not available in the context\", don't provide the wrong answer\n",
      "\n",
      "\n",
      "Context:\n",
      " Twitter : https://twitter.com/BrownDust2_EN\n",
      "\n",
      "Terms of Use: http://www.gameloft.com/en/conditions-of-use Privacy Policy: http://www.gameloft.com/en/privacy-notice End-User License Agreement: http://www.gameloft.com/en/eula\n",
      "\n",
      "To have an excellent of music game experience, it is recommended to use headphones. More surprises are waiting for you! Download now and enjoy a new gaming experience!\n",
      "\n",
      "Privacy Policy: https://elementalraiders.gamesforaliving.com/privacy-policy/ End-User License Agreement:https://elementalraiders.gamesforaliving.com/tou/?\n",
      "\n",
      "Question: \n",
      "Which games may you recommend for adventure lover? \n",
      "\n",
      "\n",
      "\n",
      "Instructions for Game Recommendation:\n",
      "\n",
      "1. Provide a brief overview of the user's gaming preferences or requirements, if available.\n",
      "2. Suggest game titles based on the user's preferences, considering factors such as genre, platform, gameplay style, and user ratings.\n",
      "3. Include a concise description of each recommended game, highlighting its key features, gameplay mechanics, and any unique selling points.\n",
      "4. If applicable, mention any additional information relevant to the user's query, such as in-game purchases, multiplayer options, or compatibility with specific devices.\n",
      "5. Aim to offer a diverse selection of game recommendations to cater to different tastes and preferences.\n",
      "6. Avoid recommending games that may not align with the user's preferences or requirements.\n",
      "\n",
      "\n",
      "Answer:\n",
      "\u001b[0m\n",
      "\n",
      "\u001b[1m> Finished chain.\u001b[0m\n",
      "\n",
      "\u001b[1m> Finished chain.\u001b[0m\n"
     ]
    }
   ],
   "source": [
    "response = chain(\n",
    "        {\"input_documents\":docs, \"question\": user_question}\n",
    "        , return_only_outputs=True)"
   ]
  },
  {
   "cell_type": "code",
   "execution_count": 102,
   "metadata": {},
   "outputs": [
    {
     "name": "stdout",
     "output_type": "stream",
     "text": [
      "Answer is not available in the context. \n",
      "\n"
     ]
    }
   ],
   "source": [
    "print(response[\"output_text\"])\n"
   ]
  },
  {
   "cell_type": "code",
   "execution_count": null,
   "metadata": {},
   "outputs": [],
   "source": []
  },
  {
   "cell_type": "code",
   "execution_count": 45,
   "metadata": {},
   "outputs": [],
   "source": [
    "\n",
    "from langchain_google_genai import GoogleGenerativeAIEmbeddings\n",
    "\n",
    "from langchain.prompts.chat import ChatPromptTemplate"
   ]
  },
  {
   "cell_type": "code",
   "execution_count": 52,
   "metadata": {},
   "outputs": [],
   "source": [
    "model = ChatGoogleGenerativeAI(\n",
    "    model=\"gemini-1.5-pro-latest\", api_key=gemini_api_key, temperature=0.3,  convert_system_message_to_human=True\n",
    ")\n",
    "\n",
    "genai.configure(api_key=gemini_api_key)\n"
   ]
  },
  {
   "cell_type": "code",
   "execution_count": 53,
   "metadata": {},
   "outputs": [],
   "source": [
    "docsearch = Chroma.from_documents(text_chunks,embeddings)"
   ]
  },
  {
   "cell_type": "code",
   "execution_count": 54,
   "metadata": {},
   "outputs": [],
   "source": [
    "from langchain.chains import RetrievalQA"
   ]
  },
  {
   "cell_type": "code",
   "execution_count": 103,
   "metadata": {},
   "outputs": [],
   "source": [
    "qa = RetrievalQA.from_chain_type(llm=model,chain_type=\"stuff\",retriever=docsearch.as_retriever())"
   ]
  },
  {
   "cell_type": "code",
   "execution_count": 104,
   "metadata": {},
   "outputs": [
    {
     "ename": "ValueError",
     "evalue": "SystemMessages are not yet supported!\n\nTo automatically convert the leading SystemMessage to a HumanMessage,\nset  `convert_system_message_to_human` to True. Example:\n\nllm = ChatGoogleGenerativeAI(model=\"gemini-pro\", convert_system_message_to_human=True)\n",
     "output_type": "error",
     "traceback": [
      "\u001b[1;31m---------------------------------------------------------------------------\u001b[0m",
      "\u001b[1;31mValueError\u001b[0m                                Traceback (most recent call last)",
      "Cell \u001b[1;32mIn[104], line 1\u001b[0m\n\u001b[1;32m----> 1\u001b[0m \u001b[43mqa\u001b[49m\u001b[38;5;241;43m.\u001b[39;49m\u001b[43mrun\u001b[49m\u001b[43m(\u001b[49m\u001b[38;5;124;43m\"\u001b[39;49m\u001b[38;5;124;43mrecommend me 2 adventure games\u001b[39;49m\u001b[38;5;124;43m\"\u001b[39;49m\u001b[43m)\u001b[49m\n",
      "File \u001b[1;32me:\\projects\\AI research assistant\\venv\\lib\\site-packages\\langchain_core\\_api\\deprecation.py:145\u001b[0m, in \u001b[0;36mdeprecated.<locals>.deprecate.<locals>.warning_emitting_wrapper\u001b[1;34m(*args, **kwargs)\u001b[0m\n\u001b[0;32m    143\u001b[0m     warned \u001b[38;5;241m=\u001b[39m \u001b[38;5;28;01mTrue\u001b[39;00m\n\u001b[0;32m    144\u001b[0m     emit_warning()\n\u001b[1;32m--> 145\u001b[0m \u001b[38;5;28;01mreturn\u001b[39;00m wrapped(\u001b[38;5;241m*\u001b[39margs, \u001b[38;5;241m*\u001b[39m\u001b[38;5;241m*\u001b[39mkwargs)\n",
      "File \u001b[1;32me:\\projects\\AI research assistant\\venv\\lib\\site-packages\\langchain\\chains\\base.py:545\u001b[0m, in \u001b[0;36mChain.run\u001b[1;34m(self, callbacks, tags, metadata, *args, **kwargs)\u001b[0m\n\u001b[0;32m    543\u001b[0m     \u001b[38;5;28;01mif\u001b[39;00m \u001b[38;5;28mlen\u001b[39m(args) \u001b[38;5;241m!=\u001b[39m \u001b[38;5;241m1\u001b[39m:\n\u001b[0;32m    544\u001b[0m         \u001b[38;5;28;01mraise\u001b[39;00m \u001b[38;5;167;01mValueError\u001b[39;00m(\u001b[38;5;124m\"\u001b[39m\u001b[38;5;124m`run` supports only one positional argument.\u001b[39m\u001b[38;5;124m\"\u001b[39m)\n\u001b[1;32m--> 545\u001b[0m     \u001b[38;5;28;01mreturn\u001b[39;00m \u001b[38;5;28;43mself\u001b[39;49m\u001b[43m(\u001b[49m\u001b[43margs\u001b[49m\u001b[43m[\u001b[49m\u001b[38;5;241;43m0\u001b[39;49m\u001b[43m]\u001b[49m\u001b[43m,\u001b[49m\u001b[43m \u001b[49m\u001b[43mcallbacks\u001b[49m\u001b[38;5;241;43m=\u001b[39;49m\u001b[43mcallbacks\u001b[49m\u001b[43m,\u001b[49m\u001b[43m \u001b[49m\u001b[43mtags\u001b[49m\u001b[38;5;241;43m=\u001b[39;49m\u001b[43mtags\u001b[49m\u001b[43m,\u001b[49m\u001b[43m \u001b[49m\u001b[43mmetadata\u001b[49m\u001b[38;5;241;43m=\u001b[39;49m\u001b[43mmetadata\u001b[49m\u001b[43m)\u001b[49m[\n\u001b[0;32m    546\u001b[0m         _output_key\n\u001b[0;32m    547\u001b[0m     ]\n\u001b[0;32m    549\u001b[0m \u001b[38;5;28;01mif\u001b[39;00m kwargs \u001b[38;5;129;01mand\u001b[39;00m \u001b[38;5;129;01mnot\u001b[39;00m args:\n\u001b[0;32m    550\u001b[0m     \u001b[38;5;28;01mreturn\u001b[39;00m \u001b[38;5;28mself\u001b[39m(kwargs, callbacks\u001b[38;5;241m=\u001b[39mcallbacks, tags\u001b[38;5;241m=\u001b[39mtags, metadata\u001b[38;5;241m=\u001b[39mmetadata)[\n\u001b[0;32m    551\u001b[0m         _output_key\n\u001b[0;32m    552\u001b[0m     ]\n",
      "File \u001b[1;32me:\\projects\\AI research assistant\\venv\\lib\\site-packages\\langchain_core\\_api\\deprecation.py:145\u001b[0m, in \u001b[0;36mdeprecated.<locals>.deprecate.<locals>.warning_emitting_wrapper\u001b[1;34m(*args, **kwargs)\u001b[0m\n\u001b[0;32m    143\u001b[0m     warned \u001b[38;5;241m=\u001b[39m \u001b[38;5;28;01mTrue\u001b[39;00m\n\u001b[0;32m    144\u001b[0m     emit_warning()\n\u001b[1;32m--> 145\u001b[0m \u001b[38;5;28;01mreturn\u001b[39;00m wrapped(\u001b[38;5;241m*\u001b[39margs, \u001b[38;5;241m*\u001b[39m\u001b[38;5;241m*\u001b[39mkwargs)\n",
      "File \u001b[1;32me:\\projects\\AI research assistant\\venv\\lib\\site-packages\\langchain\\chains\\base.py:378\u001b[0m, in \u001b[0;36mChain.__call__\u001b[1;34m(self, inputs, return_only_outputs, callbacks, tags, metadata, run_name, include_run_info)\u001b[0m\n\u001b[0;32m    346\u001b[0m \u001b[38;5;250m\u001b[39m\u001b[38;5;124;03m\"\"\"Execute the chain.\u001b[39;00m\n\u001b[0;32m    347\u001b[0m \n\u001b[0;32m    348\u001b[0m \u001b[38;5;124;03mArgs:\u001b[39;00m\n\u001b[1;32m   (...)\u001b[0m\n\u001b[0;32m    369\u001b[0m \u001b[38;5;124;03m        `Chain.output_keys`.\u001b[39;00m\n\u001b[0;32m    370\u001b[0m \u001b[38;5;124;03m\"\"\"\u001b[39;00m\n\u001b[0;32m    371\u001b[0m config \u001b[38;5;241m=\u001b[39m {\n\u001b[0;32m    372\u001b[0m     \u001b[38;5;124m\"\u001b[39m\u001b[38;5;124mcallbacks\u001b[39m\u001b[38;5;124m\"\u001b[39m: callbacks,\n\u001b[0;32m    373\u001b[0m     \u001b[38;5;124m\"\u001b[39m\u001b[38;5;124mtags\u001b[39m\u001b[38;5;124m\"\u001b[39m: tags,\n\u001b[0;32m    374\u001b[0m     \u001b[38;5;124m\"\u001b[39m\u001b[38;5;124mmetadata\u001b[39m\u001b[38;5;124m\"\u001b[39m: metadata,\n\u001b[0;32m    375\u001b[0m     \u001b[38;5;124m\"\u001b[39m\u001b[38;5;124mrun_name\u001b[39m\u001b[38;5;124m\"\u001b[39m: run_name,\n\u001b[0;32m    376\u001b[0m }\n\u001b[1;32m--> 378\u001b[0m \u001b[38;5;28;01mreturn\u001b[39;00m \u001b[38;5;28;43mself\u001b[39;49m\u001b[38;5;241;43m.\u001b[39;49m\u001b[43minvoke\u001b[49m\u001b[43m(\u001b[49m\n\u001b[0;32m    379\u001b[0m \u001b[43m    \u001b[49m\u001b[43minputs\u001b[49m\u001b[43m,\u001b[49m\n\u001b[0;32m    380\u001b[0m \u001b[43m    \u001b[49m\u001b[43mcast\u001b[49m\u001b[43m(\u001b[49m\u001b[43mRunnableConfig\u001b[49m\u001b[43m,\u001b[49m\u001b[43m \u001b[49m\u001b[43m{\u001b[49m\u001b[43mk\u001b[49m\u001b[43m:\u001b[49m\u001b[43m \u001b[49m\u001b[43mv\u001b[49m\u001b[43m \u001b[49m\u001b[38;5;28;43;01mfor\u001b[39;49;00m\u001b[43m \u001b[49m\u001b[43mk\u001b[49m\u001b[43m,\u001b[49m\u001b[43m \u001b[49m\u001b[43mv\u001b[49m\u001b[43m \u001b[49m\u001b[38;5;129;43;01min\u001b[39;49;00m\u001b[43m \u001b[49m\u001b[43mconfig\u001b[49m\u001b[38;5;241;43m.\u001b[39;49m\u001b[43mitems\u001b[49m\u001b[43m(\u001b[49m\u001b[43m)\u001b[49m\u001b[43m \u001b[49m\u001b[38;5;28;43;01mif\u001b[39;49;00m\u001b[43m \u001b[49m\u001b[43mv\u001b[49m\u001b[43m \u001b[49m\u001b[38;5;129;43;01mis\u001b[39;49;00m\u001b[43m \u001b[49m\u001b[38;5;129;43;01mnot\u001b[39;49;00m\u001b[43m \u001b[49m\u001b[38;5;28;43;01mNone\u001b[39;49;00m\u001b[43m}\u001b[49m\u001b[43m)\u001b[49m\u001b[43m,\u001b[49m\n\u001b[0;32m    381\u001b[0m \u001b[43m    \u001b[49m\u001b[43mreturn_only_outputs\u001b[49m\u001b[38;5;241;43m=\u001b[39;49m\u001b[43mreturn_only_outputs\u001b[49m\u001b[43m,\u001b[49m\n\u001b[0;32m    382\u001b[0m \u001b[43m    \u001b[49m\u001b[43minclude_run_info\u001b[49m\u001b[38;5;241;43m=\u001b[39;49m\u001b[43minclude_run_info\u001b[49m\u001b[43m,\u001b[49m\n\u001b[0;32m    383\u001b[0m \u001b[43m\u001b[49m\u001b[43m)\u001b[49m\n",
      "File \u001b[1;32me:\\projects\\AI research assistant\\venv\\lib\\site-packages\\langchain\\chains\\base.py:163\u001b[0m, in \u001b[0;36mChain.invoke\u001b[1;34m(self, input, config, **kwargs)\u001b[0m\n\u001b[0;32m    161\u001b[0m \u001b[38;5;28;01mexcept\u001b[39;00m \u001b[38;5;167;01mBaseException\u001b[39;00m \u001b[38;5;28;01mas\u001b[39;00m e:\n\u001b[0;32m    162\u001b[0m     run_manager\u001b[38;5;241m.\u001b[39mon_chain_error(e)\n\u001b[1;32m--> 163\u001b[0m     \u001b[38;5;28;01mraise\u001b[39;00m e\n\u001b[0;32m    164\u001b[0m run_manager\u001b[38;5;241m.\u001b[39mon_chain_end(outputs)\n\u001b[0;32m    166\u001b[0m \u001b[38;5;28;01mif\u001b[39;00m include_run_info:\n",
      "File \u001b[1;32me:\\projects\\AI research assistant\\venv\\lib\\site-packages\\langchain\\chains\\base.py:153\u001b[0m, in \u001b[0;36mChain.invoke\u001b[1;34m(self, input, config, **kwargs)\u001b[0m\n\u001b[0;32m    150\u001b[0m \u001b[38;5;28;01mtry\u001b[39;00m:\n\u001b[0;32m    151\u001b[0m     \u001b[38;5;28mself\u001b[39m\u001b[38;5;241m.\u001b[39m_validate_inputs(inputs)\n\u001b[0;32m    152\u001b[0m     outputs \u001b[38;5;241m=\u001b[39m (\n\u001b[1;32m--> 153\u001b[0m         \u001b[38;5;28;43mself\u001b[39;49m\u001b[38;5;241;43m.\u001b[39;49m\u001b[43m_call\u001b[49m\u001b[43m(\u001b[49m\u001b[43minputs\u001b[49m\u001b[43m,\u001b[49m\u001b[43m \u001b[49m\u001b[43mrun_manager\u001b[49m\u001b[38;5;241;43m=\u001b[39;49m\u001b[43mrun_manager\u001b[49m\u001b[43m)\u001b[49m\n\u001b[0;32m    154\u001b[0m         \u001b[38;5;28;01mif\u001b[39;00m new_arg_supported\n\u001b[0;32m    155\u001b[0m         \u001b[38;5;28;01melse\u001b[39;00m \u001b[38;5;28mself\u001b[39m\u001b[38;5;241m.\u001b[39m_call(inputs)\n\u001b[0;32m    156\u001b[0m     )\n\u001b[0;32m    158\u001b[0m     final_outputs: Dict[\u001b[38;5;28mstr\u001b[39m, Any] \u001b[38;5;241m=\u001b[39m \u001b[38;5;28mself\u001b[39m\u001b[38;5;241m.\u001b[39mprep_outputs(\n\u001b[0;32m    159\u001b[0m         inputs, outputs, return_only_outputs\n\u001b[0;32m    160\u001b[0m     )\n\u001b[0;32m    161\u001b[0m \u001b[38;5;28;01mexcept\u001b[39;00m \u001b[38;5;167;01mBaseException\u001b[39;00m \u001b[38;5;28;01mas\u001b[39;00m e:\n",
      "File \u001b[1;32me:\\projects\\AI research assistant\\venv\\lib\\site-packages\\langchain\\chains\\retrieval_qa\\base.py:144\u001b[0m, in \u001b[0;36mBaseRetrievalQA._call\u001b[1;34m(self, inputs, run_manager)\u001b[0m\n\u001b[0;32m    142\u001b[0m \u001b[38;5;28;01melse\u001b[39;00m:\n\u001b[0;32m    143\u001b[0m     docs \u001b[38;5;241m=\u001b[39m \u001b[38;5;28mself\u001b[39m\u001b[38;5;241m.\u001b[39m_get_docs(question)  \u001b[38;5;66;03m# type: ignore[call-arg]\u001b[39;00m\n\u001b[1;32m--> 144\u001b[0m answer \u001b[38;5;241m=\u001b[39m \u001b[38;5;28;43mself\u001b[39;49m\u001b[38;5;241;43m.\u001b[39;49m\u001b[43mcombine_documents_chain\u001b[49m\u001b[38;5;241;43m.\u001b[39;49m\u001b[43mrun\u001b[49m\u001b[43m(\u001b[49m\n\u001b[0;32m    145\u001b[0m \u001b[43m    \u001b[49m\u001b[43minput_documents\u001b[49m\u001b[38;5;241;43m=\u001b[39;49m\u001b[43mdocs\u001b[49m\u001b[43m,\u001b[49m\u001b[43m \u001b[49m\u001b[43mquestion\u001b[49m\u001b[38;5;241;43m=\u001b[39;49m\u001b[43mquestion\u001b[49m\u001b[43m,\u001b[49m\u001b[43m \u001b[49m\u001b[43mcallbacks\u001b[49m\u001b[38;5;241;43m=\u001b[39;49m\u001b[43m_run_manager\u001b[49m\u001b[38;5;241;43m.\u001b[39;49m\u001b[43mget_child\u001b[49m\u001b[43m(\u001b[49m\u001b[43m)\u001b[49m\n\u001b[0;32m    146\u001b[0m \u001b[43m\u001b[49m\u001b[43m)\u001b[49m\n\u001b[0;32m    148\u001b[0m \u001b[38;5;28;01mif\u001b[39;00m \u001b[38;5;28mself\u001b[39m\u001b[38;5;241m.\u001b[39mreturn_source_documents:\n\u001b[0;32m    149\u001b[0m     \u001b[38;5;28;01mreturn\u001b[39;00m {\u001b[38;5;28mself\u001b[39m\u001b[38;5;241m.\u001b[39moutput_key: answer, \u001b[38;5;124m\"\u001b[39m\u001b[38;5;124msource_documents\u001b[39m\u001b[38;5;124m\"\u001b[39m: docs}\n",
      "File \u001b[1;32me:\\projects\\AI research assistant\\venv\\lib\\site-packages\\langchain_core\\_api\\deprecation.py:145\u001b[0m, in \u001b[0;36mdeprecated.<locals>.deprecate.<locals>.warning_emitting_wrapper\u001b[1;34m(*args, **kwargs)\u001b[0m\n\u001b[0;32m    143\u001b[0m     warned \u001b[38;5;241m=\u001b[39m \u001b[38;5;28;01mTrue\u001b[39;00m\n\u001b[0;32m    144\u001b[0m     emit_warning()\n\u001b[1;32m--> 145\u001b[0m \u001b[38;5;28;01mreturn\u001b[39;00m wrapped(\u001b[38;5;241m*\u001b[39margs, \u001b[38;5;241m*\u001b[39m\u001b[38;5;241m*\u001b[39mkwargs)\n",
      "File \u001b[1;32me:\\projects\\AI research assistant\\venv\\lib\\site-packages\\langchain\\chains\\base.py:550\u001b[0m, in \u001b[0;36mChain.run\u001b[1;34m(self, callbacks, tags, metadata, *args, **kwargs)\u001b[0m\n\u001b[0;32m    545\u001b[0m     \u001b[38;5;28;01mreturn\u001b[39;00m \u001b[38;5;28mself\u001b[39m(args[\u001b[38;5;241m0\u001b[39m], callbacks\u001b[38;5;241m=\u001b[39mcallbacks, tags\u001b[38;5;241m=\u001b[39mtags, metadata\u001b[38;5;241m=\u001b[39mmetadata)[\n\u001b[0;32m    546\u001b[0m         _output_key\n\u001b[0;32m    547\u001b[0m     ]\n\u001b[0;32m    549\u001b[0m \u001b[38;5;28;01mif\u001b[39;00m kwargs \u001b[38;5;129;01mand\u001b[39;00m \u001b[38;5;129;01mnot\u001b[39;00m args:\n\u001b[1;32m--> 550\u001b[0m     \u001b[38;5;28;01mreturn\u001b[39;00m \u001b[38;5;28;43mself\u001b[39;49m\u001b[43m(\u001b[49m\u001b[43mkwargs\u001b[49m\u001b[43m,\u001b[49m\u001b[43m \u001b[49m\u001b[43mcallbacks\u001b[49m\u001b[38;5;241;43m=\u001b[39;49m\u001b[43mcallbacks\u001b[49m\u001b[43m,\u001b[49m\u001b[43m \u001b[49m\u001b[43mtags\u001b[49m\u001b[38;5;241;43m=\u001b[39;49m\u001b[43mtags\u001b[49m\u001b[43m,\u001b[49m\u001b[43m \u001b[49m\u001b[43mmetadata\u001b[49m\u001b[38;5;241;43m=\u001b[39;49m\u001b[43mmetadata\u001b[49m\u001b[43m)\u001b[49m[\n\u001b[0;32m    551\u001b[0m         _output_key\n\u001b[0;32m    552\u001b[0m     ]\n\u001b[0;32m    554\u001b[0m \u001b[38;5;28;01mif\u001b[39;00m \u001b[38;5;129;01mnot\u001b[39;00m kwargs \u001b[38;5;129;01mand\u001b[39;00m \u001b[38;5;129;01mnot\u001b[39;00m args:\n\u001b[0;32m    555\u001b[0m     \u001b[38;5;28;01mraise\u001b[39;00m \u001b[38;5;167;01mValueError\u001b[39;00m(\n\u001b[0;32m    556\u001b[0m         \u001b[38;5;124m\"\u001b[39m\u001b[38;5;124m`run` supported with either positional arguments or keyword arguments,\u001b[39m\u001b[38;5;124m\"\u001b[39m\n\u001b[0;32m    557\u001b[0m         \u001b[38;5;124m\"\u001b[39m\u001b[38;5;124m but none were provided.\u001b[39m\u001b[38;5;124m\"\u001b[39m\n\u001b[0;32m    558\u001b[0m     )\n",
      "File \u001b[1;32me:\\projects\\AI research assistant\\venv\\lib\\site-packages\\langchain_core\\_api\\deprecation.py:145\u001b[0m, in \u001b[0;36mdeprecated.<locals>.deprecate.<locals>.warning_emitting_wrapper\u001b[1;34m(*args, **kwargs)\u001b[0m\n\u001b[0;32m    143\u001b[0m     warned \u001b[38;5;241m=\u001b[39m \u001b[38;5;28;01mTrue\u001b[39;00m\n\u001b[0;32m    144\u001b[0m     emit_warning()\n\u001b[1;32m--> 145\u001b[0m \u001b[38;5;28;01mreturn\u001b[39;00m wrapped(\u001b[38;5;241m*\u001b[39margs, \u001b[38;5;241m*\u001b[39m\u001b[38;5;241m*\u001b[39mkwargs)\n",
      "File \u001b[1;32me:\\projects\\AI research assistant\\venv\\lib\\site-packages\\langchain\\chains\\base.py:378\u001b[0m, in \u001b[0;36mChain.__call__\u001b[1;34m(self, inputs, return_only_outputs, callbacks, tags, metadata, run_name, include_run_info)\u001b[0m\n\u001b[0;32m    346\u001b[0m \u001b[38;5;250m\u001b[39m\u001b[38;5;124;03m\"\"\"Execute the chain.\u001b[39;00m\n\u001b[0;32m    347\u001b[0m \n\u001b[0;32m    348\u001b[0m \u001b[38;5;124;03mArgs:\u001b[39;00m\n\u001b[1;32m   (...)\u001b[0m\n\u001b[0;32m    369\u001b[0m \u001b[38;5;124;03m        `Chain.output_keys`.\u001b[39;00m\n\u001b[0;32m    370\u001b[0m \u001b[38;5;124;03m\"\"\"\u001b[39;00m\n\u001b[0;32m    371\u001b[0m config \u001b[38;5;241m=\u001b[39m {\n\u001b[0;32m    372\u001b[0m     \u001b[38;5;124m\"\u001b[39m\u001b[38;5;124mcallbacks\u001b[39m\u001b[38;5;124m\"\u001b[39m: callbacks,\n\u001b[0;32m    373\u001b[0m     \u001b[38;5;124m\"\u001b[39m\u001b[38;5;124mtags\u001b[39m\u001b[38;5;124m\"\u001b[39m: tags,\n\u001b[0;32m    374\u001b[0m     \u001b[38;5;124m\"\u001b[39m\u001b[38;5;124mmetadata\u001b[39m\u001b[38;5;124m\"\u001b[39m: metadata,\n\u001b[0;32m    375\u001b[0m     \u001b[38;5;124m\"\u001b[39m\u001b[38;5;124mrun_name\u001b[39m\u001b[38;5;124m\"\u001b[39m: run_name,\n\u001b[0;32m    376\u001b[0m }\n\u001b[1;32m--> 378\u001b[0m \u001b[38;5;28;01mreturn\u001b[39;00m \u001b[38;5;28;43mself\u001b[39;49m\u001b[38;5;241;43m.\u001b[39;49m\u001b[43minvoke\u001b[49m\u001b[43m(\u001b[49m\n\u001b[0;32m    379\u001b[0m \u001b[43m    \u001b[49m\u001b[43minputs\u001b[49m\u001b[43m,\u001b[49m\n\u001b[0;32m    380\u001b[0m \u001b[43m    \u001b[49m\u001b[43mcast\u001b[49m\u001b[43m(\u001b[49m\u001b[43mRunnableConfig\u001b[49m\u001b[43m,\u001b[49m\u001b[43m \u001b[49m\u001b[43m{\u001b[49m\u001b[43mk\u001b[49m\u001b[43m:\u001b[49m\u001b[43m \u001b[49m\u001b[43mv\u001b[49m\u001b[43m \u001b[49m\u001b[38;5;28;43;01mfor\u001b[39;49;00m\u001b[43m \u001b[49m\u001b[43mk\u001b[49m\u001b[43m,\u001b[49m\u001b[43m \u001b[49m\u001b[43mv\u001b[49m\u001b[43m \u001b[49m\u001b[38;5;129;43;01min\u001b[39;49;00m\u001b[43m \u001b[49m\u001b[43mconfig\u001b[49m\u001b[38;5;241;43m.\u001b[39;49m\u001b[43mitems\u001b[49m\u001b[43m(\u001b[49m\u001b[43m)\u001b[49m\u001b[43m \u001b[49m\u001b[38;5;28;43;01mif\u001b[39;49;00m\u001b[43m \u001b[49m\u001b[43mv\u001b[49m\u001b[43m \u001b[49m\u001b[38;5;129;43;01mis\u001b[39;49;00m\u001b[43m \u001b[49m\u001b[38;5;129;43;01mnot\u001b[39;49;00m\u001b[43m \u001b[49m\u001b[38;5;28;43;01mNone\u001b[39;49;00m\u001b[43m}\u001b[49m\u001b[43m)\u001b[49m\u001b[43m,\u001b[49m\n\u001b[0;32m    381\u001b[0m \u001b[43m    \u001b[49m\u001b[43mreturn_only_outputs\u001b[49m\u001b[38;5;241;43m=\u001b[39;49m\u001b[43mreturn_only_outputs\u001b[49m\u001b[43m,\u001b[49m\n\u001b[0;32m    382\u001b[0m \u001b[43m    \u001b[49m\u001b[43minclude_run_info\u001b[49m\u001b[38;5;241;43m=\u001b[39;49m\u001b[43minclude_run_info\u001b[49m\u001b[43m,\u001b[49m\n\u001b[0;32m    383\u001b[0m \u001b[43m\u001b[49m\u001b[43m)\u001b[49m\n",
      "File \u001b[1;32me:\\projects\\AI research assistant\\venv\\lib\\site-packages\\langchain\\chains\\base.py:163\u001b[0m, in \u001b[0;36mChain.invoke\u001b[1;34m(self, input, config, **kwargs)\u001b[0m\n\u001b[0;32m    161\u001b[0m \u001b[38;5;28;01mexcept\u001b[39;00m \u001b[38;5;167;01mBaseException\u001b[39;00m \u001b[38;5;28;01mas\u001b[39;00m e:\n\u001b[0;32m    162\u001b[0m     run_manager\u001b[38;5;241m.\u001b[39mon_chain_error(e)\n\u001b[1;32m--> 163\u001b[0m     \u001b[38;5;28;01mraise\u001b[39;00m e\n\u001b[0;32m    164\u001b[0m run_manager\u001b[38;5;241m.\u001b[39mon_chain_end(outputs)\n\u001b[0;32m    166\u001b[0m \u001b[38;5;28;01mif\u001b[39;00m include_run_info:\n",
      "File \u001b[1;32me:\\projects\\AI research assistant\\venv\\lib\\site-packages\\langchain\\chains\\base.py:153\u001b[0m, in \u001b[0;36mChain.invoke\u001b[1;34m(self, input, config, **kwargs)\u001b[0m\n\u001b[0;32m    150\u001b[0m \u001b[38;5;28;01mtry\u001b[39;00m:\n\u001b[0;32m    151\u001b[0m     \u001b[38;5;28mself\u001b[39m\u001b[38;5;241m.\u001b[39m_validate_inputs(inputs)\n\u001b[0;32m    152\u001b[0m     outputs \u001b[38;5;241m=\u001b[39m (\n\u001b[1;32m--> 153\u001b[0m         \u001b[38;5;28;43mself\u001b[39;49m\u001b[38;5;241;43m.\u001b[39;49m\u001b[43m_call\u001b[49m\u001b[43m(\u001b[49m\u001b[43minputs\u001b[49m\u001b[43m,\u001b[49m\u001b[43m \u001b[49m\u001b[43mrun_manager\u001b[49m\u001b[38;5;241;43m=\u001b[39;49m\u001b[43mrun_manager\u001b[49m\u001b[43m)\u001b[49m\n\u001b[0;32m    154\u001b[0m         \u001b[38;5;28;01mif\u001b[39;00m new_arg_supported\n\u001b[0;32m    155\u001b[0m         \u001b[38;5;28;01melse\u001b[39;00m \u001b[38;5;28mself\u001b[39m\u001b[38;5;241m.\u001b[39m_call(inputs)\n\u001b[0;32m    156\u001b[0m     )\n\u001b[0;32m    158\u001b[0m     final_outputs: Dict[\u001b[38;5;28mstr\u001b[39m, Any] \u001b[38;5;241m=\u001b[39m \u001b[38;5;28mself\u001b[39m\u001b[38;5;241m.\u001b[39mprep_outputs(\n\u001b[0;32m    159\u001b[0m         inputs, outputs, return_only_outputs\n\u001b[0;32m    160\u001b[0m     )\n\u001b[0;32m    161\u001b[0m \u001b[38;5;28;01mexcept\u001b[39;00m \u001b[38;5;167;01mBaseException\u001b[39;00m \u001b[38;5;28;01mas\u001b[39;00m e:\n",
      "File \u001b[1;32me:\\projects\\AI research assistant\\venv\\lib\\site-packages\\langchain\\chains\\combine_documents\\base.py:137\u001b[0m, in \u001b[0;36mBaseCombineDocumentsChain._call\u001b[1;34m(self, inputs, run_manager)\u001b[0m\n\u001b[0;32m    135\u001b[0m \u001b[38;5;66;03m# Other keys are assumed to be needed for LLM prediction\u001b[39;00m\n\u001b[0;32m    136\u001b[0m other_keys \u001b[38;5;241m=\u001b[39m {k: v \u001b[38;5;28;01mfor\u001b[39;00m k, v \u001b[38;5;129;01min\u001b[39;00m inputs\u001b[38;5;241m.\u001b[39mitems() \u001b[38;5;28;01mif\u001b[39;00m k \u001b[38;5;241m!=\u001b[39m \u001b[38;5;28mself\u001b[39m\u001b[38;5;241m.\u001b[39minput_key}\n\u001b[1;32m--> 137\u001b[0m output, extra_return_dict \u001b[38;5;241m=\u001b[39m \u001b[38;5;28mself\u001b[39m\u001b[38;5;241m.\u001b[39mcombine_docs(\n\u001b[0;32m    138\u001b[0m     docs, callbacks\u001b[38;5;241m=\u001b[39m_run_manager\u001b[38;5;241m.\u001b[39mget_child(), \u001b[38;5;241m*\u001b[39m\u001b[38;5;241m*\u001b[39mother_keys\n\u001b[0;32m    139\u001b[0m )\n\u001b[0;32m    140\u001b[0m extra_return_dict[\u001b[38;5;28mself\u001b[39m\u001b[38;5;241m.\u001b[39moutput_key] \u001b[38;5;241m=\u001b[39m output\n\u001b[0;32m    141\u001b[0m \u001b[38;5;28;01mreturn\u001b[39;00m extra_return_dict\n",
      "File \u001b[1;32me:\\projects\\AI research assistant\\venv\\lib\\site-packages\\langchain\\chains\\combine_documents\\stuff.py:244\u001b[0m, in \u001b[0;36mStuffDocumentsChain.combine_docs\u001b[1;34m(self, docs, callbacks, **kwargs)\u001b[0m\n\u001b[0;32m    242\u001b[0m inputs \u001b[38;5;241m=\u001b[39m \u001b[38;5;28mself\u001b[39m\u001b[38;5;241m.\u001b[39m_get_inputs(docs, \u001b[38;5;241m*\u001b[39m\u001b[38;5;241m*\u001b[39mkwargs)\n\u001b[0;32m    243\u001b[0m \u001b[38;5;66;03m# Call predict on the LLM.\u001b[39;00m\n\u001b[1;32m--> 244\u001b[0m \u001b[38;5;28;01mreturn\u001b[39;00m \u001b[38;5;28mself\u001b[39m\u001b[38;5;241m.\u001b[39mllm_chain\u001b[38;5;241m.\u001b[39mpredict(callbacks\u001b[38;5;241m=\u001b[39mcallbacks, \u001b[38;5;241m*\u001b[39m\u001b[38;5;241m*\u001b[39minputs), {}\n",
      "File \u001b[1;32me:\\projects\\AI research assistant\\venv\\lib\\site-packages\\langchain\\chains\\llm.py:293\u001b[0m, in \u001b[0;36mLLMChain.predict\u001b[1;34m(self, callbacks, **kwargs)\u001b[0m\n\u001b[0;32m    278\u001b[0m \u001b[38;5;28;01mdef\u001b[39;00m \u001b[38;5;21mpredict\u001b[39m(\u001b[38;5;28mself\u001b[39m, callbacks: Callbacks \u001b[38;5;241m=\u001b[39m \u001b[38;5;28;01mNone\u001b[39;00m, \u001b[38;5;241m*\u001b[39m\u001b[38;5;241m*\u001b[39mkwargs: Any) \u001b[38;5;241m-\u001b[39m\u001b[38;5;241m>\u001b[39m \u001b[38;5;28mstr\u001b[39m:\n\u001b[0;32m    279\u001b[0m \u001b[38;5;250m    \u001b[39m\u001b[38;5;124;03m\"\"\"Format prompt with kwargs and pass to LLM.\u001b[39;00m\n\u001b[0;32m    280\u001b[0m \n\u001b[0;32m    281\u001b[0m \u001b[38;5;124;03m    Args:\u001b[39;00m\n\u001b[1;32m   (...)\u001b[0m\n\u001b[0;32m    291\u001b[0m \u001b[38;5;124;03m            completion = llm.predict(adjective=\"funny\")\u001b[39;00m\n\u001b[0;32m    292\u001b[0m \u001b[38;5;124;03m    \"\"\"\u001b[39;00m\n\u001b[1;32m--> 293\u001b[0m     \u001b[38;5;28;01mreturn\u001b[39;00m \u001b[38;5;28;43mself\u001b[39;49m\u001b[43m(\u001b[49m\u001b[43mkwargs\u001b[49m\u001b[43m,\u001b[49m\u001b[43m \u001b[49m\u001b[43mcallbacks\u001b[49m\u001b[38;5;241;43m=\u001b[39;49m\u001b[43mcallbacks\u001b[49m\u001b[43m)\u001b[49m[\u001b[38;5;28mself\u001b[39m\u001b[38;5;241m.\u001b[39moutput_key]\n",
      "File \u001b[1;32me:\\projects\\AI research assistant\\venv\\lib\\site-packages\\langchain_core\\_api\\deprecation.py:145\u001b[0m, in \u001b[0;36mdeprecated.<locals>.deprecate.<locals>.warning_emitting_wrapper\u001b[1;34m(*args, **kwargs)\u001b[0m\n\u001b[0;32m    143\u001b[0m     warned \u001b[38;5;241m=\u001b[39m \u001b[38;5;28;01mTrue\u001b[39;00m\n\u001b[0;32m    144\u001b[0m     emit_warning()\n\u001b[1;32m--> 145\u001b[0m \u001b[38;5;28;01mreturn\u001b[39;00m wrapped(\u001b[38;5;241m*\u001b[39margs, \u001b[38;5;241m*\u001b[39m\u001b[38;5;241m*\u001b[39mkwargs)\n",
      "File \u001b[1;32me:\\projects\\AI research assistant\\venv\\lib\\site-packages\\langchain\\chains\\base.py:378\u001b[0m, in \u001b[0;36mChain.__call__\u001b[1;34m(self, inputs, return_only_outputs, callbacks, tags, metadata, run_name, include_run_info)\u001b[0m\n\u001b[0;32m    346\u001b[0m \u001b[38;5;250m\u001b[39m\u001b[38;5;124;03m\"\"\"Execute the chain.\u001b[39;00m\n\u001b[0;32m    347\u001b[0m \n\u001b[0;32m    348\u001b[0m \u001b[38;5;124;03mArgs:\u001b[39;00m\n\u001b[1;32m   (...)\u001b[0m\n\u001b[0;32m    369\u001b[0m \u001b[38;5;124;03m        `Chain.output_keys`.\u001b[39;00m\n\u001b[0;32m    370\u001b[0m \u001b[38;5;124;03m\"\"\"\u001b[39;00m\n\u001b[0;32m    371\u001b[0m config \u001b[38;5;241m=\u001b[39m {\n\u001b[0;32m    372\u001b[0m     \u001b[38;5;124m\"\u001b[39m\u001b[38;5;124mcallbacks\u001b[39m\u001b[38;5;124m\"\u001b[39m: callbacks,\n\u001b[0;32m    373\u001b[0m     \u001b[38;5;124m\"\u001b[39m\u001b[38;5;124mtags\u001b[39m\u001b[38;5;124m\"\u001b[39m: tags,\n\u001b[0;32m    374\u001b[0m     \u001b[38;5;124m\"\u001b[39m\u001b[38;5;124mmetadata\u001b[39m\u001b[38;5;124m\"\u001b[39m: metadata,\n\u001b[0;32m    375\u001b[0m     \u001b[38;5;124m\"\u001b[39m\u001b[38;5;124mrun_name\u001b[39m\u001b[38;5;124m\"\u001b[39m: run_name,\n\u001b[0;32m    376\u001b[0m }\n\u001b[1;32m--> 378\u001b[0m \u001b[38;5;28;01mreturn\u001b[39;00m \u001b[38;5;28;43mself\u001b[39;49m\u001b[38;5;241;43m.\u001b[39;49m\u001b[43minvoke\u001b[49m\u001b[43m(\u001b[49m\n\u001b[0;32m    379\u001b[0m \u001b[43m    \u001b[49m\u001b[43minputs\u001b[49m\u001b[43m,\u001b[49m\n\u001b[0;32m    380\u001b[0m \u001b[43m    \u001b[49m\u001b[43mcast\u001b[49m\u001b[43m(\u001b[49m\u001b[43mRunnableConfig\u001b[49m\u001b[43m,\u001b[49m\u001b[43m \u001b[49m\u001b[43m{\u001b[49m\u001b[43mk\u001b[49m\u001b[43m:\u001b[49m\u001b[43m \u001b[49m\u001b[43mv\u001b[49m\u001b[43m \u001b[49m\u001b[38;5;28;43;01mfor\u001b[39;49;00m\u001b[43m \u001b[49m\u001b[43mk\u001b[49m\u001b[43m,\u001b[49m\u001b[43m \u001b[49m\u001b[43mv\u001b[49m\u001b[43m \u001b[49m\u001b[38;5;129;43;01min\u001b[39;49;00m\u001b[43m \u001b[49m\u001b[43mconfig\u001b[49m\u001b[38;5;241;43m.\u001b[39;49m\u001b[43mitems\u001b[49m\u001b[43m(\u001b[49m\u001b[43m)\u001b[49m\u001b[43m \u001b[49m\u001b[38;5;28;43;01mif\u001b[39;49;00m\u001b[43m \u001b[49m\u001b[43mv\u001b[49m\u001b[43m \u001b[49m\u001b[38;5;129;43;01mis\u001b[39;49;00m\u001b[43m \u001b[49m\u001b[38;5;129;43;01mnot\u001b[39;49;00m\u001b[43m \u001b[49m\u001b[38;5;28;43;01mNone\u001b[39;49;00m\u001b[43m}\u001b[49m\u001b[43m)\u001b[49m\u001b[43m,\u001b[49m\n\u001b[0;32m    381\u001b[0m \u001b[43m    \u001b[49m\u001b[43mreturn_only_outputs\u001b[49m\u001b[38;5;241;43m=\u001b[39;49m\u001b[43mreturn_only_outputs\u001b[49m\u001b[43m,\u001b[49m\n\u001b[0;32m    382\u001b[0m \u001b[43m    \u001b[49m\u001b[43minclude_run_info\u001b[49m\u001b[38;5;241;43m=\u001b[39;49m\u001b[43minclude_run_info\u001b[49m\u001b[43m,\u001b[49m\n\u001b[0;32m    383\u001b[0m \u001b[43m\u001b[49m\u001b[43m)\u001b[49m\n",
      "File \u001b[1;32me:\\projects\\AI research assistant\\venv\\lib\\site-packages\\langchain\\chains\\base.py:163\u001b[0m, in \u001b[0;36mChain.invoke\u001b[1;34m(self, input, config, **kwargs)\u001b[0m\n\u001b[0;32m    161\u001b[0m \u001b[38;5;28;01mexcept\u001b[39;00m \u001b[38;5;167;01mBaseException\u001b[39;00m \u001b[38;5;28;01mas\u001b[39;00m e:\n\u001b[0;32m    162\u001b[0m     run_manager\u001b[38;5;241m.\u001b[39mon_chain_error(e)\n\u001b[1;32m--> 163\u001b[0m     \u001b[38;5;28;01mraise\u001b[39;00m e\n\u001b[0;32m    164\u001b[0m run_manager\u001b[38;5;241m.\u001b[39mon_chain_end(outputs)\n\u001b[0;32m    166\u001b[0m \u001b[38;5;28;01mif\u001b[39;00m include_run_info:\n",
      "File \u001b[1;32me:\\projects\\AI research assistant\\venv\\lib\\site-packages\\langchain\\chains\\base.py:153\u001b[0m, in \u001b[0;36mChain.invoke\u001b[1;34m(self, input, config, **kwargs)\u001b[0m\n\u001b[0;32m    150\u001b[0m \u001b[38;5;28;01mtry\u001b[39;00m:\n\u001b[0;32m    151\u001b[0m     \u001b[38;5;28mself\u001b[39m\u001b[38;5;241m.\u001b[39m_validate_inputs(inputs)\n\u001b[0;32m    152\u001b[0m     outputs \u001b[38;5;241m=\u001b[39m (\n\u001b[1;32m--> 153\u001b[0m         \u001b[38;5;28;43mself\u001b[39;49m\u001b[38;5;241;43m.\u001b[39;49m\u001b[43m_call\u001b[49m\u001b[43m(\u001b[49m\u001b[43minputs\u001b[49m\u001b[43m,\u001b[49m\u001b[43m \u001b[49m\u001b[43mrun_manager\u001b[49m\u001b[38;5;241;43m=\u001b[39;49m\u001b[43mrun_manager\u001b[49m\u001b[43m)\u001b[49m\n\u001b[0;32m    154\u001b[0m         \u001b[38;5;28;01mif\u001b[39;00m new_arg_supported\n\u001b[0;32m    155\u001b[0m         \u001b[38;5;28;01melse\u001b[39;00m \u001b[38;5;28mself\u001b[39m\u001b[38;5;241m.\u001b[39m_call(inputs)\n\u001b[0;32m    156\u001b[0m     )\n\u001b[0;32m    158\u001b[0m     final_outputs: Dict[\u001b[38;5;28mstr\u001b[39m, Any] \u001b[38;5;241m=\u001b[39m \u001b[38;5;28mself\u001b[39m\u001b[38;5;241m.\u001b[39mprep_outputs(\n\u001b[0;32m    159\u001b[0m         inputs, outputs, return_only_outputs\n\u001b[0;32m    160\u001b[0m     )\n\u001b[0;32m    161\u001b[0m \u001b[38;5;28;01mexcept\u001b[39;00m \u001b[38;5;167;01mBaseException\u001b[39;00m \u001b[38;5;28;01mas\u001b[39;00m e:\n",
      "File \u001b[1;32me:\\projects\\AI research assistant\\venv\\lib\\site-packages\\langchain\\chains\\llm.py:103\u001b[0m, in \u001b[0;36mLLMChain._call\u001b[1;34m(self, inputs, run_manager)\u001b[0m\n\u001b[0;32m     98\u001b[0m \u001b[38;5;28;01mdef\u001b[39;00m \u001b[38;5;21m_call\u001b[39m(\n\u001b[0;32m     99\u001b[0m     \u001b[38;5;28mself\u001b[39m,\n\u001b[0;32m    100\u001b[0m     inputs: Dict[\u001b[38;5;28mstr\u001b[39m, Any],\n\u001b[0;32m    101\u001b[0m     run_manager: Optional[CallbackManagerForChainRun] \u001b[38;5;241m=\u001b[39m \u001b[38;5;28;01mNone\u001b[39;00m,\n\u001b[0;32m    102\u001b[0m ) \u001b[38;5;241m-\u001b[39m\u001b[38;5;241m>\u001b[39m Dict[\u001b[38;5;28mstr\u001b[39m, \u001b[38;5;28mstr\u001b[39m]:\n\u001b[1;32m--> 103\u001b[0m     response \u001b[38;5;241m=\u001b[39m \u001b[38;5;28;43mself\u001b[39;49m\u001b[38;5;241;43m.\u001b[39;49m\u001b[43mgenerate\u001b[49m\u001b[43m(\u001b[49m\u001b[43m[\u001b[49m\u001b[43minputs\u001b[49m\u001b[43m]\u001b[49m\u001b[43m,\u001b[49m\u001b[43m \u001b[49m\u001b[43mrun_manager\u001b[49m\u001b[38;5;241;43m=\u001b[39;49m\u001b[43mrun_manager\u001b[49m\u001b[43m)\u001b[49m\n\u001b[0;32m    104\u001b[0m     \u001b[38;5;28;01mreturn\u001b[39;00m \u001b[38;5;28mself\u001b[39m\u001b[38;5;241m.\u001b[39mcreate_outputs(response)[\u001b[38;5;241m0\u001b[39m]\n",
      "File \u001b[1;32me:\\projects\\AI research assistant\\venv\\lib\\site-packages\\langchain\\chains\\llm.py:115\u001b[0m, in \u001b[0;36mLLMChain.generate\u001b[1;34m(self, input_list, run_manager)\u001b[0m\n\u001b[0;32m    113\u001b[0m callbacks \u001b[38;5;241m=\u001b[39m run_manager\u001b[38;5;241m.\u001b[39mget_child() \u001b[38;5;28;01mif\u001b[39;00m run_manager \u001b[38;5;28;01melse\u001b[39;00m \u001b[38;5;28;01mNone\u001b[39;00m\n\u001b[0;32m    114\u001b[0m \u001b[38;5;28;01mif\u001b[39;00m \u001b[38;5;28misinstance\u001b[39m(\u001b[38;5;28mself\u001b[39m\u001b[38;5;241m.\u001b[39mllm, BaseLanguageModel):\n\u001b[1;32m--> 115\u001b[0m     \u001b[38;5;28;01mreturn\u001b[39;00m \u001b[38;5;28mself\u001b[39m\u001b[38;5;241m.\u001b[39mllm\u001b[38;5;241m.\u001b[39mgenerate_prompt(\n\u001b[0;32m    116\u001b[0m         prompts,\n\u001b[0;32m    117\u001b[0m         stop,\n\u001b[0;32m    118\u001b[0m         callbacks\u001b[38;5;241m=\u001b[39mcallbacks,\n\u001b[0;32m    119\u001b[0m         \u001b[38;5;241m*\u001b[39m\u001b[38;5;241m*\u001b[39m\u001b[38;5;28mself\u001b[39m\u001b[38;5;241m.\u001b[39mllm_kwargs,\n\u001b[0;32m    120\u001b[0m     )\n\u001b[0;32m    121\u001b[0m \u001b[38;5;28;01melse\u001b[39;00m:\n\u001b[0;32m    122\u001b[0m     results \u001b[38;5;241m=\u001b[39m \u001b[38;5;28mself\u001b[39m\u001b[38;5;241m.\u001b[39mllm\u001b[38;5;241m.\u001b[39mbind(stop\u001b[38;5;241m=\u001b[39mstop, \u001b[38;5;241m*\u001b[39m\u001b[38;5;241m*\u001b[39m\u001b[38;5;28mself\u001b[39m\u001b[38;5;241m.\u001b[39mllm_kwargs)\u001b[38;5;241m.\u001b[39mbatch(\n\u001b[0;32m    123\u001b[0m         cast(List, prompts), {\u001b[38;5;124m\"\u001b[39m\u001b[38;5;124mcallbacks\u001b[39m\u001b[38;5;124m\"\u001b[39m: callbacks}\n\u001b[0;32m    124\u001b[0m     )\n",
      "File \u001b[1;32me:\\projects\\AI research assistant\\venv\\lib\\site-packages\\langchain_core\\language_models\\chat_models.py:546\u001b[0m, in \u001b[0;36mBaseChatModel.generate_prompt\u001b[1;34m(self, prompts, stop, callbacks, **kwargs)\u001b[0m\n\u001b[0;32m    538\u001b[0m \u001b[38;5;28;01mdef\u001b[39;00m \u001b[38;5;21mgenerate_prompt\u001b[39m(\n\u001b[0;32m    539\u001b[0m     \u001b[38;5;28mself\u001b[39m,\n\u001b[0;32m    540\u001b[0m     prompts: List[PromptValue],\n\u001b[1;32m   (...)\u001b[0m\n\u001b[0;32m    543\u001b[0m     \u001b[38;5;241m*\u001b[39m\u001b[38;5;241m*\u001b[39mkwargs: Any,\n\u001b[0;32m    544\u001b[0m ) \u001b[38;5;241m-\u001b[39m\u001b[38;5;241m>\u001b[39m LLMResult:\n\u001b[0;32m    545\u001b[0m     prompt_messages \u001b[38;5;241m=\u001b[39m [p\u001b[38;5;241m.\u001b[39mto_messages() \u001b[38;5;28;01mfor\u001b[39;00m p \u001b[38;5;129;01min\u001b[39;00m prompts]\n\u001b[1;32m--> 546\u001b[0m     \u001b[38;5;28;01mreturn\u001b[39;00m \u001b[38;5;28mself\u001b[39m\u001b[38;5;241m.\u001b[39mgenerate(prompt_messages, stop\u001b[38;5;241m=\u001b[39mstop, callbacks\u001b[38;5;241m=\u001b[39mcallbacks, \u001b[38;5;241m*\u001b[39m\u001b[38;5;241m*\u001b[39mkwargs)\n",
      "File \u001b[1;32me:\\projects\\AI research assistant\\venv\\lib\\site-packages\\langchain_core\\language_models\\chat_models.py:407\u001b[0m, in \u001b[0;36mBaseChatModel.generate\u001b[1;34m(self, messages, stop, callbacks, tags, metadata, run_name, run_id, **kwargs)\u001b[0m\n\u001b[0;32m    405\u001b[0m         \u001b[38;5;28;01mif\u001b[39;00m run_managers:\n\u001b[0;32m    406\u001b[0m             run_managers[i]\u001b[38;5;241m.\u001b[39mon_llm_error(e, response\u001b[38;5;241m=\u001b[39mLLMResult(generations\u001b[38;5;241m=\u001b[39m[]))\n\u001b[1;32m--> 407\u001b[0m         \u001b[38;5;28;01mraise\u001b[39;00m e\n\u001b[0;32m    408\u001b[0m flattened_outputs \u001b[38;5;241m=\u001b[39m [\n\u001b[0;32m    409\u001b[0m     LLMResult(generations\u001b[38;5;241m=\u001b[39m[res\u001b[38;5;241m.\u001b[39mgenerations], llm_output\u001b[38;5;241m=\u001b[39mres\u001b[38;5;241m.\u001b[39mllm_output)  \u001b[38;5;66;03m# type: ignore[list-item]\u001b[39;00m\n\u001b[0;32m    410\u001b[0m     \u001b[38;5;28;01mfor\u001b[39;00m res \u001b[38;5;129;01min\u001b[39;00m results\n\u001b[0;32m    411\u001b[0m ]\n\u001b[0;32m    412\u001b[0m llm_output \u001b[38;5;241m=\u001b[39m \u001b[38;5;28mself\u001b[39m\u001b[38;5;241m.\u001b[39m_combine_llm_outputs([res\u001b[38;5;241m.\u001b[39mllm_output \u001b[38;5;28;01mfor\u001b[39;00m res \u001b[38;5;129;01min\u001b[39;00m results])\n",
      "File \u001b[1;32me:\\projects\\AI research assistant\\venv\\lib\\site-packages\\langchain_core\\language_models\\chat_models.py:397\u001b[0m, in \u001b[0;36mBaseChatModel.generate\u001b[1;34m(self, messages, stop, callbacks, tags, metadata, run_name, run_id, **kwargs)\u001b[0m\n\u001b[0;32m    394\u001b[0m \u001b[38;5;28;01mfor\u001b[39;00m i, m \u001b[38;5;129;01min\u001b[39;00m \u001b[38;5;28menumerate\u001b[39m(messages):\n\u001b[0;32m    395\u001b[0m     \u001b[38;5;28;01mtry\u001b[39;00m:\n\u001b[0;32m    396\u001b[0m         results\u001b[38;5;241m.\u001b[39mappend(\n\u001b[1;32m--> 397\u001b[0m             \u001b[38;5;28mself\u001b[39m\u001b[38;5;241m.\u001b[39m_generate_with_cache(\n\u001b[0;32m    398\u001b[0m                 m,\n\u001b[0;32m    399\u001b[0m                 stop\u001b[38;5;241m=\u001b[39mstop,\n\u001b[0;32m    400\u001b[0m                 run_manager\u001b[38;5;241m=\u001b[39mrun_managers[i] \u001b[38;5;28;01mif\u001b[39;00m run_managers \u001b[38;5;28;01melse\u001b[39;00m \u001b[38;5;28;01mNone\u001b[39;00m,\n\u001b[0;32m    401\u001b[0m                 \u001b[38;5;241m*\u001b[39m\u001b[38;5;241m*\u001b[39mkwargs,\n\u001b[0;32m    402\u001b[0m             )\n\u001b[0;32m    403\u001b[0m         )\n\u001b[0;32m    404\u001b[0m     \u001b[38;5;28;01mexcept\u001b[39;00m \u001b[38;5;167;01mBaseException\u001b[39;00m \u001b[38;5;28;01mas\u001b[39;00m e:\n\u001b[0;32m    405\u001b[0m         \u001b[38;5;28;01mif\u001b[39;00m run_managers:\n",
      "File \u001b[1;32me:\\projects\\AI research assistant\\venv\\lib\\site-packages\\langchain_core\\language_models\\chat_models.py:589\u001b[0m, in \u001b[0;36mBaseChatModel._generate_with_cache\u001b[1;34m(self, messages, stop, run_manager, **kwargs)\u001b[0m\n\u001b[0;32m    585\u001b[0m         \u001b[38;5;28;01mraise\u001b[39;00m \u001b[38;5;167;01mValueError\u001b[39;00m(\n\u001b[0;32m    586\u001b[0m             \u001b[38;5;124m\"\u001b[39m\u001b[38;5;124mAsked to cache, but no cache found at `langchain.cache`.\u001b[39m\u001b[38;5;124m\"\u001b[39m\n\u001b[0;32m    587\u001b[0m         )\n\u001b[0;32m    588\u001b[0m \u001b[38;5;28;01mif\u001b[39;00m inspect\u001b[38;5;241m.\u001b[39msignature(\u001b[38;5;28mself\u001b[39m\u001b[38;5;241m.\u001b[39m_generate)\u001b[38;5;241m.\u001b[39mparameters\u001b[38;5;241m.\u001b[39mget(\u001b[38;5;124m\"\u001b[39m\u001b[38;5;124mrun_manager\u001b[39m\u001b[38;5;124m\"\u001b[39m):\n\u001b[1;32m--> 589\u001b[0m     result \u001b[38;5;241m=\u001b[39m \u001b[38;5;28mself\u001b[39m\u001b[38;5;241m.\u001b[39m_generate(\n\u001b[0;32m    590\u001b[0m         messages, stop\u001b[38;5;241m=\u001b[39mstop, run_manager\u001b[38;5;241m=\u001b[39mrun_manager, \u001b[38;5;241m*\u001b[39m\u001b[38;5;241m*\u001b[39mkwargs\n\u001b[0;32m    591\u001b[0m     )\n\u001b[0;32m    592\u001b[0m \u001b[38;5;28;01melse\u001b[39;00m:\n\u001b[0;32m    593\u001b[0m     result \u001b[38;5;241m=\u001b[39m \u001b[38;5;28mself\u001b[39m\u001b[38;5;241m.\u001b[39m_generate(messages, stop\u001b[38;5;241m=\u001b[39mstop, \u001b[38;5;241m*\u001b[39m\u001b[38;5;241m*\u001b[39mkwargs)\n",
      "File \u001b[1;32me:\\projects\\AI research assistant\\venv\\lib\\site-packages\\langchain_google_genai\\chat_models.py:550\u001b[0m, in \u001b[0;36mChatGoogleGenerativeAI._generate\u001b[1;34m(self, messages, stop, run_manager, **kwargs)\u001b[0m\n\u001b[0;32m    543\u001b[0m \u001b[38;5;28;01mdef\u001b[39;00m \u001b[38;5;21m_generate\u001b[39m(\n\u001b[0;32m    544\u001b[0m     \u001b[38;5;28mself\u001b[39m,\n\u001b[0;32m    545\u001b[0m     messages: List[BaseMessage],\n\u001b[1;32m   (...)\u001b[0m\n\u001b[0;32m    548\u001b[0m     \u001b[38;5;241m*\u001b[39m\u001b[38;5;241m*\u001b[39mkwargs: Any,\n\u001b[0;32m    549\u001b[0m ) \u001b[38;5;241m-\u001b[39m\u001b[38;5;241m>\u001b[39m ChatResult:\n\u001b[1;32m--> 550\u001b[0m     params, chat, message \u001b[38;5;241m=\u001b[39m \u001b[38;5;28mself\u001b[39m\u001b[38;5;241m.\u001b[39m_prepare_chat(\n\u001b[0;32m    551\u001b[0m         messages,\n\u001b[0;32m    552\u001b[0m         stop\u001b[38;5;241m=\u001b[39mstop,\n\u001b[0;32m    553\u001b[0m         \u001b[38;5;241m*\u001b[39m\u001b[38;5;241m*\u001b[39mkwargs,\n\u001b[0;32m    554\u001b[0m     )\n\u001b[0;32m    555\u001b[0m     response: genai\u001b[38;5;241m.\u001b[39mtypes\u001b[38;5;241m.\u001b[39mGenerateContentResponse \u001b[38;5;241m=\u001b[39m _chat_with_retry(\n\u001b[0;32m    556\u001b[0m         content\u001b[38;5;241m=\u001b[39mmessage,\n\u001b[0;32m    557\u001b[0m         \u001b[38;5;241m*\u001b[39m\u001b[38;5;241m*\u001b[39mparams,\n\u001b[0;32m    558\u001b[0m         generation_method\u001b[38;5;241m=\u001b[39mchat\u001b[38;5;241m.\u001b[39msend_message,\n\u001b[0;32m    559\u001b[0m     )\n\u001b[0;32m    560\u001b[0m     \u001b[38;5;28;01mreturn\u001b[39;00m _response_to_result(response)\n",
      "File \u001b[1;32me:\\projects\\AI research assistant\\venv\\lib\\site-packages\\langchain_google_genai\\chat_models.py:650\u001b[0m, in \u001b[0;36mChatGoogleGenerativeAI._prepare_chat\u001b[1;34m(self, messages, stop, **kwargs)\u001b[0m\n\u001b[0;32m    645\u001b[0m     client \u001b[38;5;241m=\u001b[39m genai\u001b[38;5;241m.\u001b[39mGenerativeModel(\n\u001b[0;32m    646\u001b[0m         model_name\u001b[38;5;241m=\u001b[39m\u001b[38;5;28mself\u001b[39m\u001b[38;5;241m.\u001b[39mmodel, tools\u001b[38;5;241m=\u001b[39mtools, safety_settings\u001b[38;5;241m=\u001b[39msafety_settings\n\u001b[0;32m    647\u001b[0m     )\n\u001b[0;32m    649\u001b[0m params \u001b[38;5;241m=\u001b[39m \u001b[38;5;28mself\u001b[39m\u001b[38;5;241m.\u001b[39m_prepare_params(stop, \u001b[38;5;241m*\u001b[39m\u001b[38;5;241m*\u001b[39mkwargs)\n\u001b[1;32m--> 650\u001b[0m history \u001b[38;5;241m=\u001b[39m \u001b[43m_parse_chat_history\u001b[49m\u001b[43m(\u001b[49m\n\u001b[0;32m    651\u001b[0m \u001b[43m    \u001b[49m\u001b[43mmessages\u001b[49m\u001b[43m,\u001b[49m\n\u001b[0;32m    652\u001b[0m \u001b[43m    \u001b[49m\u001b[43mconvert_system_message_to_human\u001b[49m\u001b[38;5;241;43m=\u001b[39;49m\u001b[38;5;28;43mself\u001b[39;49m\u001b[38;5;241;43m.\u001b[39;49m\u001b[43mconvert_system_message_to_human\u001b[49m\u001b[43m,\u001b[49m\n\u001b[0;32m    653\u001b[0m \u001b[43m\u001b[49m\u001b[43m)\u001b[49m\n\u001b[0;32m    654\u001b[0m message \u001b[38;5;241m=\u001b[39m history\u001b[38;5;241m.\u001b[39mpop()\n\u001b[0;32m    655\u001b[0m chat \u001b[38;5;241m=\u001b[39m client\u001b[38;5;241m.\u001b[39mstart_chat(history\u001b[38;5;241m=\u001b[39mhistory)\n",
      "File \u001b[1;32me:\\projects\\AI research assistant\\venv\\lib\\site-packages\\langchain_google_genai\\chat_models.py:313\u001b[0m, in \u001b[0;36m_parse_chat_history\u001b[1;34m(input_messages, convert_system_message_to_human)\u001b[0m\n\u001b[0;32m    307\u001b[0m     \u001b[38;5;28;01mfor\u001b[39;00m i, message \u001b[38;5;129;01min\u001b[39;00m \u001b[38;5;28menumerate\u001b[39m(input_messages):\n\u001b[0;32m    308\u001b[0m         \u001b[38;5;28;01mif\u001b[39;00m (\n\u001b[0;32m    309\u001b[0m             i \u001b[38;5;241m==\u001b[39m \u001b[38;5;241m0\u001b[39m\n\u001b[0;32m    310\u001b[0m             \u001b[38;5;129;01mand\u001b[39;00m \u001b[38;5;28misinstance\u001b[39m(message, SystemMessage)\n\u001b[0;32m    311\u001b[0m             \u001b[38;5;129;01mand\u001b[39;00m \u001b[38;5;129;01mnot\u001b[39;00m convert_system_message_to_human\n\u001b[0;32m    312\u001b[0m         ):\n\u001b[1;32m--> 313\u001b[0m             \u001b[38;5;28;01mraise\u001b[39;00m \u001b[38;5;167;01mValueError\u001b[39;00m(\n\u001b[0;32m    314\u001b[0m \u001b[38;5;250m                \u001b[39m\u001b[38;5;124;03m\"\"\"SystemMessages are not yet supported!\u001b[39;00m\n\u001b[0;32m    315\u001b[0m \n\u001b[0;32m    316\u001b[0m \u001b[38;5;124;03mTo automatically convert the leading SystemMessage to a HumanMessage,\u001b[39;00m\n\u001b[0;32m    317\u001b[0m \u001b[38;5;124;03mset  `convert_system_message_to_human` to True. Example:\u001b[39;00m\n\u001b[0;32m    318\u001b[0m \n\u001b[0;32m    319\u001b[0m \u001b[38;5;124;03mllm = ChatGoogleGenerativeAI(model=\"gemini-pro\", convert_system_message_to_human=True)\u001b[39;00m\n\u001b[0;32m    320\u001b[0m \u001b[38;5;124;03m\"\"\"\u001b[39;00m\n\u001b[0;32m    321\u001b[0m             )\n\u001b[0;32m    322\u001b[0m         \u001b[38;5;28;01melif\u001b[39;00m i \u001b[38;5;241m==\u001b[39m \u001b[38;5;241m0\u001b[39m \u001b[38;5;129;01mand\u001b[39;00m \u001b[38;5;28misinstance\u001b[39m(message, SystemMessage):\n\u001b[0;32m    323\u001b[0m             raw_system_message \u001b[38;5;241m=\u001b[39m message\n",
      "\u001b[1;31mValueError\u001b[0m: SystemMessages are not yet supported!\n\nTo automatically convert the leading SystemMessage to a HumanMessage,\nset  `convert_system_message_to_human` to True. Example:\n\nllm = ChatGoogleGenerativeAI(model=\"gemini-pro\", convert_system_message_to_human=True)\n"
     ]
    }
   ],
   "source": [
    "qa.run(\"recommend me 2 adventure games\")"
   ]
  },
  {
   "cell_type": "code",
   "execution_count": 58,
   "metadata": {},
   "outputs": [],
   "source": [
    "from langchain.text_splitter import CharacterTextSplitter\n"
   ]
  },
  {
   "cell_type": "code",
   "execution_count": 59,
   "metadata": {},
   "outputs": [],
   "source": [
    "# Transform data\n",
    "text_splitter = CharacterTextSplitter(chunk_size=1000, chunk_overlap=0)\n",
    "texts = text_splitter.split_documents(data)"
   ]
  },
  {
   "cell_type": "code",
   "execution_count": 61,
   "metadata": {},
   "outputs": [],
   "source": [
    "# Fill Vector DB\n",
    "docsearch = FAISS.from_documents(texts, embeddings)\n",
    "retriever=docsearch.as_retriever()"
   ]
  },
  {
   "cell_type": "code",
   "execution_count": 64,
   "metadata": {},
   "outputs": [
    {
     "data": {
      "text/plain": [
       "[Document(page_content=\"appId_or_package_name: com.vizorapps.klondike\\ntitle: Klondike Adventures\\ndescription: Do you like travelling to odd places? 🗺 Fancy renovating abandoned spots? ⚒️ Or maybe you just want to take a break and play a relaxing mini-game? 👾\\r\\n\\r\\nKlondike has it all! Join in for so much fun:\\r\\n\\r\\n🍿 <b>FOLLOW THE STORY</b> of Paul and Kate going through quite a life! This is going to feel like your favorite TV show, we promise!\\r\\n\\r\\n💫 <b>EXPLORE</b> numerous locations set in various landscapes and having their own distinct content. This game has it all! 🤩\\r\\n\\r\\n🏘 <b>BUILD</b> a flourishing city with factories & farms, mine for resources and craft everything you need for travels, quests, new buildings and orders from the locals dropping by your town.\\r\\n\\r\\n🐏 <b>FARM</b> simulation in the wild! Raise animals & harvest crops, make food for yourself and to trade.\\r\\n\\r\\n🏆 <b>COMPETE</b> with neighboring farm owners & take as many craft and farm orders as you can during the timed events held among all the players of the simulation game!  \\r\\n\\r\\n✅ <b>UNLOCK</b> challenging quests! Help explorers Kate and Paul solve mysteries and build up ancient ruins in every town or village they travel to.\\r\\n\\r\\n🎯 <b>PLAY</b> fun mini-games at your farm and at other locations!\\r\\n\\r\\n🏔 <b>ENJOY</b> the breathtaking scenery & landscapes of various locations! Every corner of your small northern town is packed with wonders of nature and history!\\r\\n\\r\\n👨\\u200d🌾 <b>MEET</b> outstanding game characters and hear their compelling stories during your journeys from one town to another!\\r\\n\\r\\n🌄 The wild lands hide many thrilling adventures. Enjoy the best Klondike simulator! 🎒\\r\\n\\r\\nBy downloading this application, you agree to Vizor Games’ User Agreement and Privacy Notice.\\r\\n\\r\\nUnder our User Agreement and Privacy Notice, only persons of 18 years of age or older may download and play Klondike Adventures.\\r\\n\\r\\nPLEASE NOTE: Klondike Adventures is free to download and install. However, some game items can be purchased for real money. If you do not want to use this feature, please set up password protection for purchases in the settings of your Google Play Store app. Additionally, a network connection is required to play.\\r\\n\\r\\nPrivacy Notice: https://vizor-games.com/privacy-notice/ \\r\\nUser Agreement: https://vizor-games.com/user-agreement/\\nsummary: Farming games: Harvest crops and Grow your own farm\\ninstalls: 50,000,000+\\nscore: 4.0554304\\nratings: 1232980.0\\ndeveloper: VIZOR APPS LTD.\\ncategories: [{'name': 'Simulation', 'id': 'GAME_SIMULATION'}, {'name': 'Management', 'id': None}, {'name': 'Farming', 'id': None}, {'name': 'Casual', 'id': 'GAME_CASUAL'}, {'name': 'Single player', 'id': None}, {'name': 'Stylized', 'id': None}]\\nicon: https://play-lh.googleusercontent.com/jW61KFsluyqSfGV_GhBNWdNJfmNfF8vApum1WiWw2hNR7cirY4hIaGd6fQ2zUGomRXw\\nheaderImage: https://play-lh.googleusercontent.com/vyiC4Rx0e5no6Fiz_ySA-S6Y8evqPNyR_BopYSiTmrzzlWydDDFAD7jASAXRmxJ2Qxyf\\ncontentRating: Rated for 3+\\ncontentRatingDescription: \\nreleased: Apr 3, 2018\\nlastUpdatedOn: May 10, 2024\\nversion: 2.121.1\", metadata={'source': 'Data/app_details.csv', 'row': 4}),\n",
       " Document(page_content=\"appId_or_package_name: com.alinagame.puzzlelegends\\ntitle: Puzzle Legends\\ndescription: <b>Match-3 strategy meets hero combat: it's simple, it's fun. Go download it and give it a whirl! </b>\\r\\n\\r\\nUnleash your strategic might in Puzzle Legends, the ultimate Match-3 Battle Game!  In Puzzle Legends, each hero possesses unique abilities waiting to be unlocked by you! Dive into the perfect blend of match-3 and battle, conquer every level, and become the ultimate adventurer!\\r\\n\\r\\n<b>Puzzle Legends is a dynamic match-3 battle game with both easy-to-learn and deep gameplay experiences.</b>\\r\\n\\r\\nIt's a clever fusion of casual match-3 and traditional turn-based battles, offering both the thrilling satisfaction of puzzle breakthroughs and the strategic challenge of classic combat. Against formidable opponents, you can show off your superior puzzle-solving skills to crush enemies, or you can meticulously plan your troop formations and skill usage to achieve victory.\\r\\n\\r\\n<b>Step into the thrilling world of Puzzle Legends, where Match-3 meets Battle Game in an epic showdown!</b>\\r\\n\\r\\nCarefully designed hero cards, each with a role to play, include three major classes - Warrior, Tank, and Support. Elemental forces of Earth, Water, Fire, and Air are represented, along with various factions. Enjoy the ever-refreshing card combinations and a unique battle experience every time. Even R-cards can pack a punch!\\r\\n\\r\\n<b>With hundreds of monster designs and dozens of magic pieces, your dungeon-crawling strategy will never run dry</b>\\r\\n\\r\\nEmbark on a main storyline journey, challenging an evil army. Each monster comes with its unique skills. Have fun with magic chess pieces - vines, teacups, bells, minerals... Endless gameplay is at your fingertips.\\r\\n\\r\\n<b>Idle gameplay helps you earn a ton of resources daily.</b>\\r\\n\\r\\nIn Puzzle Legends, you can adopt a laid-back progression style. Idle gameplay helps you earn a ton of resources daily. Start your adventure with the protagonist group, collect various treasures, and cultivate your primary heroes. The faster you progress, the more rewards you get!\\r\\n\\r\\n<b>Besides the main storyline, we have special challenges and several dungeons for you to explore. </b>\\r\\n\\r\\nGo on a relaxing and stress-free treasure hunt inside a pirate ship or face escalating challenges in the Demon Trials to win SSR equipment. In the future, we'll launch even more innovative game content and more exciting limited-time activities. Stay tuned!\\r\\n\\r\\n<b>Match-3 strategy meets hero combat: it's simple, it's fun. Go download it and give it a whirl! </b>\\r\\n\\r\\nEpic adventures await in Puzzle Legends, the ultimate fusion of Match-3 and Battle Game! Conquer challenges and vanquish foes in Puzzle Legends, the premiere Match-3 Battle Game!\\nsummary: Unlock unique skills! Dive into match-3 battles and conquer your adventure!\\ninstalls: 500+\\nscore: \\nratings: \\ndeveloper: Flyyes, Inc.\\ncategories: [{'name': 'Puzzle', 'id': 'GAME_PUZZLE'}]\\nicon: https://play-lh.googleusercontent.com/WyteFaaFdvANGjn8cdjXIlsEPYkjr2lXDqDUhpqhKRdP5M5fBSdosFYxSnYkYwxUVtM\\nheaderImage: https://play-lh.googleusercontent.com/tfoYx-lpS8lfm8yXiCrbOcjtZtih3pHC7DA9uerRnriKB0i5ljvzvqhJSl3h54uVl_Y\\ncontentRating: Rated for 3+\\ncontentRatingDescription: \\nreleased: \\nlastUpdatedOn: May 4, 2024\\nversion:\", metadata={'source': 'Data/app_details.csv', 'row': 55}),\n",
       " Document(page_content=\"appId_or_package_name: com.ondi.fortias.saga\\ntitle: Fortias Saga: Action Adventure\\ndescription: The game unfolds in a continent known as Fortias.\\r\\n\\r\\nIn the 730th year according to the Eradel calendar, a war erupts between the human alliance and the dark forces across the land.\\r\\n\\r\\nTo rescue humanity, you embark on an adventure through various worlds, battling hordes of monsters aligned with the dark forces.\\r\\n\\r\\nCollect gold, bread, and diamonds to enhance the strength of your heroes and fortify the defenses of human faction buildings.\\r\\n\\r\\nThroughout the adventure, you can recruit new heroes through the Summon system and form teams to amplify their strength, engaging in battles against powerful bosses.\\r\\n\\r\\nKey features:\\r\\n - Nostalgic art style: Old but gold, graphically designed to allow full immersion into this fun adventure.\\r\\n - Obtain random and unique heroes to enhance your power.\\r\\n - Explore divine landscapes with hundreds of maps.\\r\\n - One-of-a-kind heroes: More than 90 heroes to team up. Players can strategically build their own party.\\r\\n - Thousands of monsters, elites, bosses, and challenging obstacles to defeat.\\r\\n\\r\\nFind out more on:\\r\\nTwitter: https://twitter.com/FortiasSaga\\r\\nDiscord: https://discord.gg/rcUCEsmgF6\\r\\nFB Fanpage: https://www.facebook.com/FortiasSagaRPG\\r\\nFB Group: https://www.facebook.com/groups/fortias.saga\\nsummary: An Adventurous RPG Journey\\ninstalls: 50,000+\\nscore: 3.0\\nratings: 2696.0\\ndeveloper: ONDI\\ncategories: [{'name': 'Role Playing', 'id': 'GAME_ROLE_PLAYING'}]\\nicon: https://play-lh.googleusercontent.com/-T2g7Lcbim190MJ_g7qnZmTn7zjpdrkryPeHSanFq81Je5MJUeG_0ah3KiqdesC_LeU\\nheaderImage: https://play-lh.googleusercontent.com/167X-nQJzv41mZEFniV-j1Ja557CLZQoFegot5A2ibsuzzg57dkmK0i4xYMRtqhzYyg\\ncontentRating: Rated for 7+\\ncontentRatingDescription: Mild Violence\\nreleased: Apr 10, 2024\\nlastUpdatedOn: May 15, 2024\\nversion: 1.0.33\", metadata={'source': 'Data/app_details.csv', 'row': 49}),\n",
       " Document(page_content=\"appId_or_package_name: com.g4al.eraiders\\ntitle: Elemental Raiders\\ndescription: EMBARK ON A JOURNEY IN ELEMENTAL RAIDERS - A WORLD OF STRATEGIC BATTLES AND STUNNING VISUALS\\r\\nIn this immersive 3D world, you'll assemble a formidable team, collect unique spells, and face off against adversaries in thrilling PvP battles and challenging single-player raids.\\r\\n\\r\\nKey Features:\\r\\n• Deep Tactical Gameplay: Engage in intense turn-based combat, where each decision has a strategic impact on the outcome of the battle. With accessible gameplay mechanics, you'll need to carefully select your heroes' spells and use them wisely to triumph over your foes.\\r\\n• Thrilling PvP Arena: Prove your strategic prowess in the exciting PvP Arena, where you'll go head-to-head against other players in live battles. Rise through the ranks and unlock new heroes as you demonstrate your mastery of strategy and team building.\\r\\n• Elemental Heroes: Command a diverse team of heroes, each hailing from the elements of Water, Fire, and Nature. Each hero possesses a unique set of spells, providing endless strategic combinations.\\r\\n• Spell-Based Hero Customisation: Equip your heroes with over 135 unique spells, each with exclusive stats and attributes, to enhance their combat effectiveness. From Uncommon to Legendary, these spells enable heroes to adapt and overcome diverse challenges.\\r\\n• Hero Aesthetics: Add a touch of uniqueness to your team with a variety of distinctive skins. These skins offer a way to style your heroes, adding an extra layer of individuality to your gameplay experience\\r\\n• Single-Player Raids: Experience the thrill and challenge of single-player Raids. Engage in epic battles against the Evil Titans to earn powerful chests and unlock awe-inspiring new spells.\\r\\n• Climb the Leaderboard: Ascend to the top by earning trophies and reap exclusive rewards like Chests and Rune Stones. Your journey through the realm of Elemental Raiders could lead you to become the greatest champion this world has ever seen.\\r\\n• Made for Esports: For those seeking an extra challenge, participate in regular esports tournaments with massive rewards. Showcase your strategic skills on a grand stage and earn recognition for your prowess.\\r\\n• Vibrant Community: Become part of the active Elemental Raiders community. Forge alliances, share strategies, and embark on thrilling adventures with fellow players around the globe.\\r\\n\\r\\nGet ready for an epic journey in Runaria, where you'll dive into the world of Elemental Raiders - a clash of strategy, turn-based battles, and breathtaking visuals. Test your skills in PvE battles, gather your collection of heroes and cards, and dominate the PvP Arena.\\r\\nSnap into the adventure and become a true master of Elemental Raiders. Download now and start your quest to conquer the Arena and Raids in the epic world of Runaria!\\r\\n\\r\\nPLEASE NOTE! Elemental Raiders is free to download and play, however, some game items can also be purchased for real money. If you don't want to use this feature, please disable in-app purchases in your device's settings.\\r\\nIf you are below eighteen (18) years of age (or the age of majority where you live), have your parents or legal guardians review this Agreement. Your download and/or use of Elemental Raiders will entail their acceptance and authorisation to you for becoming a Player, and all binding obligations in relation to the EULA will also be binding for them.\\r\\n\\r\\nOfficial Website: https://elementalraiders.gamesforaliving.com\\r\\nSupport: https://elementalraiders.gamesforaliving.com/support/\\r\\nTwitter: https://twitter.com/EleRaiders\\r\\nCommunity: https://discord.gg/gamesforaliving\\r\\nPrivacy Policy: https://elementalraiders.gamesforaliving.com/privacy-policy/\\r\\nEnd-User License Agreement:https://elementalraiders.gamesforaliving.com/tou/\\nsummary: Command strategic battles in a visually stunning multiplayer arena!\\ninstalls: 10,000+\\nscore: 4.428571\\nratings: 493.0\\ndeveloper: Games for a Living\\ncategories: [{'name': 'Role Playing', 'id': 'GAME_ROLE_PLAYING'}, {'name': 'Turn-based RPG', 'id': None}, {'name': 'Casual', 'id': 'GAME_CASUAL'}, {'name': 'Stylized', 'id': None}]\\nicon: https://play-lh.googleusercontent.com/rgULJetmKlgCDZWEwX-BNORxsuN72jgOSZYN8-E_7wOe8__g9IQX3aq3fg9C8hBtu9a0\\nheaderImage: https://play-lh.googleusercontent.com/qV8LL_cbKBalV2ULq8YLBWMX9urPW1VNlfUEsO9sFp8-7yIObgXGaKbf3gPJpY-4cFk\\ncontentRating: Rated for 7+\\ncontentRatingDescription: Mild Violence\\nreleased: Mar 18, 2024\\nlastUpdatedOn: May 3, 2024\\nversion: 0.6.3\", metadata={'source': 'Data/app_details.csv', 'row': 37})]"
      ]
     },
     "execution_count": 64,
     "metadata": {},
     "output_type": "execute_result"
    }
   ],
   "source": [
    "ans = docsearch.similarity_search(\"Which games may you recommend for adventure lover?\")\n",
    "\n",
    "ans\n"
   ]
  },
  {
   "cell_type": "code",
   "execution_count": 66,
   "metadata": {},
   "outputs": [
    {
     "data": {
      "text/plain": [
       "[Document(page_content=\"appId_or_package_name: com.vizorapps.klondike\\ntitle: Klondike Adventures\\ndescription: Do you like travelling to odd places? 🗺 Fancy renovating abandoned spots? ⚒️ Or maybe you just want to take a break and play a relaxing mini-game? 👾\\r\\n\\r\\nKlondike has it all! Join in for so much fun:\\r\\n\\r\\n🍿 <b>FOLLOW THE STORY</b> of Paul and Kate going through quite a life! This is going to feel like your favorite TV show, we promise!\\r\\n\\r\\n💫 <b>EXPLORE</b> numerous locations set in various landscapes and having their own distinct content. This game has it all! 🤩\\r\\n\\r\\n🏘 <b>BUILD</b> a flourishing city with factories & farms, mine for resources and craft everything you need for travels, quests, new buildings and orders from the locals dropping by your town.\\r\\n\\r\\n🐏 <b>FARM</b> simulation in the wild! Raise animals & harvest crops, make food for yourself and to trade.\\r\\n\\r\\n🏆 <b>COMPETE</b> with neighboring farm owners & take as many craft and farm orders as you can during the timed events held among all the players of the simulation game!  \\r\\n\\r\\n✅ <b>UNLOCK</b> challenging quests! Help explorers Kate and Paul solve mysteries and build up ancient ruins in every town or village they travel to.\\r\\n\\r\\n🎯 <b>PLAY</b> fun mini-games at your farm and at other locations!\\r\\n\\r\\n🏔 <b>ENJOY</b> the breathtaking scenery & landscapes of various locations! Every corner of your small northern town is packed with wonders of nature and history!\\r\\n\\r\\n👨\\u200d🌾 <b>MEET</b> outstanding game characters and hear their compelling stories during your journeys from one town to another!\\r\\n\\r\\n🌄 The wild lands hide many thrilling adventures. Enjoy the best Klondike simulator! 🎒\\r\\n\\r\\nBy downloading this application, you agree to Vizor Games’ User Agreement and Privacy Notice.\\r\\n\\r\\nUnder our User Agreement and Privacy Notice, only persons of 18 years of age or older may download and play Klondike Adventures.\\r\\n\\r\\nPLEASE NOTE: Klondike Adventures is free to download and install. However, some game items can be purchased for real money. If you do not want to use this feature, please set up password protection for purchases in the settings of your Google Play Store app. Additionally, a network connection is required to play.\\r\\n\\r\\nPrivacy Notice: https://vizor-games.com/privacy-notice/ \\r\\nUser Agreement: https://vizor-games.com/user-agreement/\\nsummary: Farming games: Harvest crops and Grow your own farm\\ninstalls: 50,000,000+\\nscore: 4.0554304\\nratings: 1232980.0\\ndeveloper: VIZOR APPS LTD.\\ncategories: [{'name': 'Simulation', 'id': 'GAME_SIMULATION'}, {'name': 'Management', 'id': None}, {'name': 'Farming', 'id': None}, {'name': 'Casual', 'id': 'GAME_CASUAL'}, {'name': 'Single player', 'id': None}, {'name': 'Stylized', 'id': None}]\\nicon: https://play-lh.googleusercontent.com/jW61KFsluyqSfGV_GhBNWdNJfmNfF8vApum1WiWw2hNR7cirY4hIaGd6fQ2zUGomRXw\\nheaderImage: https://play-lh.googleusercontent.com/vyiC4Rx0e5no6Fiz_ySA-S6Y8evqPNyR_BopYSiTmrzzlWydDDFAD7jASAXRmxJ2Qxyf\\ncontentRating: Rated for 3+\\ncontentRatingDescription: \\nreleased: Apr 3, 2018\\nlastUpdatedOn: May 10, 2024\\nversion: 2.121.1\", metadata={'source': 'Data/app_details.csv', 'row': 4}),\n",
       " Document(page_content=\"appId_or_package_name: com.alinagame.puzzlelegends\\ntitle: Puzzle Legends\\ndescription: <b>Match-3 strategy meets hero combat: it's simple, it's fun. Go download it and give it a whirl! </b>\\r\\n\\r\\nUnleash your strategic might in Puzzle Legends, the ultimate Match-3 Battle Game!  In Puzzle Legends, each hero possesses unique abilities waiting to be unlocked by you! Dive into the perfect blend of match-3 and battle, conquer every level, and become the ultimate adventurer!\\r\\n\\r\\n<b>Puzzle Legends is a dynamic match-3 battle game with both easy-to-learn and deep gameplay experiences.</b>\\r\\n\\r\\nIt's a clever fusion of casual match-3 and traditional turn-based battles, offering both the thrilling satisfaction of puzzle breakthroughs and the strategic challenge of classic combat. Against formidable opponents, you can show off your superior puzzle-solving skills to crush enemies, or you can meticulously plan your troop formations and skill usage to achieve victory.\\r\\n\\r\\n<b>Step into the thrilling world of Puzzle Legends, where Match-3 meets Battle Game in an epic showdown!</b>\\r\\n\\r\\nCarefully designed hero cards, each with a role to play, include three major classes - Warrior, Tank, and Support. Elemental forces of Earth, Water, Fire, and Air are represented, along with various factions. Enjoy the ever-refreshing card combinations and a unique battle experience every time. Even R-cards can pack a punch!\\r\\n\\r\\n<b>With hundreds of monster designs and dozens of magic pieces, your dungeon-crawling strategy will never run dry</b>\\r\\n\\r\\nEmbark on a main storyline journey, challenging an evil army. Each monster comes with its unique skills. Have fun with magic chess pieces - vines, teacups, bells, minerals... Endless gameplay is at your fingertips.\\r\\n\\r\\n<b>Idle gameplay helps you earn a ton of resources daily.</b>\\r\\n\\r\\nIn Puzzle Legends, you can adopt a laid-back progression style. Idle gameplay helps you earn a ton of resources daily. Start your adventure with the protagonist group, collect various treasures, and cultivate your primary heroes. The faster you progress, the more rewards you get!\\r\\n\\r\\n<b>Besides the main storyline, we have special challenges and several dungeons for you to explore. </b>\\r\\n\\r\\nGo on a relaxing and stress-free treasure hunt inside a pirate ship or face escalating challenges in the Demon Trials to win SSR equipment. In the future, we'll launch even more innovative game content and more exciting limited-time activities. Stay tuned!\\r\\n\\r\\n<b>Match-3 strategy meets hero combat: it's simple, it's fun. Go download it and give it a whirl! </b>\\r\\n\\r\\nEpic adventures await in Puzzle Legends, the ultimate fusion of Match-3 and Battle Game! Conquer challenges and vanquish foes in Puzzle Legends, the premiere Match-3 Battle Game!\\nsummary: Unlock unique skills! Dive into match-3 battles and conquer your adventure!\\ninstalls: 500+\\nscore: \\nratings: \\ndeveloper: Flyyes, Inc.\\ncategories: [{'name': 'Puzzle', 'id': 'GAME_PUZZLE'}]\\nicon: https://play-lh.googleusercontent.com/WyteFaaFdvANGjn8cdjXIlsEPYkjr2lXDqDUhpqhKRdP5M5fBSdosFYxSnYkYwxUVtM\\nheaderImage: https://play-lh.googleusercontent.com/tfoYx-lpS8lfm8yXiCrbOcjtZtih3pHC7DA9uerRnriKB0i5ljvzvqhJSl3h54uVl_Y\\ncontentRating: Rated for 3+\\ncontentRatingDescription: \\nreleased: \\nlastUpdatedOn: May 4, 2024\\nversion:\", metadata={'source': 'Data/app_details.csv', 'row': 55}),\n",
       " Document(page_content=\"appId_or_package_name: com.ondi.fortias.saga\\ntitle: Fortias Saga: Action Adventure\\ndescription: The game unfolds in a continent known as Fortias.\\r\\n\\r\\nIn the 730th year according to the Eradel calendar, a war erupts between the human alliance and the dark forces across the land.\\r\\n\\r\\nTo rescue humanity, you embark on an adventure through various worlds, battling hordes of monsters aligned with the dark forces.\\r\\n\\r\\nCollect gold, bread, and diamonds to enhance the strength of your heroes and fortify the defenses of human faction buildings.\\r\\n\\r\\nThroughout the adventure, you can recruit new heroes through the Summon system and form teams to amplify their strength, engaging in battles against powerful bosses.\\r\\n\\r\\nKey features:\\r\\n - Nostalgic art style: Old but gold, graphically designed to allow full immersion into this fun adventure.\\r\\n - Obtain random and unique heroes to enhance your power.\\r\\n - Explore divine landscapes with hundreds of maps.\\r\\n - One-of-a-kind heroes: More than 90 heroes to team up. Players can strategically build their own party.\\r\\n - Thousands of monsters, elites, bosses, and challenging obstacles to defeat.\\r\\n\\r\\nFind out more on:\\r\\nTwitter: https://twitter.com/FortiasSaga\\r\\nDiscord: https://discord.gg/rcUCEsmgF6\\r\\nFB Fanpage: https://www.facebook.com/FortiasSagaRPG\\r\\nFB Group: https://www.facebook.com/groups/fortias.saga\\nsummary: An Adventurous RPG Journey\\ninstalls: 50,000+\\nscore: 3.0\\nratings: 2696.0\\ndeveloper: ONDI\\ncategories: [{'name': 'Role Playing', 'id': 'GAME_ROLE_PLAYING'}]\\nicon: https://play-lh.googleusercontent.com/-T2g7Lcbim190MJ_g7qnZmTn7zjpdrkryPeHSanFq81Je5MJUeG_0ah3KiqdesC_LeU\\nheaderImage: https://play-lh.googleusercontent.com/167X-nQJzv41mZEFniV-j1Ja557CLZQoFegot5A2ibsuzzg57dkmK0i4xYMRtqhzYyg\\ncontentRating: Rated for 7+\\ncontentRatingDescription: Mild Violence\\nreleased: Apr 10, 2024\\nlastUpdatedOn: May 15, 2024\\nversion: 1.0.33\", metadata={'source': 'Data/app_details.csv', 'row': 49}),\n",
       " Document(page_content=\"appId_or_package_name: com.g4al.eraiders\\ntitle: Elemental Raiders\\ndescription: EMBARK ON A JOURNEY IN ELEMENTAL RAIDERS - A WORLD OF STRATEGIC BATTLES AND STUNNING VISUALS\\r\\nIn this immersive 3D world, you'll assemble a formidable team, collect unique spells, and face off against adversaries in thrilling PvP battles and challenging single-player raids.\\r\\n\\r\\nKey Features:\\r\\n• Deep Tactical Gameplay: Engage in intense turn-based combat, where each decision has a strategic impact on the outcome of the battle. With accessible gameplay mechanics, you'll need to carefully select your heroes' spells and use them wisely to triumph over your foes.\\r\\n• Thrilling PvP Arena: Prove your strategic prowess in the exciting PvP Arena, where you'll go head-to-head against other players in live battles. Rise through the ranks and unlock new heroes as you demonstrate your mastery of strategy and team building.\\r\\n• Elemental Heroes: Command a diverse team of heroes, each hailing from the elements of Water, Fire, and Nature. Each hero possesses a unique set of spells, providing endless strategic combinations.\\r\\n• Spell-Based Hero Customisation: Equip your heroes with over 135 unique spells, each with exclusive stats and attributes, to enhance their combat effectiveness. From Uncommon to Legendary, these spells enable heroes to adapt and overcome diverse challenges.\\r\\n• Hero Aesthetics: Add a touch of uniqueness to your team with a variety of distinctive skins. These skins offer a way to style your heroes, adding an extra layer of individuality to your gameplay experience\\r\\n• Single-Player Raids: Experience the thrill and challenge of single-player Raids. Engage in epic battles against the Evil Titans to earn powerful chests and unlock awe-inspiring new spells.\\r\\n• Climb the Leaderboard: Ascend to the top by earning trophies and reap exclusive rewards like Chests and Rune Stones. Your journey through the realm of Elemental Raiders could lead you to become the greatest champion this world has ever seen.\\r\\n• Made for Esports: For those seeking an extra challenge, participate in regular esports tournaments with massive rewards. Showcase your strategic skills on a grand stage and earn recognition for your prowess.\\r\\n• Vibrant Community: Become part of the active Elemental Raiders community. Forge alliances, share strategies, and embark on thrilling adventures with fellow players around the globe.\\r\\n\\r\\nGet ready for an epic journey in Runaria, where you'll dive into the world of Elemental Raiders - a clash of strategy, turn-based battles, and breathtaking visuals. Test your skills in PvE battles, gather your collection of heroes and cards, and dominate the PvP Arena.\\r\\nSnap into the adventure and become a true master of Elemental Raiders. Download now and start your quest to conquer the Arena and Raids in the epic world of Runaria!\\r\\n\\r\\nPLEASE NOTE! Elemental Raiders is free to download and play, however, some game items can also be purchased for real money. If you don't want to use this feature, please disable in-app purchases in your device's settings.\\r\\nIf you are below eighteen (18) years of age (or the age of majority where you live), have your parents or legal guardians review this Agreement. Your download and/or use of Elemental Raiders will entail their acceptance and authorisation to you for becoming a Player, and all binding obligations in relation to the EULA will also be binding for them.\\r\\n\\r\\nOfficial Website: https://elementalraiders.gamesforaliving.com\\r\\nSupport: https://elementalraiders.gamesforaliving.com/support/\\r\\nTwitter: https://twitter.com/EleRaiders\\r\\nCommunity: https://discord.gg/gamesforaliving\\r\\nPrivacy Policy: https://elementalraiders.gamesforaliving.com/privacy-policy/\\r\\nEnd-User License Agreement:https://elementalraiders.gamesforaliving.com/tou/\\nsummary: Command strategic battles in a visually stunning multiplayer arena!\\ninstalls: 10,000+\\nscore: 4.428571\\nratings: 493.0\\ndeveloper: Games for a Living\\ncategories: [{'name': 'Role Playing', 'id': 'GAME_ROLE_PLAYING'}, {'name': 'Turn-based RPG', 'id': None}, {'name': 'Casual', 'id': 'GAME_CASUAL'}, {'name': 'Stylized', 'id': None}]\\nicon: https://play-lh.googleusercontent.com/rgULJetmKlgCDZWEwX-BNORxsuN72jgOSZYN8-E_7wOe8__g9IQX3aq3fg9C8hBtu9a0\\nheaderImage: https://play-lh.googleusercontent.com/qV8LL_cbKBalV2ULq8YLBWMX9urPW1VNlfUEsO9sFp8-7yIObgXGaKbf3gPJpY-4cFk\\ncontentRating: Rated for 7+\\ncontentRatingDescription: Mild Violence\\nreleased: Mar 18, 2024\\nlastUpdatedOn: May 3, 2024\\nversion: 0.6.3\", metadata={'source': 'Data/app_details.csv', 'row': 37})]"
      ]
     },
     "execution_count": 66,
     "metadata": {},
     "output_type": "execute_result"
    }
   ],
   "source": [
    "docs = retriever.get_relevant_documents(\"Which games may you recommend for adventure lover?\")\n",
    "\n",
    "docs"
   ]
  },
  {
   "cell_type": "code",
   "execution_count": 68,
   "metadata": {},
   "outputs": [
    {
     "data": {
      "text/plain": [
       "'Based on the provided descriptions, here are the games that might appeal to an adventure lover:\\n\\n* **Klondike Adventures:** This game offers a mix of adventure, exploration, and building. You follow the story of Paul and Kate as they travel to different locations, solve mysteries, and build up ancient ruins. \\n* **Fortias Saga: Action Adventure:** This RPG features a classic adventure storyline where you battle monsters, explore various worlds, and recruit heroes to fight against dark forces. \\n'"
      ]
     },
     "execution_count": 68,
     "metadata": {},
     "output_type": "execute_result"
    }
   ],
   "source": [
    "qa = RetrievalQA.from_chain_type(llm=model, chain_type=\"stuff\", retriever=retriever)\n",
    "qa.run({\"query\": \"Which games may you recommend for adventure lover?\"} )\n"
   ]
  },
  {
   "cell_type": "code",
   "execution_count": null,
   "metadata": {},
   "outputs": [],
   "source": []
  }
 ],
 "metadata": {
  "kernelspec": {
   "display_name": "Python 3",
   "language": "python",
   "name": "python3"
  },
  "language_info": {
   "codemirror_mode": {
    "name": "ipython",
    "version": 3
   },
   "file_extension": ".py",
   "mimetype": "text/x-python",
   "name": "python",
   "nbconvert_exporter": "python",
   "pygments_lexer": "ipython3",
   "version": "3.9.18"
  }
 },
 "nbformat": 4,
 "nbformat_minor": 2
}
