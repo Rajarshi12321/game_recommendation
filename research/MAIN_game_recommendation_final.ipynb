{
 "cells": [
  {
   "cell_type": "code",
   "execution_count": 1,
   "metadata": {},
   "outputs": [],
   "source": [
    "## Getting to Main directory\n",
    "import os\n",
    "os.chdir(\"../\")"
   ]
  },
  {
   "cell_type": "code",
   "execution_count": 2,
   "metadata": {},
   "outputs": [
    {
     "data": {
      "text/plain": [
       "True"
      ]
     },
     "execution_count": 2,
     "metadata": {},
     "output_type": "execute_result"
    }
   ],
   "source": [
    "# loading secret key\n",
    "from dotenv import load_dotenv\n",
    "load_dotenv()"
   ]
  },
  {
   "cell_type": "code",
   "execution_count": 3,
   "metadata": {},
   "outputs": [],
   "source": [
    "import pandas as pd"
   ]
  },
  {
   "cell_type": "code",
   "execution_count": 4,
   "metadata": {},
   "outputs": [
    {
     "name": "stderr",
     "output_type": "stream",
     "text": [
      "e:\\projects\\AI research assistant\\venv\\lib\\site-packages\\tqdm\\auto.py:21: TqdmWarning: IProgress not found. Please update jupyter and ipywidgets. See https://ipywidgets.readthedocs.io/en/stable/user_install.html\n",
      "  from .autonotebook import tqdm as notebook_tqdm\n"
     ]
    }
   ],
   "source": [
    "import google.generativeai as genai\n",
    "from langchain.vectorstores import FAISS\n",
    "from langchain_google_genai import ChatGoogleGenerativeAI\n",
    "\n",
    "from typing import List\n",
    "from langchain.docstore.document import Document\n"
   ]
  },
  {
   "cell_type": "markdown",
   "metadata": {},
   "source": [
    "## Loading APIs"
   ]
  },
  {
   "cell_type": "code",
   "execution_count": 5,
   "metadata": {},
   "outputs": [],
   "source": [
    "load_dotenv()\n",
    "gemini_api_key=os.getenv(\"GOOGLE_API_KEY\")\n",
    "genai.configure(api_key=os.getenv(\"GOOGLE_API_KEY\"))"
   ]
  },
  {
   "cell_type": "code",
   "execution_count": 6,
   "metadata": {},
   "outputs": [],
   "source": [
    "from langchain.document_loaders.csv_loader import CSVLoader\n",
    "from langchain.text_splitter import CharacterTextSplitter\n"
   ]
  },
  {
   "cell_type": "code",
   "execution_count": 7,
   "metadata": {},
   "outputs": [],
   "source": [
    "# loading app details csv\n",
    "csv_file=\"Data/app_details.csv\""
   ]
  },
  {
   "cell_type": "markdown",
   "metadata": {},
   "source": [
    "## Loading the data"
   ]
  },
  {
   "cell_type": "code",
   "execution_count": 8,
   "metadata": {},
   "outputs": [],
   "source": [
    "loader = CSVLoader(file_path=\"Data/app_details.csv\")\n",
    "data = loader.load()"
   ]
  },
  {
   "cell_type": "markdown",
   "metadata": {},
   "source": [
    "### Loading CSV as Dataframe to see the data"
   ]
  },
  {
   "cell_type": "code",
   "execution_count": 9,
   "metadata": {},
   "outputs": [],
   "source": [
    "df = pd.read_csv(csv_file)"
   ]
  },
  {
   "cell_type": "code",
   "execution_count": 32,
   "metadata": {},
   "outputs": [
    {
     "data": {
      "text/html": [
       "<div>\n",
       "<style scoped>\n",
       "    .dataframe tbody tr th:only-of-type {\n",
       "        vertical-align: middle;\n",
       "    }\n",
       "\n",
       "    .dataframe tbody tr th {\n",
       "        vertical-align: top;\n",
       "    }\n",
       "\n",
       "    .dataframe thead th {\n",
       "        text-align: right;\n",
       "    }\n",
       "</style>\n",
       "<table border=\"1\" class=\"dataframe\">\n",
       "  <thead>\n",
       "    <tr style=\"text-align: right;\">\n",
       "      <th></th>\n",
       "      <th>appId_or_package_name</th>\n",
       "      <th>title</th>\n",
       "      <th>description</th>\n",
       "      <th>summary</th>\n",
       "      <th>installs</th>\n",
       "      <th>score</th>\n",
       "      <th>ratings</th>\n",
       "      <th>developer</th>\n",
       "      <th>categories</th>\n",
       "      <th>icon</th>\n",
       "      <th>headerImage</th>\n",
       "      <th>contentRating</th>\n",
       "      <th>contentRatingDescription</th>\n",
       "      <th>released</th>\n",
       "      <th>lastUpdatedOn</th>\n",
       "      <th>version</th>\n",
       "      <th>url</th>\n",
       "    </tr>\n",
       "  </thead>\n",
       "  <tbody>\n",
       "    <tr>\n",
       "      <th>0</th>\n",
       "      <td>com.supercell.clashofclans</td>\n",
       "      <td>Clash of Clans</td>\n",
       "      <td>Join millions of players worldwide as you buil...</td>\n",
       "      <td>Epic combat strategy game. Build your village,...</td>\n",
       "      <td>500,000,000+</td>\n",
       "      <td>4.500079</td>\n",
       "      <td>61153372.0</td>\n",
       "      <td>Supercell</td>\n",
       "      <td>[{'name': 'Strategy', 'id': 'GAME_STRATEGY'}, ...</td>\n",
       "      <td>https://play-lh.googleusercontent.com/LByrur1m...</td>\n",
       "      <td>https://play-lh.googleusercontent.com/D6u3M1r7...</td>\n",
       "      <td>Rated for 7+</td>\n",
       "      <td>Mild Violence</td>\n",
       "      <td>Sep 30, 2013</td>\n",
       "      <td>May 3, 2024</td>\n",
       "      <td>16.253.25</td>\n",
       "      <td>https://play.google.com/store/apps/details?id=...</td>\n",
       "    </tr>\n",
       "    <tr>\n",
       "      <th>1</th>\n",
       "      <td>com.supercell.clashroyale</td>\n",
       "      <td>Clash Royale</td>\n",
       "      <td>Enter the Arena! Build your Battle Deck and ou...</td>\n",
       "      <td>Clash Royale is a real-time, head-to-head batt...</td>\n",
       "      <td>500,000,000+</td>\n",
       "      <td>4.178203</td>\n",
       "      <td>37533792.0</td>\n",
       "      <td>Supercell</td>\n",
       "      <td>[{'name': 'Strategy', 'id': 'GAME_STRATEGY'}, ...</td>\n",
       "      <td>https://play-lh.googleusercontent.com/z950eFx-...</td>\n",
       "      <td>https://play-lh.googleusercontent.com/s9qs3woa...</td>\n",
       "      <td>Rated for 7+</td>\n",
       "      <td>Mild Violence</td>\n",
       "      <td>Mar 1, 2016</td>\n",
       "      <td>Apr 17, 2024</td>\n",
       "      <td>60256021</td>\n",
       "      <td>https://play.google.com/store/apps/details?id=...</td>\n",
       "    </tr>\n",
       "    <tr>\n",
       "      <th>2</th>\n",
       "      <td>com.dts.freefiremax</td>\n",
       "      <td>Free Fire MAX</td>\n",
       "      <td>[Mechadrake Incoming]\\r\\nThe fierce Mechadrake...</td>\n",
       "      <td>MAX Battle Royale Experience</td>\n",
       "      <td>100,000,000+</td>\n",
       "      <td>4.301307</td>\n",
       "      <td>22476456.0</td>\n",
       "      <td>Garena International I</td>\n",
       "      <td>[{'name': 'Action', 'id': 'GAME_ACTION'}, {'na...</td>\n",
       "      <td>https://play-lh.googleusercontent.com/T8RuSQDF...</td>\n",
       "      <td>https://play-lh.googleusercontent.com/PTF7b77h...</td>\n",
       "      <td>Rated for 12+</td>\n",
       "      <td>Moderate Violence</td>\n",
       "      <td>Sep 18, 2021</td>\n",
       "      <td>Apr 7, 2024</td>\n",
       "      <td>2.104.1</td>\n",
       "      <td>https://play.google.com/store/apps/details?id=...</td>\n",
       "    </tr>\n",
       "    <tr>\n",
       "      <th>3</th>\n",
       "      <td>com.topgamesinc.evony</td>\n",
       "      <td>Evony: The King's Return</td>\n",
       "      <td>Shoot and engage in battles！\\r\\nBuild your cit...</td>\n",
       "      <td>Move and Shoot! Build Your Empire, Explore Dif...</td>\n",
       "      <td>100,000,000+</td>\n",
       "      <td>3.547859</td>\n",
       "      <td>707011.0</td>\n",
       "      <td>TG Inc.</td>\n",
       "      <td>[{'name': 'Strategy', 'id': 'GAME_STRATEGY'}, ...</td>\n",
       "      <td>https://play-lh.googleusercontent.com/_AnSpAUp...</td>\n",
       "      <td>https://play-lh.googleusercontent.com/0WahHxuN...</td>\n",
       "      <td>Rated for 7+</td>\n",
       "      <td>Mild Violence</td>\n",
       "      <td>Aug 10, 2016</td>\n",
       "      <td>May 17, 2024</td>\n",
       "      <td>NaN</td>\n",
       "      <td>https://play.google.com/store/apps/details?id=...</td>\n",
       "    </tr>\n",
       "    <tr>\n",
       "      <th>4</th>\n",
       "      <td>com.vizorapps.klondike</td>\n",
       "      <td>Klondike Adventures</td>\n",
       "      <td>Do you like travelling to odd places? 🗺 Fancy ...</td>\n",
       "      <td>Farming games: Harvest crops and Grow your own...</td>\n",
       "      <td>50,000,000+</td>\n",
       "      <td>4.050404</td>\n",
       "      <td>1233575.0</td>\n",
       "      <td>VIZOR APPS LTD.</td>\n",
       "      <td>[{'name': 'Simulation', 'id': 'GAME_SIMULATION...</td>\n",
       "      <td>https://play-lh.googleusercontent.com/jW61KFsl...</td>\n",
       "      <td>https://play-lh.googleusercontent.com/vyiC4Rx0...</td>\n",
       "      <td>Rated for 3+</td>\n",
       "      <td>NaN</td>\n",
       "      <td>Apr 3, 2018</td>\n",
       "      <td>May 10, 2024</td>\n",
       "      <td>2.121.1</td>\n",
       "      <td>https://play.google.com/store/apps/details?id=...</td>\n",
       "    </tr>\n",
       "  </tbody>\n",
       "</table>\n",
       "</div>"
      ],
      "text/plain": [
       "        appId_or_package_name                     title  \\\n",
       "0  com.supercell.clashofclans            Clash of Clans   \n",
       "1   com.supercell.clashroyale              Clash Royale   \n",
       "2         com.dts.freefiremax             Free Fire MAX   \n",
       "3       com.topgamesinc.evony  Evony: The King's Return   \n",
       "4      com.vizorapps.klondike       Klondike Adventures   \n",
       "\n",
       "                                         description  \\\n",
       "0  Join millions of players worldwide as you buil...   \n",
       "1  Enter the Arena! Build your Battle Deck and ou...   \n",
       "2  [Mechadrake Incoming]\\r\\nThe fierce Mechadrake...   \n",
       "3  Shoot and engage in battles！\\r\\nBuild your cit...   \n",
       "4  Do you like travelling to odd places? 🗺 Fancy ...   \n",
       "\n",
       "                                             summary      installs     score  \\\n",
       "0  Epic combat strategy game. Build your village,...  500,000,000+  4.500079   \n",
       "1  Clash Royale is a real-time, head-to-head batt...  500,000,000+  4.178203   \n",
       "2                       MAX Battle Royale Experience  100,000,000+  4.301307   \n",
       "3  Move and Shoot! Build Your Empire, Explore Dif...  100,000,000+  3.547859   \n",
       "4  Farming games: Harvest crops and Grow your own...   50,000,000+  4.050404   \n",
       "\n",
       "      ratings               developer  \\\n",
       "0  61153372.0               Supercell   \n",
       "1  37533792.0               Supercell   \n",
       "2  22476456.0  Garena International I   \n",
       "3    707011.0                 TG Inc.   \n",
       "4   1233575.0         VIZOR APPS LTD.   \n",
       "\n",
       "                                          categories  \\\n",
       "0  [{'name': 'Strategy', 'id': 'GAME_STRATEGY'}, ...   \n",
       "1  [{'name': 'Strategy', 'id': 'GAME_STRATEGY'}, ...   \n",
       "2  [{'name': 'Action', 'id': 'GAME_ACTION'}, {'na...   \n",
       "3  [{'name': 'Strategy', 'id': 'GAME_STRATEGY'}, ...   \n",
       "4  [{'name': 'Simulation', 'id': 'GAME_SIMULATION...   \n",
       "\n",
       "                                                icon  \\\n",
       "0  https://play-lh.googleusercontent.com/LByrur1m...   \n",
       "1  https://play-lh.googleusercontent.com/z950eFx-...   \n",
       "2  https://play-lh.googleusercontent.com/T8RuSQDF...   \n",
       "3  https://play-lh.googleusercontent.com/_AnSpAUp...   \n",
       "4  https://play-lh.googleusercontent.com/jW61KFsl...   \n",
       "\n",
       "                                         headerImage  contentRating  \\\n",
       "0  https://play-lh.googleusercontent.com/D6u3M1r7...   Rated for 7+   \n",
       "1  https://play-lh.googleusercontent.com/s9qs3woa...   Rated for 7+   \n",
       "2  https://play-lh.googleusercontent.com/PTF7b77h...  Rated for 12+   \n",
       "3  https://play-lh.googleusercontent.com/0WahHxuN...   Rated for 7+   \n",
       "4  https://play-lh.googleusercontent.com/vyiC4Rx0...   Rated for 3+   \n",
       "\n",
       "  contentRatingDescription      released lastUpdatedOn    version  \\\n",
       "0            Mild Violence  Sep 30, 2013   May 3, 2024  16.253.25   \n",
       "1            Mild Violence   Mar 1, 2016  Apr 17, 2024   60256021   \n",
       "2        Moderate Violence  Sep 18, 2021   Apr 7, 2024    2.104.1   \n",
       "3            Mild Violence  Aug 10, 2016  May 17, 2024        NaN   \n",
       "4                      NaN   Apr 3, 2018  May 10, 2024    2.121.1   \n",
       "\n",
       "                                                 url  \n",
       "0  https://play.google.com/store/apps/details?id=...  \n",
       "1  https://play.google.com/store/apps/details?id=...  \n",
       "2  https://play.google.com/store/apps/details?id=...  \n",
       "3  https://play.google.com/store/apps/details?id=...  \n",
       "4  https://play.google.com/store/apps/details?id=...  "
      ]
     },
     "execution_count": 32,
     "metadata": {},
     "output_type": "execute_result"
    }
   ],
   "source": [
    "df.head()"
   ]
  },
  {
   "cell_type": "code",
   "execution_count": 31,
   "metadata": {},
   "outputs": [
    {
     "name": "stdout",
     "output_type": "stream",
     "text": [
      "<class 'pandas.core.frame.DataFrame'>\n",
      "RangeIndex: 183 entries, 0 to 182\n",
      "Data columns (total 17 columns):\n",
      " #   Column                    Non-Null Count  Dtype  \n",
      "---  ------                    --------------  -----  \n",
      " 0   appId_or_package_name     183 non-null    object \n",
      " 1   title                     183 non-null    object \n",
      " 2   description               183 non-null    object \n",
      " 3   summary                   183 non-null    object \n",
      " 4   installs                  162 non-null    object \n",
      " 5   score                     151 non-null    float64\n",
      " 6   ratings                   151 non-null    float64\n",
      " 7   developer                 183 non-null    object \n",
      " 8   categories                183 non-null    object \n",
      " 9   icon                      183 non-null    object \n",
      " 10  headerImage               183 non-null    object \n",
      " 11  contentRating             183 non-null    object \n",
      " 12  contentRatingDescription  97 non-null     object \n",
      " 13  released                  153 non-null    object \n",
      " 14  lastUpdatedOn             183 non-null    object \n",
      " 15  version                   164 non-null    object \n",
      " 16  url                       183 non-null    object \n",
      "dtypes: float64(2), object(15)\n",
      "memory usage: 24.4+ KB\n"
     ]
    }
   ],
   "source": [
    "df.info()"
   ]
  },
  {
   "cell_type": "markdown",
   "metadata": {},
   "source": [
    "## Chunking the data"
   ]
  },
  {
   "cell_type": "code",
   "execution_count": 11,
   "metadata": {},
   "outputs": [],
   "source": [
    "# Transform data\n",
    "text_splitter = CharacterTextSplitter(chunk_size=1000, chunk_overlap=10)\n",
    "texts = text_splitter.split_documents(data)"
   ]
  },
  {
   "cell_type": "code",
   "execution_count": 12,
   "metadata": {},
   "outputs": [],
   "source": [
    "from langchain_google_genai import GoogleGenerativeAIEmbeddings\n"
   ]
  },
  {
   "cell_type": "code",
   "execution_count": 13,
   "metadata": {},
   "outputs": [],
   "source": [
    "model = ChatGoogleGenerativeAI(\n",
    "    model=\"gemini-1.5-pro-latest\", api_key=gemini_api_key, temperature=0.3,  convert_system_message_to_human=True\n",
    ")\n",
    "\n",
    "embeddings = GoogleGenerativeAIEmbeddings(model=\"models/embedding-001\")\n",
    "\n",
    "genai.configure(api_key=gemini_api_key)\n"
   ]
  },
  {
   "cell_type": "markdown",
   "metadata": {},
   "source": [
    "## Upserting the Data"
   ]
  },
  {
   "cell_type": "code",
   "execution_count": 14,
   "metadata": {},
   "outputs": [],
   "source": [
    "# Fill Vector DB\n",
    "docsearch = FAISS.from_documents(texts, embeddings)\n",
    "retriever=docsearch.as_retriever()"
   ]
  },
  {
   "cell_type": "code",
   "execution_count": 15,
   "metadata": {},
   "outputs": [
    {
     "name": "stdout",
     "output_type": "stream",
     "text": [
      "Successfully stored indexes\n"
     ]
    }
   ],
   "source": [
    "vector_store = FAISS.from_documents(texts, embedding=embeddings)\n",
    "vector_store.save_local(\"faiss_index\")\n",
    "print(\"Successfully stored indexes\")"
   ]
  },
  {
   "cell_type": "code",
   "execution_count": 16,
   "metadata": {},
   "outputs": [],
   "source": [
    "new_db = FAISS.load_local(\n",
    "        \"faiss_index\", embeddings, allow_dangerous_deserialization=True\n",
    "    )\n",
    "\n",
    "retriever1=new_db.as_retriever()"
   ]
  },
  {
   "cell_type": "code",
   "execution_count": null,
   "metadata": {},
   "outputs": [],
   "source": []
  },
  {
   "cell_type": "code",
   "execution_count": 17,
   "metadata": {},
   "outputs": [
    {
     "data": {
      "text/plain": [
       "Document(page_content='appId_or_package_name: com.goongames.DungeonsofDreadrock\\ntitle: Dungeons of Dreadrock\\ndescription: Puzzle your way through 100 handcrafted levels into the ancient depths of Dreadrock Mountain.\\r\\n\\r\\n\"It\\'s super creative\" (IGN)\\r\\n\"A masterpiece\" (WATSON)\\r\\n\"Beautifully designed\" (PURENINTENDO)\\r\\n\"Something really special\" (MACWORLD)\\nsummary: An immersive puzzle dungeon adventure - Winner of IGF 2022\\ninstalls: 1,000,000+\\nscore: 4.8072915\\nratings: 35916.0\\ndeveloper: Christoph Minnameier\\ncategories: [{\\'name\\': \\'Action\\', \\'id\\': \\'GAME_ACTION\\'}, {\\'name\\': \\'Action-adventure\\', \\'id\\': None}, {\\'name\\': \\'Casual\\', \\'id\\': \\'GAME_CASUAL\\'}, {\\'name\\': \\'Single player\\', \\'id\\': None}, {\\'name\\': \\'Stylized\\', \\'id\\': None}, {\\'name\\': \\'Offline\\', \\'id\\': None}]\\nicon: https://play-lh.googleusercontent.com/fu9gbEVB4YWx9AwEnkDsv1QlBf9iOIk7WlMXTuv1oJ2XVw4f_nKHS0Oc2DygGkKzVg\\nheaderImage: https://play-lh.googleusercontent.com/0JGFClzQlrsu159aB2R0xaiITlZbAZeQuXe8XOP4xJkuilfzN47S4t22ezVvLaD2KA\\ncontentRating: Rated for 12+\\ncontentRatingDescription: Moderate Violence, Mild Swearing\\nreleased: Feb 12, 2022\\nlastUpdatedOn: Mar 22, 2023\\nversion: 1.14\\nurl: https://play.google.com/store/apps/details?id=com.goongames.DungeonsofDreadrock&hl=en&gl=in', metadata={'source': 'Data/app_details.csv', 'row': 161})"
      ]
     },
     "execution_count": 17,
     "metadata": {},
     "output_type": "execute_result"
    }
   ],
   "source": [
    "ans = docsearch.similarity_search(\"Which games may you recommend for adventure lover?\")\n",
    "\n",
    "ans[0]\n"
   ]
  },
  {
   "cell_type": "code",
   "execution_count": 18,
   "metadata": {},
   "outputs": [
    {
     "data": {
      "text/plain": [
       "Document(page_content='appId_or_package_name: com.goongames.DungeonsofDreadrock\\ntitle: Dungeons of Dreadrock\\ndescription: Puzzle your way through 100 handcrafted levels into the ancient depths of Dreadrock Mountain.\\r\\n\\r\\n\"It\\'s super creative\" (IGN)\\r\\n\"A masterpiece\" (WATSON)\\r\\n\"Beautifully designed\" (PURENINTENDO)\\r\\n\"Something really special\" (MACWORLD)\\nsummary: An immersive puzzle dungeon adventure - Winner of IGF 2022\\ninstalls: 1,000,000+\\nscore: 4.8072915\\nratings: 35916.0\\ndeveloper: Christoph Minnameier\\ncategories: [{\\'name\\': \\'Action\\', \\'id\\': \\'GAME_ACTION\\'}, {\\'name\\': \\'Action-adventure\\', \\'id\\': None}, {\\'name\\': \\'Casual\\', \\'id\\': \\'GAME_CASUAL\\'}, {\\'name\\': \\'Single player\\', \\'id\\': None}, {\\'name\\': \\'Stylized\\', \\'id\\': None}, {\\'name\\': \\'Offline\\', \\'id\\': None}]\\nicon: https://play-lh.googleusercontent.com/fu9gbEVB4YWx9AwEnkDsv1QlBf9iOIk7WlMXTuv1oJ2XVw4f_nKHS0Oc2DygGkKzVg\\nheaderImage: https://play-lh.googleusercontent.com/0JGFClzQlrsu159aB2R0xaiITlZbAZeQuXe8XOP4xJkuilfzN47S4t22ezVvLaD2KA\\ncontentRating: Rated for 12+\\ncontentRatingDescription: Moderate Violence, Mild Swearing\\nreleased: Feb 12, 2022\\nlastUpdatedOn: Mar 22, 2023\\nversion: 1.14\\nurl: https://play.google.com/store/apps/details?id=com.goongames.DungeonsofDreadrock&hl=en&gl=in', metadata={'source': 'Data/app_details.csv', 'row': 161})"
      ]
     },
     "execution_count": 18,
     "metadata": {},
     "output_type": "execute_result"
    }
   ],
   "source": [
    "docs = retriever.get_relevant_documents(\"Which games may you recommend for adventure lover?\")\n",
    "\n",
    "docs[0]"
   ]
  },
  {
   "cell_type": "markdown",
   "metadata": {},
   "source": [
    "## Using RetrievalQA to make final query"
   ]
  },
  {
   "cell_type": "code",
   "execution_count": 19,
   "metadata": {},
   "outputs": [],
   "source": [
    "from langchain.chains import RetrievalQA"
   ]
  },
  {
   "cell_type": "code",
   "execution_count": 20,
   "metadata": {},
   "outputs": [
    {
     "name": "stderr",
     "output_type": "stream",
     "text": [
      "e:\\projects\\AI research assistant\\venv\\lib\\site-packages\\langchain_core\\_api\\deprecation.py:117: LangChainDeprecationWarning: The function `run` was deprecated in LangChain 0.1.0 and will be removed in 0.2.0. Use invoke instead.\n",
      "  warn_deprecated(\n"
     ]
    },
    {
     "data": {
      "text/plain": [
       "'Based on the provided descriptions, I would recommend these games for an adventure lover:\\n\\n* **Shovel Pirate:**  This game features a pirate on a quest to gather treasures, with platforming, puzzles, and traps to overcome. \\n* **Machinarium:** This game follows a robot named Josef trying to save his girlfriend from the Black Cap Brotherhood gang. It features a unique visual style and puzzle-solving elements. \\n* **Dungeons of Dreadrock:** While this game is primarily puzzle-focused, its 100 handcrafted levels through Dreadrock Mountain suggest a sense of exploration and adventure. \\n'"
      ]
     },
     "execution_count": 20,
     "metadata": {},
     "output_type": "execute_result"
    }
   ],
   "source": [
    "qa = RetrievalQA.from_chain_type(llm=model, chain_type=\"stuff\", retriever=retriever1)\n",
    "qa.run({\"query\": \"Which games may you recommend for adventure lover?\"} )\n"
   ]
  },
  {
   "cell_type": "code",
   "execution_count": 21,
   "metadata": {},
   "outputs": [
    {
     "data": {
      "text/plain": [
       "'Here are some adventure games for you:\\n\\n1. **Dungeons of Dreadrock**\\n   - **Image URL:** https://play-lh.googleusercontent.com/fu9gbEVB4YWx9AwEnkDsv1QlBf9iOIk7WlMXTuv1oJ2XVw4f_nKHS0Oc2DygGkKzVg\\n   - **Description:** Puzzle your way through 100 handcrafted levels in this immersive puzzle dungeon adventure.\\n\\n2. **Shovel Pirate**\\n   - **Image URL:** https://play-lh.googleusercontent.com/CR8maPXYv56LEWjtLX9Nt9UcYqIINN_YIAvHWdSvDcvCuDYKj4Q2cgA07lbOKS6mDR8\\n   - **Description:**  A cute platformer where you play as a pirate on a quest to gather treasures. Features fun puzzles, adorable characters, and clever traps.\\n\\n3. **Machinarium**\\n   - **Image URL:** https://play-lh.googleusercontent.com/8s7VpaT4BJgaTq8u7eF2FIgW3-gOZzdOYRvI6-edXj2mpJms_XZS8ULxbe1VSd8RoVs\\n   - **Description:** A beautifully designed adventure game where you help Josef the robot save his girlfriend from the Black Cap Brotherhood gang.\\n\\n4. **Cat Legends: Idle RPG Games**\\n   - **Image URL:** https://play-lh.googleusercontent.com/706tLhIOm-Mmw_lmyBB6dsdE47ONfNXuVTw2rIXP8ULfmbCSPkVJyQ3vNXFsCHUlyA\\n   - **Description:** Embark on an epic adventure with adorable cats in this idle RPG. Unlock mythical realms, engage in strategic battles, and merge your feline heroes. \\n\\nI can only provide you with these four adventure game recommendations based on the context. \\n'"
      ]
     },
     "execution_count": 21,
     "metadata": {},
     "output_type": "execute_result"
    }
   ],
   "source": [
    "qa.run({\"query\": \"Which games may you recommend for adventure lover give me 10 recommendation?, give me image url too\"} )\n"
   ]
  },
  {
   "cell_type": "code",
   "execution_count": 22,
   "metadata": {},
   "outputs": [],
   "source": [
    "from langchain.memory import ConversationBufferMemory\n",
    "from langchain.prompts import PromptTemplate\n",
    "\n"
   ]
  },
  {
   "cell_type": "code",
   "execution_count": 23,
   "metadata": {},
   "outputs": [],
   "source": [
    "template = \"\"\"Answer the question in your own words from the \n",
    "    context given to you.\n",
    "    If questions are asked where there is no relevant context available, please answer from \n",
    "    what you know.\n",
    "\n",
    "    Context: {context}\n",
    "\n",
    "    Human: {question}\n",
    "    Assistant:\"\"\"\n",
    "\n",
    "prompt = PromptTemplate(\n",
    "input_variables=[\"context\",  \"question\"], template=template)\n"
   ]
  },
  {
   "cell_type": "code",
   "execution_count": 24,
   "metadata": {},
   "outputs": [],
   "source": [
    "\n",
    "memory = ConversationBufferMemory(memory_key=\"chat_history\", return_messages=True)\n",
    "\n",
    "memory.save_context({\"input\": \"Which games may you recommend for adventure lover give me 10 recommendation?, give me image url too\"},\n",
    "                {\"output\": \"\"\" Here are 10 adventure games with image URLs:\n",
    "\n",
    "1. **Klondike Adventures**\n",
    "   - Image URL: https://play-lh.googleusercontent.com/jW61KFsluyqSfGV_GhBNWdNJfmNfF8vApum1WiWw2hNR7cirY4hIaGd6fQ2zUGomRXw\n",
    "   - Combines adventure, exploration, and city-building.\n",
    "\n",
    "2. **Mythic Samkok**\n",
    "   - Image URL: https://play-lh.googleusercontent.com/C4gz0QN80HKvBzoEndxCPj8FaKWYfauoztkZH4VAnDVaHjBsZUFMQGfdjQb7fejNs0d8\n",
    "   - Embark on an epic journey through the Three Kingdoms.\n",
    "\n",
    "3. **Fortias Saga: Action Adventure**\n",
    "   - Image URL: https://play-lh.googleusercontent.com/-T2g7Lcbim190MJ_g7qnZmTn7zjpdrkryPeHSanFq81Je5MJUeG_0ah3KiqdesC_LeU\n",
    "   - Battle monsters and recruit heroes in a nostalgic art style.\n",
    "\n",
    "4. **Clash of Clans**\n",
    "   - Image URL: https://play-lh.googleusercontent.com/LByrur1mTmPeNr0ljI-uAUcct1rzmTve5Esau1SwoAzjBXQUby6uHIfHbF9TAT51mgHm\n",
    "   - Build your village, raise a clan, and compete in epic Clan Wars.\n",
    "\n",
    "5. **Pokémon GO** (Not in provided context, but a popular choice)\n",
    "   - Image URL: Search for \"Pokémon GO logo\" on Google Images.\n",
    "   - Explore the real world to catch Pokémon.\n",
    "\n",
    "6. **The Legend of Zelda: Breath of the Wild** (Not on Play Store, but a console/PC classic)\n",
    "   - Image URL: Search for \"Breath of the Wild logo\" on Google Images.\n",
    "   - Explore a vast open world filled with adventure and puzzles.\n",
    "\n",
    "7. **Minecraft** (Available on Play Store)\n",
    "   - Image URL: Search for \"Minecraft logo\" on Google Images.\n",
    "   - Build, explore, and survive in a procedurally generated world.\n",
    "\n",
    "8. **Stardew Valley** (Available on Play Store)\n",
    "   - Image URL: Search for \"Stardew Valley logo\" on Google Images.\n",
    "   - Build a farm, explore a charming town, and uncover its secrets.\n",
    "\n",
    "9. **Terraria** (Available on Play Store)\n",
    "   - Image URL: Search for \"Terraria logo\" on Google Images.\n",
    "   - Dig, fight, explore, and build in a 2D action-adventure sandbox.\n",
    "\n",
    "10. **Genshin Impact** (Available on Play Store)\n",
    "    - Image URL: Search for \"Genshin Impact logo\" on Google Images.\n",
    "    - Explore a vast open world with stunning visuals and engaging combat.\n",
    "\n",
    "\n",
    "                 \"\"\"\n",
    "                 })\n"
   ]
  },
  {
   "cell_type": "code",
   "execution_count": 25,
   "metadata": {},
   "outputs": [],
   "source": [
    "\n",
    "qa = RetrievalQA.from_chain_type(llm=model, retriever=retriever1, memory=memory,chain_type_kwargs={'prompt': prompt}\n",
    ")"
   ]
  },
  {
   "cell_type": "code",
   "execution_count": null,
   "metadata": {},
   "outputs": [],
   "source": []
  },
  {
   "cell_type": "code",
   "execution_count": 26,
   "metadata": {},
   "outputs": [
    {
     "data": {
      "text/plain": [
       "{'query': 'Which games may you recommend for adventure lover?',\n",
       " 'chat_history': [HumanMessage(content='Which games may you recommend for adventure lover give me 10 recommendation?, give me image url too'),\n",
       "  AIMessage(content=' Here are 10 adventure games with image URLs:\\n\\n1. **Klondike Adventures**\\n   - Image URL: https://play-lh.googleusercontent.com/jW61KFsluyqSfGV_GhBNWdNJfmNfF8vApum1WiWw2hNR7cirY4hIaGd6fQ2zUGomRXw\\n   - Combines adventure, exploration, and city-building.\\n\\n2. **Mythic Samkok**\\n   - Image URL: https://play-lh.googleusercontent.com/C4gz0QN80HKvBzoEndxCPj8FaKWYfauoztkZH4VAnDVaHjBsZUFMQGfdjQb7fejNs0d8\\n   - Embark on an epic journey through the Three Kingdoms.\\n\\n3. **Fortias Saga: Action Adventure**\\n   - Image URL: https://play-lh.googleusercontent.com/-T2g7Lcbim190MJ_g7qnZmTn7zjpdrkryPeHSanFq81Je5MJUeG_0ah3KiqdesC_LeU\\n   - Battle monsters and recruit heroes in a nostalgic art style.\\n\\n4. **Clash of Clans**\\n   - Image URL: https://play-lh.googleusercontent.com/LByrur1mTmPeNr0ljI-uAUcct1rzmTve5Esau1SwoAzjBXQUby6uHIfHbF9TAT51mgHm\\n   - Build your village, raise a clan, and compete in epic Clan Wars.\\n\\n5. **Pokémon GO** (Not in provided context, but a popular choice)\\n   - Image URL: Search for \"Pokémon GO logo\" on Google Images.\\n   - Explore the real world to catch Pokémon.\\n\\n6. **The Legend of Zelda: Breath of the Wild** (Not on Play Store, but a console/PC classic)\\n   - Image URL: Search for \"Breath of the Wild logo\" on Google Images.\\n   - Explore a vast open world filled with adventure and puzzles.\\n\\n7. **Minecraft** (Available on Play Store)\\n   - Image URL: Search for \"Minecraft logo\" on Google Images.\\n   - Build, explore, and survive in a procedurally generated world.\\n\\n8. **Stardew Valley** (Available on Play Store)\\n   - Image URL: Search for \"Stardew Valley logo\" on Google Images.\\n   - Build a farm, explore a charming town, and uncover its secrets.\\n\\n9. **Terraria** (Available on Play Store)\\n   - Image URL: Search for \"Terraria logo\" on Google Images.\\n   - Dig, fight, explore, and build in a 2D action-adventure sandbox.\\n\\n10. **Genshin Impact** (Available on Play Store)\\n    - Image URL: Search for \"Genshin Impact logo\" on Google Images.\\n    - Explore a vast open world with stunning visuals and engaging combat.\\n\\n\\n                 '),\n",
       "  HumanMessage(content='Which games may you recommend for adventure lover?'),\n",
       "  AIMessage(content='Based on the provided descriptions, an adventure lover might enjoy:\\n\\n* **Shovel Pirate:**  A platforming adventure with puzzle elements where you play as a pirate searching for treasure.\\n* **Machinarium:** A point-and-click adventure game set in a robot city where you must solve puzzles to help Josef rescue his girlfriend. \\n')],\n",
       " 'result': 'Based on the provided descriptions, an adventure lover might enjoy:\\n\\n* **Shovel Pirate:**  A platforming adventure with puzzle elements where you play as a pirate searching for treasure.\\n* **Machinarium:** A point-and-click adventure game set in a robot city where you must solve puzzles to help Josef rescue his girlfriend. \\n'}"
      ]
     },
     "execution_count": 26,
     "metadata": {},
     "output_type": "execute_result"
    }
   ],
   "source": [
    "# qa = RetrievalQA.from_chain_type(llm=model, chain_type=\"stuff\", retriever=retriever1)\n",
    "qa.invoke({\"query\": \"Which games may you recommend for adventure lover?\"} )\n"
   ]
  },
  {
   "cell_type": "code",
   "execution_count": 28,
   "metadata": {},
   "outputs": [],
   "source": [
    "res = qa.invoke({\"query\": \"Which games may you recommend for adventure lover give me 10 recommendation?, give me image url too\"} )\n"
   ]
  },
  {
   "cell_type": "code",
   "execution_count": 29,
   "metadata": {},
   "outputs": [
    {
     "data": {
      "text/plain": [
       "'Here are 10 adventure games for you, combining the provided context with general knowledge:\\n\\n1. **Dungeons of Dreadrock:** A puzzle-filled dungeon crawler with a unique art style. \\n   * Image URL: https://play-lh.googleusercontent.com/0JGFClzQlrsu159aB2R0xaiITlZbAZeQuXe8XOP4xJkuilfzN47S4t22ezVvLaD2KA\\n\\n2. **Shovel Pirate:** A charming platformer with treasure-hunting and light puzzle elements.\\n   * Image URL: https://play-lh.googleusercontent.com/bz_SqMcnNxw0qO_qXR2KwOoTi3mw3610_xUgeJJJtFyKfsJItEx9Ue0OJXMYk_wIpQ\\n\\n3. **Machinarium:** A beautifully crafted point-and-click adventure set in a robot world.\\n   * Image URL: https://play-lh.googleusercontent.com/x9uKZ2K7l_bwHliNpPO6fzBxzQBWXN4JAZSxkZ5lpINZKCHBVOcalI3SKSiOozwGYXA\\n\\n4. **Cat Legends: Idle RPG Games:** Embark on a quest with adorable cats in this idle RPG.\\n   * Image URL: https://play-lh.googleusercontent.com/J6oGx6rOZvF9pq1rbAm5BUcvHmR5jNmMCpi7by-vCvfoPhRKc50E5BnfmgtQd7LyHgc\\n\\n5. **Stardew Valley:** (General knowledge) Build a farm, explore a charming world, and uncover secrets.\\n   * Image URL: *Search for \"Stardew Valley\" on your preferred image search engine.*\\n\\n6. **The Legend of Zelda: Breath of the Wild:** (General knowledge) A vast open world to explore, filled with puzzles, combat, and a captivating story.\\n   * Image URL: *Search for \"The Legend of Zelda: Breath of the Wild\" on your preferred image search engine.*\\n\\n7. **Hollow Knight:** (General knowledge) A challenging Metroidvania with stunning visuals and a haunting atmosphere.\\n   * Image URL: *Search for \"Hollow Knight\" on your preferred image search engine.*\\n\\n8. **Oxenfree:** (General knowledge) A supernatural mystery adventure with a focus on dialogue and character relationships.\\n   * Image URL: *Search for \"Oxenfree\" on your preferred image search engine.*\\n\\n9. **Life is Strange:** (General knowledge) A choice-driven narrative adventure with a memorable story and characters.\\n   * Image URL: *Search for \"Life is Strange\" on your preferred image search engine.*\\n\\n10. **What Remains of Edith Finch:** (General knowledge) A walking simulator that tells the tragic and fantastical story of a cursed family.\\n   * Image URL: *Search for \"What Remains of Edith Finch\" on your preferred image search engine.* \\n'"
      ]
     },
     "execution_count": 29,
     "metadata": {},
     "output_type": "execute_result"
    }
   ],
   "source": [
    "res[\"result\"]"
   ]
  },
  {
   "cell_type": "code",
   "execution_count": null,
   "metadata": {},
   "outputs": [],
   "source": []
  }
 ],
 "metadata": {
  "kernelspec": {
   "display_name": "Python 3",
   "language": "python",
   "name": "python3"
  },
  "language_info": {
   "codemirror_mode": {
    "name": "ipython",
    "version": 3
   },
   "file_extension": ".py",
   "mimetype": "text/x-python",
   "name": "python",
   "nbconvert_exporter": "python",
   "pygments_lexer": "ipython3",
   "version": "3.9.18"
  }
 },
 "nbformat": 4,
 "nbformat_minor": 2
}
