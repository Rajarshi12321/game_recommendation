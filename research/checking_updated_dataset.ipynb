{
 "cells": [
  {
   "cell_type": "code",
   "execution_count": 6,
   "metadata": {},
   "outputs": [],
   "source": [
    "import pandas as pd"
   ]
  },
  {
   "cell_type": "code",
   "execution_count": 7,
   "metadata": {},
   "outputs": [],
   "source": [
    "# Load the preserved dataset and merger with new data set then save the new dataset with unique rows\n",
    "old_data = pd.read_csv(\"../Data/app_details.csv\")\n",
    "    \n"
   ]
  },
  {
   "cell_type": "code",
   "execution_count": 8,
   "metadata": {},
   "outputs": [
    {
     "name": "stdout",
     "output_type": "stream",
     "text": [
      "<class 'pandas.core.frame.DataFrame'>\n",
      "RangeIndex: 183 entries, 0 to 182\n",
      "Data columns (total 17 columns):\n",
      " #   Column                    Non-Null Count  Dtype  \n",
      "---  ------                    --------------  -----  \n",
      " 0   appId_or_package_name     183 non-null    object \n",
      " 1   title                     183 non-null    object \n",
      " 2   description               183 non-null    object \n",
      " 3   summary                   183 non-null    object \n",
      " 4   installs                  162 non-null    object \n",
      " 5   score                     151 non-null    float64\n",
      " 6   ratings                   151 non-null    float64\n",
      " 7   developer                 183 non-null    object \n",
      " 8   categories                183 non-null    object \n",
      " 9   icon                      183 non-null    object \n",
      " 10  headerImage               183 non-null    object \n",
      " 11  contentRating             183 non-null    object \n",
      " 12  contentRatingDescription  97 non-null     object \n",
      " 13  released                  153 non-null    object \n",
      " 14  lastUpdatedOn             183 non-null    object \n",
      " 15  version                   164 non-null    object \n",
      " 16  url                       183 non-null    object \n",
      "dtypes: float64(2), object(15)\n",
      "memory usage: 24.4+ KB\n"
     ]
    }
   ],
   "source": [
    "old_data.info()"
   ]
  },
  {
   "cell_type": "code",
   "execution_count": null,
   "metadata": {},
   "outputs": [],
   "source": []
  },
  {
   "cell_type": "code",
   "execution_count": null,
   "metadata": {},
   "outputs": [],
   "source": []
  }
 ],
 "metadata": {
  "kernelspec": {
   "display_name": "Python 3",
   "language": "python",
   "name": "python3"
  },
  "language_info": {
   "codemirror_mode": {
    "name": "ipython",
    "version": 3
   },
   "file_extension": ".py",
   "mimetype": "text/x-python",
   "name": "python",
   "nbconvert_exporter": "python",
   "pygments_lexer": "ipython3",
   "version": "3.9.19"
  }
 },
 "nbformat": 4,
 "nbformat_minor": 2
}
