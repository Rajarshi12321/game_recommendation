{
 "cells": [
  {
   "cell_type": "code",
   "execution_count": 1,
   "metadata": {},
   "outputs": [],
   "source": [
    "import requests\n",
    "from bs4 import BeautifulSoup\n",
    "from pprint import pprint\n"
   ]
  },
  {
   "cell_type": "code",
   "execution_count": 5,
   "metadata": {},
   "outputs": [
    {
     "data": {
      "text/plain": [
       "<Response [200]>"
      ]
     },
     "execution_count": 5,
     "metadata": {},
     "output_type": "execute_result"
    }
   ],
   "source": [
    "\n",
    "url = 'https://play.google.com/store/games?hl=en_IN&gl=US'\n",
    "data = requests.get(url)\n",
    "\n",
    "data"
   ]
  },
  {
   "cell_type": "code",
   "execution_count": 8,
   "metadata": {},
   "outputs": [],
   "source": [
    "# Parse the HTML content\n",
    "soup = BeautifulSoup(data.text, 'html.parser')\n"
   ]
  },
  {
   "cell_type": "code",
   "execution_count": 9,
   "metadata": {},
   "outputs": [
    {
     "name": "stdout",
     "output_type": "stream",
     "text": [
      "Extracted href: /store/apps/details?id=com.supercell.clashofclans\n"
     ]
    }
   ],
   "source": [
    "# Find the anchor tag\n",
    "a_tag = soup.find('a', class_='Si6A0c Gy4nib')\n",
    "\n",
    "# Extract the href attribute\n",
    "if a_tag and 'href' in a_tag.attrs:\n",
    "    href_value = a_tag['href']\n",
    "    print(f'Extracted href: {href_value}')\n",
    "else:\n",
    "    print('No href attribute found in the specified <a> tag.')"
   ]
  },
  {
   "cell_type": "code",
   "execution_count": 10,
   "metadata": {},
   "outputs": [
    {
     "data": {
      "text/plain": [
       "<a class=\"Si6A0c Gy4nib\" href=\"/store/apps/details?id=com.supercell.clashofclans\" jslog=\"38003; 1:577|qgKHBhqEBggAShMIxffW89qRhgMV0uiEAB2g/Qd+mgETCMugtbHUkYYDFdfThAAd5DoGqvoBDwoNCAASCQoFZW4tVVMQAJICwQUKIAoaY29tLnN1cGVyY2VsbC5jbGFzaG9mY2xhbnMQARgDEAAaEgoECAEQAQoECAMQAQoECAQQASJpaHR0cHM6Ly9wbGF5LWxoLmdvb2dsZXVzZXJjb250ZW50LmNvbS9xa01JV1gtSlk2VFMtOVVFc3ZXYzA1eC02WFpPaHNDUzVISFhIRFpKR1ZoNkd2LTVXLXQ3Z2hVeWhENFgtdVdjU0Q0ImpodHRwczovL3BsYXktbGguZ29vZ2xldXNlcmNvbnRlbnQuY29tL0E1aXZ0TXE5OGNDSVpyNGpTdjBYZzR3c25HZ2ZubHJxZ0FNekp3UXRKZTltTTJyMWpkc3YwME9TdzFKbzM2Nm13dUFGImpodHRwczovL3BsYXktbGguZ29vZ2xldXNlcmNvbnRlbnQuY29tL3RXQjFpS2hPQ1hSSHh0cC1tVzRYSVNBNlhELWdFQ3dESmhaS0dIdXljOUxoTV9aU0NuVlNNZDFyWUFnVjlhSGNySVl0QsMCCmlodHRwczovL3BsYXktbGguZ29vZ2xldXNlcmNvbnRlbnQuY29tL3FrTUlXWC1KWTZUUy05VUVzdldjMDV4LTZYWk9oc0NTNUhIWEhEWkpHVmg2R3YtNVctdDdnaFV5aEQ0WC11V2NTRDQKamh0dHBzOi8vcGxheS1saC5nb29nbGV1c2VyY29udGVudC5jb20vQTVpdnRNcTk4Y0NJWnI0alN2MFhnNHdzbkdnZm5scnFnQU16SndRdEplOW1NMnIxamRzdjAwT1N3MUpvMzY2bXd1QUYKamh0dHBzOi8vcGxheS1saC5nb29nbGV1c2VyY29udGVudC5jb20vdFdCMWlLaE9DWFJIeHRwLW1XNFhJU0E2WEQtZ0VDd0RKaFpLR0h1eWM5TGhNX1pTQ25WU01kMXJZQWdWOWFIY3JJWXQ=; track:click,impression\"><div class=\"Vc0mnc\"><img alt=\"Screenshot image\" aria-hidden=\"true\" class=\"T75of nIMMJc\" loading=\"lazy\" src=\"https://i.ytimg.com/vi/C4uzmiVn8Og/hqdefault.jpg\"/><div class=\"aCy7Gf\"><button aria-label=\"Play Clash of Clans\" class=\"FN1l2 XdjT2b\" data-stop-propagating-events=\"true\" data-video-url=\"https://www.youtube.com/embed/C4uzmiVn8Og?ps=play&amp;vq=large&amp;rel=0&amp;autohide=1&amp;showinfo=0\" data-web-presentation=\"1\" data-youtube-asset-id=\"yt:movie:C4uzmiVn8Og\" data-youtube-id=\"C4uzmiVn8Og\" jsaction=\"click:e7xSJf\" jscontroller=\"M2Qezd\" jslog=\"37885; 1:218|qgKHBhqEBggAShMIxffW89qRhgMV0uiEAB2g/Qd+mgETCMugtbHUkYYDFdfThAAd5DoGqvoBDwoNCAASCQoFZW4tVVMQAJICwQUKIAoaY29tLnN1cGVyY2VsbC5jbGFzaG9mY2xhbnMQARgDEAAaEgoECAEQAQoECAMQAQoECAQQASJpaHR0cHM6Ly9wbGF5LWxoLmdvb2dsZXVzZXJjb250ZW50LmNvbS9xa01JV1gtSlk2VFMtOVVFc3ZXYzA1eC02WFpPaHNDUzVISFhIRFpKR1ZoNkd2LTVXLXQ3Z2hVeWhENFgtdVdjU0Q0ImpodHRwczovL3BsYXktbGguZ29vZ2xldXNlcmNvbnRlbnQuY29tL0E1aXZ0TXE5OGNDSVpyNGpTdjBYZzR3c25HZ2ZubHJxZ0FNekp3UXRKZTltTTJyMWpkc3YwME9TdzFKbzM2Nm13dUFGImpodHRwczovL3BsYXktbGguZ29vZ2xldXNlcmNvbnRlbnQuY29tL3RXQjFpS2hPQ1hSSHh0cC1tVzRYSVNBNlhELWdFQ3dESmhaS0dIdXljOUxoTV9aU0NuVlNNZDFyWUFnVjlhSGNySVl0QsMCCmlodHRwczovL3BsYXktbGguZ29vZ2xldXNlcmNvbnRlbnQuY29tL3FrTUlXWC1KWTZUUy05VUVzdldjMDV4LTZYWk9oc0NTNUhIWEhEWkpHVmg2R3YtNVctdDdnaFV5aEQ0WC11V2NTRDQKamh0dHBzOi8vcGxheS1saC5nb29nbGV1c2VyY29udGVudC5jb20vQTVpdnRNcTk4Y0NJWnI0alN2MFhnNHdzbkdnZm5scnFnQU16SndRdEplOW1NMnIxamRzdjAwT1N3MUpvMzY2bXd1QUYKamh0dHBzOi8vcGxheS1saC5nb29nbGV1c2VyY29udGVudC5jb20vdFdCMWlLaE9DWFJIeHRwLW1XNFhJU0E2WEQtZ0VDd0RKaFpLR0h1eWM5TGhNX1pTQ25WU01kMXJZQWdWOWFIY3JJWXQ=; track:click,impression\" jsmodel=\"hQqEkb\" jsname=\"OvWdXe\"><span aria-hidden=\"true\" class=\"Qv3d6b\"><svg class=\"bKsVV\" fill=\"none\" viewbox=\"0 0 56 56\" xmlns=\"http://www.w3.org/2000/svg\"><path clip-rule=\"evenodd\" d=\"M28 56C43.464 56 56 43.464 56 28C56 12.536 43.464 0 28 0C12.536 0 0 12.536 0 28C0 43.464 12.536 56 28 56Z\" fill=\"black\" fill-opacity=\"0.54\" fill-rule=\"evenodd\"></path><path clip-rule=\"evenodd\" d=\"M39.6667 28L21 17.5V38.5L39.6667 28Z\" fill=\"white\" fill-rule=\"evenodd\"></path></svg></span></button></div></div><div class=\"j2FCNc\"><img alt=\"Thumbnail image\" aria-hidden=\"true\" class=\"T75of stzEZd\" loading=\"lazy\" src=\"https://play-lh.googleusercontent.com/LByrur1mTmPeNr0ljI-uAUcct1rzmTve5Esau1SwoAzjBXQUby6uHIfHbF9TAT51mgHm=s64\" srcset=\"https://play-lh.googleusercontent.com/LByrur1mTmPeNr0ljI-uAUcct1rzmTve5Esau1SwoAzjBXQUby6uHIfHbF9TAT51mgHm=s128 2x\"/><div class=\"cXFu1\"><div class=\"ubGTjb\"><span class=\"sT93pb DdYX5 OnEJge\">Clash of Clans</span></div><div class=\"ubGTjb\"><span class=\"sT93pb w2kbF\">Strategy</span></div><div class=\"ubGTjb\"><div aria-label=\"Rated 4.5 stars out of five stars\"><span class=\"sT93pb CKzsaf\"><span class=\"w2kbF\">4.5</span><span class=\"Q4fJQd\"><i aria-hidden=\"true\" class=\"google-material-icons Yvy3Fd\">star</i></span></span></div><span class=\"sT93pb w2kbF ePXqnb\"></span></div></div></div></a>"
      ]
     },
     "execution_count": 10,
     "metadata": {},
     "output_type": "execute_result"
    }
   ],
   "source": [
    "my_data = []\n",
    "\n",
    "html = BeautifulSoup(data.text, 'html.parser')\n",
    "articles = html.select('a.Gy4nib')\n",
    "\n",
    "articles[0]"
   ]
  },
  {
   "cell_type": "code",
   "execution_count": 11,
   "metadata": {},
   "outputs": [
    {
     "name": "stdout",
     "output_type": "stream",
     "text": [
      "/store/apps/details?id=com.supercell.clashofclans\n",
      "/store/apps/details?id=com.supercell.clashroyale\n",
      "/store/apps/details?id=com.dts.freefiremax\n",
      "/store/apps/details?id=com.topgamesinc.evony\n",
      "/store/apps/details?id=com.vizorapps.klondike\n",
      "/store/apps/details?id=com.playrix.township\n",
      "/store/apps/details?id=com.bandainamcoent.dblegends_ww\n",
      "/store/apps/details?id=com.igg.android.lordsmobile\n",
      "/store/apps/details?id=com.rovio.baba\n",
      "/store/apps/details?id=com.playrix.gardenscapes\n",
      "/store/apps/details?id=com.os.airforce\n",
      "/store/apps/details?id=com.playrix.homescapes\n",
      "/store/apps/details?id=com.tap4fun.ape.gplay\n",
      "/store/apps/details?id=com.mobile.legends\n",
      "/store/apps/details?id=com.gameloft.android.ANMP.GloftA9HM\n",
      "/store/apps/details?id=com.fgol.HungrySharkEvolution\n",
      "/store/apps/details?id=com.kingsgroup.sos\n",
      "/store/apps/details?id=com.lilithgame.roc.gp\n",
      "/store/apps/details?id=com.devsisters.ck\n",
      "/store/apps/details?id=com.dogbytegames.offtheroad\n",
      "/store/apps/details?id=com.netease.newspike\n",
      "/store/apps/details?id=games.my.zombie.shooter\n",
      "/store/apps/details?id=com.t2ksports.myteam\n",
      "/store/apps/details?id=com.lightfoxgames.punch\n",
      "/store/apps/details?id=com.crunchyroll.opm\n",
      "/store/apps/details?id=com.wg.wowslegends\n",
      "/store/apps/details?id=com.RightSoftLabs.MvAB\n",
      "/store/apps/details?id=com.birdletter.villains.android\n",
      "/store/apps/details?id=com.dino.steel\n",
      "/store/apps/details?id=com.global.fzslg\n",
      "/store/apps/details?id=com.betadwarf.minionmasters.googleplay\n",
      "/store/apps/details?id=jp.co.cybird.appli.android.vil.en\n",
      "/store/apps/details?id=com.neowizgames.game.browndust2\n",
      "/store/apps/details?id=com.sparklingsocietyworld.rollercoasterthemeparkbuildingtycoon\n",
      "/store/apps/details?id=com.syjgame.hgame.cn\n",
      "/store/apps/details?id=com.global.frxxkr.and\n",
      "/store/apps/details?id=com.xinshengfun.alsp.en\n",
      "/store/apps/details?id=aos.astronize.tsx\n",
      "/store/apps/details?id=com.bethsoft.stronghold\n",
      "/store/apps/details?id=com.g4al.eraiders\n",
      "/store/apps/details?id=beatmaker.edm.musicgames.pianofire2\n",
      "/store/apps/details?id=com.notdoppler.earntodierogue\n",
      "/store/apps/details?id=com.cyberjoy.geometrytower\n",
      "/store/apps/details?id=block.wood.jigsaw.game.wooden\n",
      "/store/apps/details?id=com.cyberjoy.fishing\n",
      "/store/apps/details?id=com.kitchen.xingnang.en\n",
      "/store/apps/details?id=classic.solitaire.klondike.free.card\n",
      "/store/apps/details?id=tile.games.master.match.triple.puzzle.game.free\n",
      "/store/apps/details?id=com.bubbleshooter.pop.dream.classic.panda.puzzle\n",
      "/store/apps/details?id=com.dreamplay.survivalrandomdefense.google\n",
      "/store/apps/details?id=com.logisk.chroma\n",
      "/store/apps/details?id=com.ondi.fortias.saga\n",
      "/store/apps/details?id=com.funovus.wildcastle2\n",
      "/store/apps/details?id=com.HappyTurtle.MrFlip\n",
      "/store/apps/details?id=com.nostellar.apocalypseidle\n",
      "/store/apps/details?id=beatmaker.edm.musicgames.fluffyhop\n",
      "/store/apps/details?id=com.aidiangames.Hedgies.gp\n",
      "/store/apps/details?id=com.alinagame.puzzlelegends\n",
      "/store/apps/details?id=com.astrologicmedia.findstuffamerica\n",
      "/store/apps/details?id=com.astrologicmedia.hiddencats\n"
     ]
    }
   ],
   "source": [
    "\n",
    "# Extract the href attributes and store them in a list\n",
    "my_data = [article['href'] for article in articles if 'href' in article.attrs]\n",
    "\n",
    "# Print the extracted href values\n",
    "for href in my_data:\n",
    "    print(href)"
   ]
  },
  {
   "cell_type": "code",
   "execution_count": 13,
   "metadata": {},
   "outputs": [
    {
     "data": {
      "text/plain": [
       "60"
      ]
     },
     "execution_count": 13,
     "metadata": {},
     "output_type": "execute_result"
    }
   ],
   "source": [
    "len(my_data)"
   ]
  },
  {
   "cell_type": "code",
   "execution_count": 15,
   "metadata": {},
   "outputs": [],
   "source": [
    "import re"
   ]
  },
  {
   "cell_type": "code",
   "execution_count": 17,
   "metadata": {},
   "outputs": [
    {
     "name": "stdout",
     "output_type": "stream",
     "text": [
      "com.supercell.clashofclans\n",
      "com.supercell.clashroyale\n",
      "com.dts.freefiremax\n",
      "com.topgamesinc.evony\n",
      "com.vizorapps.klondike\n"
     ]
    }
   ],
   "source": [
    "# Regular expression pattern to extract id from href\n",
    "pattern = re.compile(r'/store/apps/details\\?id=([^&]+)')\n",
    "\n",
    "# Extract ids using regex\n",
    "ids = []\n",
    "for href in my_data:\n",
    "    match = pattern.search(href)\n",
    "    if match:\n",
    "        ids.append(match.group(1))\n",
    "\n",
    "# Print the extracted ids\n",
    "for app_id in ids[:5]:\n",
    "    print(app_id)"
   ]
  },
  {
   "cell_type": "code",
   "execution_count": 74,
   "metadata": {},
   "outputs": [],
   "source": [
    "import pandas as pd\n",
    "\n",
    "# Set display options to show full content\n",
    "pd.set_option('display.max_colwidth', None)\n"
   ]
  },
  {
   "cell_type": "code",
   "execution_count": 75,
   "metadata": {},
   "outputs": [
    {
     "data": {
      "text/html": [
       "<div>\n",
       "<style scoped>\n",
       "    .dataframe tbody tr th:only-of-type {\n",
       "        vertical-align: middle;\n",
       "    }\n",
       "\n",
       "    .dataframe tbody tr th {\n",
       "        vertical-align: top;\n",
       "    }\n",
       "\n",
       "    .dataframe thead th {\n",
       "        text-align: right;\n",
       "    }\n",
       "</style>\n",
       "<table border=\"1\" class=\"dataframe\">\n",
       "  <thead>\n",
       "    <tr style=\"text-align: right;\">\n",
       "      <th></th>\n",
       "      <th>App_ID</th>\n",
       "    </tr>\n",
       "  </thead>\n",
       "  <tbody>\n",
       "    <tr>\n",
       "      <th>0</th>\n",
       "      <td>com.supercell.clashofclans</td>\n",
       "    </tr>\n",
       "    <tr>\n",
       "      <th>1</th>\n",
       "      <td>com.supercell.clashroyale</td>\n",
       "    </tr>\n",
       "    <tr>\n",
       "      <th>2</th>\n",
       "      <td>com.dts.freefiremax</td>\n",
       "    </tr>\n",
       "    <tr>\n",
       "      <th>3</th>\n",
       "      <td>com.topgamesinc.evony</td>\n",
       "    </tr>\n",
       "    <tr>\n",
       "      <th>4</th>\n",
       "      <td>com.vizorapps.klondike</td>\n",
       "    </tr>\n",
       "  </tbody>\n",
       "</table>\n",
       "</div>"
      ],
      "text/plain": [
       "                       App_ID\n",
       "0  com.supercell.clashofclans\n",
       "1   com.supercell.clashroyale\n",
       "2         com.dts.freefiremax\n",
       "3       com.topgamesinc.evony\n",
       "4      com.vizorapps.klondike"
      ]
     },
     "execution_count": 75,
     "metadata": {},
     "output_type": "execute_result"
    }
   ],
   "source": [
    "# Create a DataFrame\n",
    "df = pd.DataFrame(ids, columns=['App_ID'])\n",
    "\n",
    "# Print the DataFrame\n",
    "df.head()"
   ]
  },
  {
   "cell_type": "code",
   "execution_count": 23,
   "metadata": {},
   "outputs": [
    {
     "name": "stdout",
     "output_type": "stream",
     "text": [
      "Collecting google-play-scraper\n",
      "  Downloading google_play_scraper-1.2.6-py3-none-any.whl.metadata (50 kB)\n",
      "     ---------------------------------------- 0.0/50.2 kB ? eta -:--:--\n",
      "     -------- ------------------------------- 10.2/50.2 kB ? eta -:--:--\n",
      "     ------------------------------ ------- 41.0/50.2 kB 393.8 kB/s eta 0:00:01\n",
      "     -------------------------------------- 50.2/50.2 kB 430.2 kB/s eta 0:00:00\n",
      "Downloading google_play_scraper-1.2.6-py3-none-any.whl (28 kB)\n",
      "Installing collected packages: google-play-scraper\n",
      "Successfully installed google-play-scraper-1.2.6\n"
     ]
    }
   ],
   "source": [
    "!pip install google-play-scraper"
   ]
  },
  {
   "cell_type": "code",
   "execution_count": 24,
   "metadata": {},
   "outputs": [],
   "source": [
    "from google_play_scraper import app\n"
   ]
  },
  {
   "cell_type": "code",
   "execution_count": 27,
   "metadata": {},
   "outputs": [],
   "source": [
    "result = app(\n",
    "    'com.supercell.clashofclans',\n",
    "    lang='en', # defaults to 'en'\n",
    "    country='in' # defaults to 'in'\n",
    ")"
   ]
  },
  {
   "cell_type": "code",
   "execution_count": 28,
   "metadata": {},
   "outputs": [
    {
     "data": {
      "text/plain": [
       "{'title': 'Clash of Clans',\n",
       " 'description': \"Join millions of players worldwide as you build your village, raise a clan, and compete in epic Clan Wars!\\r\\n\\r\\nMustachioed Barbarians, fire wielding Wizards, and other unique troops are waiting for you! Enter the world of Clash!\\r\\n\\r\\nClassic Features:\\r\\n● Join a Clan of fellow players or start your own and invite friends.\\r\\n● Fight in Clan Wars as a team against millions of active players across the globe.\\r\\n● Test your skills in the competitive Clan War Leagues and prove you’re the best.\\r\\n● Forge alliances, work together with your Clan in Clan Games to earn valuable Magic items.\\r\\n● Plan your unique battle strategy with countless combinations of Spells, Troops, and Heroes!\\r\\n● Compete with the best players from around the world and rise to the top of the Leaderboard in Legend League.\\r\\n● Collect resources and steal loot from other players to upgrade your own Village and turn it into a stronghold. \\r\\n● Defend against enemy attacks with a multitude of Towers, Cannons, Bombs, Traps, Mortars, and Walls.\\r\\n● Unlock epic Heroes like the Barbarian King, Archer Queen, Grand Warden, Royal Champion, and Battle Machine. \\r\\n● Research upgrades in your Laboratory to make your Troops, Spells, and Siege Machines even more powerful.\\r\\n● Create your own custom PVP experiences through Friendly Challenges, Friendly Wars, and special live events.\\r\\n● Watch Clanmates attack and defend in real-time as a spectator or check out the video replays.\\r\\n● Fight against the Goblin King in a single player campaign mode through the realm.\\r\\n● Learn new tactics and experiment with your army and Clan Castle troops in Practice Mode.\\r\\n● Journey to the Builder Base and discover new buildings and characters in a mysterious world.\\r\\n● Turn your Builder Base into an unbeatable fortress and defeat rival players in Versus Battles. \\r\\n● Collect exclusive Hero Skins and Sceneries to customize your Village.\\r\\n\\r\\nWhat are you waiting for, Chief? Join the action today.\\r\\n\\r\\nPLEASE NOTE! Clash of Clans is free to download and play, however, some game items can also be purchased for real money. If you don't want to use this feature, please disable in-app purchases in your device's settings. Also, under our Terms of Service and Privacy Policy, you must be at least 13 years of age to play or download Clash of Clans.\\r\\n\\r\\nA network connection is also required.\\r\\n\\r\\nIf you have fun playing Clash of Clans, you may also enjoy other Supercell games like Clash Royale, Brawl Stars, Boom Beach, and Hay Day. Make sure to check those out!\\r\\n\\r\\nSupport: Chief, are you having problems? Visit https://help.supercellsupport.com/clash-of-clans/en/index.html or http://supr.cl/ClashForum or contact us in game by going to Settings > Help and Support.\\r\\n\\r\\nPrivacy Policy: http://www.supercell.net/privacy-policy/\\r\\n\\r\\nTerms of Service: http://www.supercell.net/terms-of-service/\\r\\n\\r\\nParent’s Guide: http://www.supercell.net/parents\",\n",
       " 'descriptionHTML': 'Join millions of players worldwide as you build your village, raise a clan, and compete in epic Clan Wars!<br><br>Mustachioed Barbarians, fire wielding Wizards, and other unique troops are waiting for you! Enter the world of Clash!<br><br>Classic Features:<br>● Join a Clan of fellow players or start your own and invite friends.<br>● Fight in Clan Wars as a team against millions of active players across the globe.<br>● Test your skills in the competitive Clan War Leagues and prove you’re the best.<br>● Forge alliances, work together with your Clan in Clan Games to earn valuable Magic items.<br>● Plan your unique battle strategy with countless combinations of Spells, Troops, and Heroes!<br>● Compete with the best players from around the world and rise to the top of the Leaderboard in Legend League.<br>● Collect resources and steal loot from other players to upgrade your own Village and turn it into a stronghold. <br>● Defend against enemy attacks with a multitude of Towers, Cannons, Bombs, Traps, Mortars, and Walls.<br>● Unlock epic Heroes like the Barbarian King, Archer Queen, Grand Warden, Royal Champion, and Battle Machine. <br>● Research upgrades in your Laboratory to make your Troops, Spells, and Siege Machines even more powerful.<br>● Create your own custom PVP experiences through Friendly Challenges, Friendly Wars, and special live events.<br>● Watch Clanmates attack and defend in real-time as a spectator or check out the video replays.<br>● Fight against the Goblin King in a single player campaign mode through the realm.<br>● Learn new tactics and experiment with your army and Clan Castle troops in Practice Mode.<br>● Journey to the Builder Base and discover new buildings and characters in a mysterious world.<br>● Turn your Builder Base into an unbeatable fortress and defeat rival players in Versus Battles. <br>● Collect exclusive Hero Skins and Sceneries to customize your Village.<br><br>What are you waiting for, Chief? Join the action today.<br><br>PLEASE NOTE! Clash of Clans is free to download and play, however, some game items can also be purchased for real money. If you don&#39;t want to use this feature, please disable in-app purchases in your device&#39;s settings. Also, under our Terms of Service and Privacy Policy, you must be at least 13 years of age to play or download Clash of Clans.<br><br>A network connection is also required.<br><br>If you have fun playing Clash of Clans, you may also enjoy other Supercell games like Clash Royale, Brawl Stars, Boom Beach, and Hay Day. Make sure to check those out!<br><br>Support: Chief, are you having problems? Visit https://help.supercellsupport.com/clash-of-clans/en/index.html or http://supr.cl/ClashForum or contact us in game by going to Settings &gt; Help and Support.<br><br>Privacy Policy: http://www.supercell.net/privacy-policy/<br><br>Terms of Service: http://www.supercell.net/terms-of-service/<br><br>Parent’s Guide: http://www.supercell.net/parents',\n",
       " 'summary': 'Epic combat strategy game. Build your village, train your troops & go to battle!',\n",
       " 'installs': '500,000,000+',\n",
       " 'minInstalls': 500000000,\n",
       " 'realInstalls': 776656829,\n",
       " 'score': 4.500124,\n",
       " 'ratings': 61148557,\n",
       " 'reviews': 3480572,\n",
       " 'histogram': [3636288, 1034818, 2657372, 7602315, 46217755],\n",
       " 'price': 0,\n",
       " 'free': True,\n",
       " 'currency': 'INR',\n",
       " 'sale': False,\n",
       " 'saleTime': None,\n",
       " 'originalPrice': None,\n",
       " 'saleText': None,\n",
       " 'offersIAP': True,\n",
       " 'inAppProductPrice': '₹29.00 - ₹8,900.00 per item',\n",
       " 'developer': 'Supercell',\n",
       " 'developerId': '6715068722362591614',\n",
       " 'developerEmail': 'gp-info@supercell.com',\n",
       " 'developerWebsite': 'https://help.supercellsupport.com/clash-of-clans/en/',\n",
       " 'developerAddress': 'Jatkasaarenlaituri 1\\n00180 Helsinki\\nFinland',\n",
       " 'privacyPolicy': 'https://supercell.com/en/privacy-policy/',\n",
       " 'genre': 'Strategy',\n",
       " 'genreId': 'GAME_STRATEGY',\n",
       " 'categories': [{'name': 'Strategy', 'id': 'GAME_STRATEGY'},\n",
       "  {'name': 'Build & battle', 'id': None},\n",
       "  {'name': 'Casual', 'id': 'GAME_CASUAL'},\n",
       "  {'name': 'Single player', 'id': None},\n",
       "  {'name': 'Multiplayer', 'id': None},\n",
       "  {'name': 'Stylized', 'id': None},\n",
       "  {'name': 'Cartoon', 'id': None}],\n",
       " 'icon': 'https://play-lh.googleusercontent.com/LByrur1mTmPeNr0ljI-uAUcct1rzmTve5Esau1SwoAzjBXQUby6uHIfHbF9TAT51mgHm',\n",
       " 'headerImage': 'https://play-lh.googleusercontent.com/D6u3M1r7IM2Xr9IZa-R0OTs4I4fIMBXEKJdQbLRtOxAmfTOH4GVtEFPXCq23IvlZpcg',\n",
       " 'screenshots': ['https://play-lh.googleusercontent.com/qkMIWX-JY6TS-9UEsvWc05x-6XZOhsCS5HHXHDZJGVh6Gv-5W-t7ghUyhD4X-uWcSD4',\n",
       "  'https://play-lh.googleusercontent.com/A5ivtMq98cCIZr4jSv0Xg4wsnGgfnlrqgAMzJwQtJe9mM2r1jdsv00OSw1Jo366mwuAF',\n",
       "  'https://play-lh.googleusercontent.com/tWB1iKhOCXRHxtp-mW4XISA6XD-gECwDJhZKGHuyc9LhM_ZSCnVSMd1rYAgV9aHcrIYt',\n",
       "  'https://play-lh.googleusercontent.com/NyweFity8rN7fOSKMkAVwJWdgP10sEeDHZmMpILfZoJMmoiqlJfJvRYbn_yNFhDhk74K',\n",
       "  'https://play-lh.googleusercontent.com/nTh_G5cu-b3JMCBjKSA9Iyx7dbGDGa4xBtiYVNp6fKLg_CNRzRD39Jp-IMN9Is-J3nw',\n",
       "  'https://play-lh.googleusercontent.com/JfYjuQk3CTNvtnYLL8eMJzhYta7y2rx7ODSziYgALHYbl01rT8A4i19cTk6SRBEB3A',\n",
       "  'https://play-lh.googleusercontent.com/OyMIG_ykaX1tONEvmbw9wVd4ltZO45kMJlt6HJ9cVINbzPBaYXPjbVmCQtec4TtEJBk',\n",
       "  'https://play-lh.googleusercontent.com/5rqVYLCyWMjHOckuus8mY6te0mslSRu4YKgQjmp_G70nypvQg8I852Oql-E4rbMqO4If',\n",
       "  'https://play-lh.googleusercontent.com/kqNS4EkBQYs4YWReU2mazOhxnB-tmtI6OkyxG55l8vwOVU86Pdyx0zrdi04kUFUvxLJ9',\n",
       "  'https://play-lh.googleusercontent.com/ws7HS8hBy8woHkiE7XZRzTR0ZwZVV1ykmVp8x458-xfhSjk9YcAr7y_cmYjRW6sgZg',\n",
       "  'https://play-lh.googleusercontent.com/kseNJ5WxfxUoeAaFRFdHlXnZcQow8m6v1gmNH5iDGgbqqUuC3q6Ayf_Wkjl6hO3w2Vnz',\n",
       "  'https://play-lh.googleusercontent.com/lAOnABig4UgUpTR_8IZHxT4WtSm_fSR95dxMVF4KXHoBAShjzvbMhtAfivZ3hDzEZd8C',\n",
       "  'https://play-lh.googleusercontent.com/fA4ju929qakjioc8rVIOGmCHCG1Jf7r8BjVyyYpG2TCES0HJ1n-O8cX5DQpxVsousw',\n",
       "  'https://play-lh.googleusercontent.com/bNFBWUpgry9KTPSaCjrXFX2_xPpPmTCoZy6oA7-KzPGtaGw9ERSoUSr1Kh8YzLN1zA',\n",
       "  'https://play-lh.googleusercontent.com/KohsFUF43r_NeCwZNu93jTv29_ZFOKkvw8BLCcF4L_3hW7NcRLWV1WrFRe_EdtLvR_s',\n",
       "  'https://play-lh.googleusercontent.com/8qfeqPbgRtMB7dSDgr62RdYf3dy-NMXGPrJOiN9RGhYTOzPrU5Sad0SmfEvs1lyOfD0',\n",
       "  'https://play-lh.googleusercontent.com/cla_4m7mPjHRGSMAuOZa5Ua5sqs84sW_TihTHc9bLoaO7NbyKoYjsC5Twv2ZpGg4LwM',\n",
       "  'https://play-lh.googleusercontent.com/O0dqawSEXnVJfsDLtPd-vFExbvrgz_YpCUNTULdS8Ut2z8W_oijT59zoTtl5p9XIDj0',\n",
       "  'https://play-lh.googleusercontent.com/7USO3kq_16CTL9j2dI7hI081lpLnWuJ8R-aZl0Rd5CpBUKOOATbo5vsK_zYlTFAj0ezY',\n",
       "  'https://play-lh.googleusercontent.com/WzIC4HXl_w5Y9oeIhYq2aSIkB9muhCFd8paR0_mYPWAT52L1NlER_9MBY40gkkV1YSH6',\n",
       "  'https://play-lh.googleusercontent.com/BJkb0QlIDznedV73JhgUn9bEK_bXiC5linkNmOQxecD10FpXCBXgGqNwM9q-4zP7KVI',\n",
       "  'https://play-lh.googleusercontent.com/pFa54XESRjzj9CkdKnTkRX_cW1WJoPP65MXiJCmAFCCF-VX_huRenErpnJ51RIX6gC8',\n",
       "  'https://play-lh.googleusercontent.com/bR8F8b8HzGGi2Q5yprqvKJod8CG4ig3LkmmMQ1EHieOUpEYWjKi70I4dAzcJc93rd1k',\n",
       "  'https://play-lh.googleusercontent.com/z0XMRPTXbJNgVIHkKC6OXp4IRB3OPc2FHX23xYg9IQ7rKMeuE3XbRY9nsBlngBxU1CY'],\n",
       " 'video': 'https://www.youtube.com/embed/C4uzmiVn8Og?ps=play&vq=large&rel=0&autohide=1&showinfo=0',\n",
       " 'videoImage': 'https://play-lh.googleusercontent.com/D6u3M1r7IM2Xr9IZa-R0OTs4I4fIMBXEKJdQbLRtOxAmfTOH4GVtEFPXCq23IvlZpcg',\n",
       " 'contentRating': 'Rated for 7+',\n",
       " 'contentRatingDescription': 'Mild Violence',\n",
       " 'adSupported': False,\n",
       " 'containsAds': False,\n",
       " 'released': 'Sep 30, 2013',\n",
       " 'lastUpdatedOn': 'May 3, 2024',\n",
       " 'updated': 1714719679,\n",
       " 'version': '16.253.25',\n",
       " 'comments': [],\n",
       " 'appId': 'com.supercell.clashofclans',\n",
       " 'url': 'https://play.google.com/store/apps/details?id=com.supercell.clashofclans&hl=en&gl=in'}"
      ]
     },
     "execution_count": 28,
     "metadata": {},
     "output_type": "execute_result"
    }
   ],
   "source": [
    "result"
   ]
  },
  {
   "cell_type": "code",
   "execution_count": 31,
   "metadata": {},
   "outputs": [
    {
     "data": {
      "text/plain": [
       "'Clash of Clans'"
      ]
     },
     "execution_count": 31,
     "metadata": {},
     "output_type": "execute_result"
    }
   ],
   "source": [
    "result[\"title\"]"
   ]
  },
  {
   "cell_type": "code",
   "execution_count": 33,
   "metadata": {},
   "outputs": [
    {
     "name": "stdout",
     "output_type": "stream",
     "text": [
      "Join millions of players worldwide as you build your village, raise a clan, and compete in epic Clan Wars!\n",
      "\n",
      "Mustachioed Barbarians, fire wielding Wizards, and other unique troops are waiting for you! Enter the world of Clash!\n",
      "\n",
      "Classic Features:\n",
      "● Join a Clan of fellow players or start your own and invite friends.\n",
      "● Fight in Clan Wars as a team against millions of active players across the globe.\n",
      "● Test your skills in the competitive Clan War Leagues and prove you’re the best.\n",
      "● Forge alliances, work together with your Clan in Clan Games to earn valuable Magic items.\n",
      "● Plan your unique battle strategy with countless combinations of Spells, Troops, and Heroes!\n",
      "● Compete with the best players from around the world and rise to the top of the Leaderboard in Legend League.\n",
      "● Collect resources and steal loot from other players to upgrade your own Village and turn it into a stronghold. \n",
      "● Defend against enemy attacks with a multitude of Towers, Cannons, Bombs, Traps, Mortars, and Walls.\n",
      "● Unlock epic Heroes like the Barbarian King, Archer Queen, Grand Warden, Royal Champion, and Battle Machine. \n",
      "● Research upgrades in your Laboratory to make your Troops, Spells, and Siege Machines even more powerful.\n",
      "● Create your own custom PVP experiences through Friendly Challenges, Friendly Wars, and special live events.\n",
      "● Watch Clanmates attack and defend in real-time as a spectator or check out the video replays.\n",
      "● Fight against the Goblin King in a single player campaign mode through the realm.\n",
      "● Learn new tactics and experiment with your army and Clan Castle troops in Practice Mode.\n",
      "● Journey to the Builder Base and discover new buildings and characters in a mysterious world.\n",
      "● Turn your Builder Base into an unbeatable fortress and defeat rival players in Versus Battles. \n",
      "● Collect exclusive Hero Skins and Sceneries to customize your Village.\n",
      "\n",
      "What are you waiting for, Chief? Join the action today.\n",
      "\n",
      "PLEASE NOTE! Clash of Clans is free to download and play, however, some game items can also be purchased for real money. If you don't want to use this feature, please disable in-app purchases in your device's settings. Also, under our Terms of Service and Privacy Policy, you must be at least 13 years of age to play or download Clash of Clans.\n",
      "\n",
      "A network connection is also required.\n",
      "\n",
      "If you have fun playing Clash of Clans, you may also enjoy other Supercell games like Clash Royale, Brawl Stars, Boom Beach, and Hay Day. Make sure to check those out!\n",
      "\n",
      "Support: Chief, are you having problems? Visit https://help.supercellsupport.com/clash-of-clans/en/index.html or http://supr.cl/ClashForum or contact us in game by going to Settings > Help and Support.\n",
      "\n",
      "Privacy Policy: http://www.supercell.net/privacy-policy/\n",
      "\n",
      "Terms of Service: http://www.supercell.net/terms-of-service/\n",
      "\n",
      "Parent’s Guide: http://www.supercell.net/parents\n"
     ]
    }
   ],
   "source": [
    "print(result[\"description\"])"
   ]
  },
  {
   "cell_type": "code",
   "execution_count": 34,
   "metadata": {},
   "outputs": [
    {
     "data": {
      "text/plain": [
       "'Epic combat strategy game. Build your village, train your troops & go to battle!'"
      ]
     },
     "execution_count": 34,
     "metadata": {},
     "output_type": "execute_result"
    }
   ],
   "source": [
    "result[\"summary\"]"
   ]
  },
  {
   "cell_type": "code",
   "execution_count": 35,
   "metadata": {},
   "outputs": [
    {
     "data": {
      "text/plain": [
       "'500,000,000+'"
      ]
     },
     "execution_count": 35,
     "metadata": {},
     "output_type": "execute_result"
    }
   ],
   "source": [
    "result[\"installs\"]"
   ]
  },
  {
   "cell_type": "code",
   "execution_count": 36,
   "metadata": {},
   "outputs": [
    {
     "data": {
      "text/plain": [
       "4.500124"
      ]
     },
     "execution_count": 36,
     "metadata": {},
     "output_type": "execute_result"
    }
   ],
   "source": [
    "result[\"score\"]"
   ]
  },
  {
   "cell_type": "code",
   "execution_count": 37,
   "metadata": {},
   "outputs": [
    {
     "data": {
      "text/plain": [
       "61148557"
      ]
     },
     "execution_count": 37,
     "metadata": {},
     "output_type": "execute_result"
    }
   ],
   "source": [
    "result[\"ratings\"]"
   ]
  },
  {
   "cell_type": "code",
   "execution_count": 38,
   "metadata": {},
   "outputs": [
    {
     "data": {
      "text/plain": [
       "'Supercell'"
      ]
     },
     "execution_count": 38,
     "metadata": {},
     "output_type": "execute_result"
    }
   ],
   "source": [
    "result[\"developer\"]"
   ]
  },
  {
   "cell_type": "code",
   "execution_count": 42,
   "metadata": {},
   "outputs": [
    {
     "data": {
      "text/plain": [
       "[{'name': 'Strategy', 'id': 'GAME_STRATEGY'},\n",
       " {'name': 'Build & battle', 'id': None},\n",
       " {'name': 'Casual', 'id': 'GAME_CASUAL'},\n",
       " {'name': 'Single player', 'id': None},\n",
       " {'name': 'Multiplayer', 'id': None},\n",
       " {'name': 'Stylized', 'id': None},\n",
       " {'name': 'Cartoon', 'id': None}]"
      ]
     },
     "execution_count": 42,
     "metadata": {},
     "output_type": "execute_result"
    }
   ],
   "source": [
    "result[\"categories\"]"
   ]
  },
  {
   "cell_type": "code",
   "execution_count": 43,
   "metadata": {},
   "outputs": [
    {
     "data": {
      "text/plain": [
       "'https://play-lh.googleusercontent.com/LByrur1mTmPeNr0ljI-uAUcct1rzmTve5Esau1SwoAzjBXQUby6uHIfHbF9TAT51mgHm'"
      ]
     },
     "execution_count": 43,
     "metadata": {},
     "output_type": "execute_result"
    }
   ],
   "source": [
    "result[\"icon\"]"
   ]
  },
  {
   "cell_type": "code",
   "execution_count": 44,
   "metadata": {},
   "outputs": [
    {
     "data": {
      "text/plain": [
       "'https://play-lh.googleusercontent.com/D6u3M1r7IM2Xr9IZa-R0OTs4I4fIMBXEKJdQbLRtOxAmfTOH4GVtEFPXCq23IvlZpcg'"
      ]
     },
     "execution_count": 44,
     "metadata": {},
     "output_type": "execute_result"
    }
   ],
   "source": [
    "result[\"headerImage\"]"
   ]
  },
  {
   "cell_type": "code",
   "execution_count": 45,
   "metadata": {},
   "outputs": [
    {
     "data": {
      "text/plain": [
       "'Rated for 7+'"
      ]
     },
     "execution_count": 45,
     "metadata": {},
     "output_type": "execute_result"
    }
   ],
   "source": [
    "result[\"contentRating\"]"
   ]
  },
  {
   "cell_type": "code",
   "execution_count": 46,
   "metadata": {},
   "outputs": [
    {
     "data": {
      "text/plain": [
       "'Mild Violence'"
      ]
     },
     "execution_count": 46,
     "metadata": {},
     "output_type": "execute_result"
    }
   ],
   "source": [
    "result[\"contentRatingDescription\"]"
   ]
  },
  {
   "cell_type": "code",
   "execution_count": 47,
   "metadata": {},
   "outputs": [
    {
     "data": {
      "text/plain": [
       "'Sep 30, 2013'"
      ]
     },
     "execution_count": 47,
     "metadata": {},
     "output_type": "execute_result"
    }
   ],
   "source": [
    "result[\"released\"]"
   ]
  },
  {
   "cell_type": "code",
   "execution_count": 48,
   "metadata": {},
   "outputs": [
    {
     "data": {
      "text/plain": [
       "'May 3, 2024'"
      ]
     },
     "execution_count": 48,
     "metadata": {},
     "output_type": "execute_result"
    }
   ],
   "source": [
    "result[\"lastUpdatedOn\"]"
   ]
  },
  {
   "cell_type": "code",
   "execution_count": 49,
   "metadata": {},
   "outputs": [
    {
     "data": {
      "text/plain": [
       "'16.253.25'"
      ]
     },
     "execution_count": 49,
     "metadata": {},
     "output_type": "execute_result"
    }
   ],
   "source": [
    "result[\"version\"]"
   ]
  },
  {
   "cell_type": "code",
   "execution_count": null,
   "metadata": {},
   "outputs": [],
   "source": [
    "dat"
   ]
  },
  {
   "cell_type": "code",
   "execution_count": 96,
   "metadata": {},
   "outputs": [],
   "source": [
    "def extract_app_data(app_ids):\n",
    "   \n",
    "    # Define the columns to be extracted\n",
    "    columns = [\n",
    "        \"appId\", \"title\", \"description\", \"summary\", \"installs\", \"score\", \"ratings\",\n",
    "        \"developer\", \"categories\", \"icon\", \"headerImage\", \"contentRating\",\n",
    "        \"contentRatingDescription\", \"released\", \"lastUpdatedOn\", \"version\"\n",
    "    ]\n",
    "    \n",
    "    # Initialize a list to store the extracted data\n",
    "    data = []\n",
    "    \n",
    "    \n",
    "# Iterate over each App_ID and fetch its details\n",
    "    for app_id in app_ids:\n",
    "        try:\n",
    "            result = app(\n",
    "                app_id,\n",
    "                lang='en',  # defaults to 'en'\n",
    "                country='in'  # defaults to 'in'\n",
    "            )\n",
    "            \n",
    "            # Extract the specified attributes for the current app_id\n",
    "            extracted_data = {column: result.get(column, None) for column in columns}\n",
    "            data.append(extracted_data)\n",
    "        \n",
    "        except Exception as e:\n",
    "            print(f\"Error fetching details for App_ID {app_id}: {e}\")\n",
    "        \n",
    "\n",
    "    # Create a DataFrame from the extracted data\n",
    "    dataset = pd.DataFrame(data)\n",
    "    \n",
    "    return dataset"
   ]
  },
  {
   "cell_type": "code",
   "execution_count": 97,
   "metadata": {},
   "outputs": [],
   "source": [
    "data = extract_app_data([\"com.supercell.clashofclans\"])"
   ]
  },
  {
   "cell_type": "code",
   "execution_count": 98,
   "metadata": {},
   "outputs": [
    {
     "data": {
      "text/html": [
       "<div>\n",
       "<style scoped>\n",
       "    .dataframe tbody tr th:only-of-type {\n",
       "        vertical-align: middle;\n",
       "    }\n",
       "\n",
       "    .dataframe tbody tr th {\n",
       "        vertical-align: top;\n",
       "    }\n",
       "\n",
       "    .dataframe thead th {\n",
       "        text-align: right;\n",
       "    }\n",
       "</style>\n",
       "<table border=\"1\" class=\"dataframe\">\n",
       "  <thead>\n",
       "    <tr style=\"text-align: right;\">\n",
       "      <th></th>\n",
       "      <th>appId</th>\n",
       "      <th>title</th>\n",
       "      <th>description</th>\n",
       "      <th>summary</th>\n",
       "      <th>installs</th>\n",
       "      <th>score</th>\n",
       "      <th>ratings</th>\n",
       "      <th>developer</th>\n",
       "      <th>categories</th>\n",
       "      <th>icon</th>\n",
       "      <th>headerImage</th>\n",
       "      <th>contentRating</th>\n",
       "      <th>contentRatingDescription</th>\n",
       "      <th>released</th>\n",
       "      <th>lastUpdatedOn</th>\n",
       "      <th>version</th>\n",
       "    </tr>\n",
       "  </thead>\n",
       "  <tbody>\n",
       "    <tr>\n",
       "      <th>0</th>\n",
       "      <td>com.supercell.clashofclans</td>\n",
       "      <td>Clash of Clans</td>\n",
       "      <td>Join millions of players worldwide as you build your village, raise a clan, and compete in epic Clan Wars!\\r\\n\\r\\nMustachioed Barbarians, fire wielding Wizards, and other unique troops are waiting for you! Enter the world of Clash!\\r\\n\\r\\nClassic Features:\\r\\n● Join a Clan of fellow players or start your own and invite friends.\\r\\n● Fight in Clan Wars as a team against millions of active players across the globe.\\r\\n● Test your skills in the competitive Clan War Leagues and prove you’re the best.\\r\\n● Forge alliances, work together with your Clan in Clan Games to earn valuable Magic items.\\r\\n● Plan your unique battle strategy with countless combinations of Spells, Troops, and Heroes!\\r\\n● Compete with the best players from around the world and rise to the top of the Leaderboard in Legend League.\\r\\n● Collect resources and steal loot from other players to upgrade your own Village and turn it into a stronghold. \\r\\n● Defend against enemy attacks with a multitude of Towers, Cannons, Bombs, Traps, Mortars, and Walls.\\r\\n● Unlock epic Heroes like the Barbarian King, Archer Queen, Grand Warden, Royal Champion, and Battle Machine. \\r\\n● Research upgrades in your Laboratory to make your Troops, Spells, and Siege Machines even more powerful.\\r\\n● Create your own custom PVP experiences through Friendly Challenges, Friendly Wars, and special live events.\\r\\n● Watch Clanmates attack and defend in real-time as a spectator or check out the video replays.\\r\\n● Fight against the Goblin King in a single player campaign mode through the realm.\\r\\n● Learn new tactics and experiment with your army and Clan Castle troops in Practice Mode.\\r\\n● Journey to the Builder Base and discover new buildings and characters in a mysterious world.\\r\\n● Turn your Builder Base into an unbeatable fortress and defeat rival players in Versus Battles. \\r\\n● Collect exclusive Hero Skins and Sceneries to customize your Village.\\r\\n\\r\\nWhat are you waiting for, Chief? Join the action today.\\r\\n\\r\\nPLEASE NOTE! Clash of Clans is free to download and play, however, some game items can also be purchased for real money. If you don't want to use this feature, please disable in-app purchases in your device's settings. Also, under our Terms of Service and Privacy Policy, you must be at least 13 years of age to play or download Clash of Clans.\\r\\n\\r\\nA network connection is also required.\\r\\n\\r\\nIf you have fun playing Clash of Clans, you may also enjoy other Supercell games like Clash Royale, Brawl Stars, Boom Beach, and Hay Day. Make sure to check those out!\\r\\n\\r\\nSupport: Chief, are you having problems? Visit https://help.supercellsupport.com/clash-of-clans/en/index.html or http://supr.cl/ClashForum or contact us in game by going to Settings &gt; Help and Support.\\r\\n\\r\\nPrivacy Policy: http://www.supercell.net/privacy-policy/\\r\\n\\r\\nTerms of Service: http://www.supercell.net/terms-of-service/\\r\\n\\r\\nParent’s Guide: http://www.supercell.net/parents</td>\n",
       "      <td>Epic combat strategy game. Build your village, train your troops &amp; go to battle!</td>\n",
       "      <td>500,000,000+</td>\n",
       "      <td>4.500125</td>\n",
       "      <td>61148515</td>\n",
       "      <td>Supercell</td>\n",
       "      <td>[{'name': 'Strategy', 'id': 'GAME_STRATEGY'}, {'name': 'Build &amp; battle', 'id': None}, {'name': 'Casual', 'id': 'GAME_CASUAL'}, {'name': 'Single player', 'id': None}, {'name': 'Multiplayer', 'id': None}, {'name': 'Stylized', 'id': None}, {'name': 'Cartoon', 'id': None}]</td>\n",
       "      <td>https://play-lh.googleusercontent.com/LByrur1mTmPeNr0ljI-uAUcct1rzmTve5Esau1SwoAzjBXQUby6uHIfHbF9TAT51mgHm</td>\n",
       "      <td>https://play-lh.googleusercontent.com/D6u3M1r7IM2Xr9IZa-R0OTs4I4fIMBXEKJdQbLRtOxAmfTOH4GVtEFPXCq23IvlZpcg</td>\n",
       "      <td>Rated for 7+</td>\n",
       "      <td>Mild Violence</td>\n",
       "      <td>Sep 30, 2013</td>\n",
       "      <td>May 3, 2024</td>\n",
       "      <td>16.253.25</td>\n",
       "    </tr>\n",
       "  </tbody>\n",
       "</table>\n",
       "</div>"
      ],
      "text/plain": [
       "                        appId           title  \\\n",
       "0  com.supercell.clashofclans  Clash of Clans   \n",
       "\n",
       "                                                                                                                                                                                                                                                                                                                                                                                                                                                                                                                                                                                                                                                                                                                                                                                                                                                                                                                                                                                                                                                                                                                                                                                                                                                                                                                                                                                                                                                                                                                                                                                                                                                                                                                                                                                                                                                                                                                                                                                                                                                                                                                                                                                                                                                                                                                                                                                                                                                                                                                                                                                                                                                                                                                                                                                                                                                                                                                                                                                                                                                                 description  \\\n",
       "0  Join millions of players worldwide as you build your village, raise a clan, and compete in epic Clan Wars!\\r\\n\\r\\nMustachioed Barbarians, fire wielding Wizards, and other unique troops are waiting for you! Enter the world of Clash!\\r\\n\\r\\nClassic Features:\\r\\n● Join a Clan of fellow players or start your own and invite friends.\\r\\n● Fight in Clan Wars as a team against millions of active players across the globe.\\r\\n● Test your skills in the competitive Clan War Leagues and prove you’re the best.\\r\\n● Forge alliances, work together with your Clan in Clan Games to earn valuable Magic items.\\r\\n● Plan your unique battle strategy with countless combinations of Spells, Troops, and Heroes!\\r\\n● Compete with the best players from around the world and rise to the top of the Leaderboard in Legend League.\\r\\n● Collect resources and steal loot from other players to upgrade your own Village and turn it into a stronghold. \\r\\n● Defend against enemy attacks with a multitude of Towers, Cannons, Bombs, Traps, Mortars, and Walls.\\r\\n● Unlock epic Heroes like the Barbarian King, Archer Queen, Grand Warden, Royal Champion, and Battle Machine. \\r\\n● Research upgrades in your Laboratory to make your Troops, Spells, and Siege Machines even more powerful.\\r\\n● Create your own custom PVP experiences through Friendly Challenges, Friendly Wars, and special live events.\\r\\n● Watch Clanmates attack and defend in real-time as a spectator or check out the video replays.\\r\\n● Fight against the Goblin King in a single player campaign mode through the realm.\\r\\n● Learn new tactics and experiment with your army and Clan Castle troops in Practice Mode.\\r\\n● Journey to the Builder Base and discover new buildings and characters in a mysterious world.\\r\\n● Turn your Builder Base into an unbeatable fortress and defeat rival players in Versus Battles. \\r\\n● Collect exclusive Hero Skins and Sceneries to customize your Village.\\r\\n\\r\\nWhat are you waiting for, Chief? Join the action today.\\r\\n\\r\\nPLEASE NOTE! Clash of Clans is free to download and play, however, some game items can also be purchased for real money. If you don't want to use this feature, please disable in-app purchases in your device's settings. Also, under our Terms of Service and Privacy Policy, you must be at least 13 years of age to play or download Clash of Clans.\\r\\n\\r\\nA network connection is also required.\\r\\n\\r\\nIf you have fun playing Clash of Clans, you may also enjoy other Supercell games like Clash Royale, Brawl Stars, Boom Beach, and Hay Day. Make sure to check those out!\\r\\n\\r\\nSupport: Chief, are you having problems? Visit https://help.supercellsupport.com/clash-of-clans/en/index.html or http://supr.cl/ClashForum or contact us in game by going to Settings > Help and Support.\\r\\n\\r\\nPrivacy Policy: http://www.supercell.net/privacy-policy/\\r\\n\\r\\nTerms of Service: http://www.supercell.net/terms-of-service/\\r\\n\\r\\nParent’s Guide: http://www.supercell.net/parents   \n",
       "\n",
       "                                                                            summary  \\\n",
       "0  Epic combat strategy game. Build your village, train your troops & go to battle!   \n",
       "\n",
       "       installs     score   ratings  developer  \\\n",
       "0  500,000,000+  4.500125  61148515  Supercell   \n",
       "\n",
       "                                                                                                                                                                                                                                                                      categories  \\\n",
       "0  [{'name': 'Strategy', 'id': 'GAME_STRATEGY'}, {'name': 'Build & battle', 'id': None}, {'name': 'Casual', 'id': 'GAME_CASUAL'}, {'name': 'Single player', 'id': None}, {'name': 'Multiplayer', 'id': None}, {'name': 'Stylized', 'id': None}, {'name': 'Cartoon', 'id': None}]   \n",
       "\n",
       "                                                                                                         icon  \\\n",
       "0  https://play-lh.googleusercontent.com/LByrur1mTmPeNr0ljI-uAUcct1rzmTve5Esau1SwoAzjBXQUby6uHIfHbF9TAT51mgHm   \n",
       "\n",
       "                                                                                                 headerImage  \\\n",
       "0  https://play-lh.googleusercontent.com/D6u3M1r7IM2Xr9IZa-R0OTs4I4fIMBXEKJdQbLRtOxAmfTOH4GVtEFPXCq23IvlZpcg   \n",
       "\n",
       "  contentRating contentRatingDescription      released lastUpdatedOn  \\\n",
       "0  Rated for 7+            Mild Violence  Sep 30, 2013   May 3, 2024   \n",
       "\n",
       "     version  \n",
       "0  16.253.25  "
      ]
     },
     "execution_count": 98,
     "metadata": {},
     "output_type": "execute_result"
    }
   ],
   "source": [
    "data"
   ]
  },
  {
   "cell_type": "code",
   "execution_count": 94,
   "metadata": {},
   "outputs": [
    {
     "data": {
      "text/plain": [
       "['com.supercell.clashofclans',\n",
       " 'com.supercell.clashroyale',\n",
       " 'com.dts.freefiremax',\n",
       " 'com.topgamesinc.evony',\n",
       " 'com.vizorapps.klondike',\n",
       " 'com.playrix.township',\n",
       " 'com.bandainamcoent.dblegends_ww',\n",
       " 'com.igg.android.lordsmobile',\n",
       " 'com.rovio.baba',\n",
       " 'com.playrix.gardenscapes',\n",
       " 'com.os.airforce',\n",
       " 'com.playrix.homescapes',\n",
       " 'com.tap4fun.ape.gplay',\n",
       " 'com.mobile.legends',\n",
       " 'com.gameloft.android.ANMP.GloftA9HM',\n",
       " 'com.fgol.HungrySharkEvolution',\n",
       " 'com.kingsgroup.sos',\n",
       " 'com.lilithgame.roc.gp',\n",
       " 'com.devsisters.ck',\n",
       " 'com.dogbytegames.offtheroad',\n",
       " 'com.netease.newspike',\n",
       " 'games.my.zombie.shooter',\n",
       " 'com.t2ksports.myteam',\n",
       " 'com.lightfoxgames.punch',\n",
       " 'com.crunchyroll.opm',\n",
       " 'com.wg.wowslegends',\n",
       " 'com.RightSoftLabs.MvAB',\n",
       " 'com.birdletter.villains.android',\n",
       " 'com.dino.steel',\n",
       " 'com.global.fzslg',\n",
       " 'com.betadwarf.minionmasters.googleplay',\n",
       " 'jp.co.cybird.appli.android.vil.en',\n",
       " 'com.neowizgames.game.browndust2',\n",
       " 'com.sparklingsocietyworld.rollercoasterthemeparkbuildingtycoon',\n",
       " 'com.syjgame.hgame.cn',\n",
       " 'com.global.frxxkr.and',\n",
       " 'com.xinshengfun.alsp.en',\n",
       " 'aos.astronize.tsx',\n",
       " 'com.bethsoft.stronghold',\n",
       " 'com.g4al.eraiders',\n",
       " 'beatmaker.edm.musicgames.pianofire2',\n",
       " 'com.notdoppler.earntodierogue',\n",
       " 'com.cyberjoy.geometrytower',\n",
       " 'block.wood.jigsaw.game.wooden',\n",
       " 'com.cyberjoy.fishing',\n",
       " 'com.kitchen.xingnang.en',\n",
       " 'classic.solitaire.klondike.free.card',\n",
       " 'tile.games.master.match.triple.puzzle.game.free',\n",
       " 'com.bubbleshooter.pop.dream.classic.panda.puzzle',\n",
       " 'com.dreamplay.survivalrandomdefense.google',\n",
       " 'com.logisk.chroma',\n",
       " 'com.ondi.fortias.saga',\n",
       " 'com.funovus.wildcastle2',\n",
       " 'com.HappyTurtle.MrFlip',\n",
       " 'com.nostellar.apocalypseidle',\n",
       " 'beatmaker.edm.musicgames.fluffyhop',\n",
       " 'com.aidiangames.Hedgies.gp',\n",
       " 'com.alinagame.puzzlelegends',\n",
       " 'com.astrologicmedia.findstuffamerica',\n",
       " 'com.astrologicmedia.hiddencats']"
      ]
     },
     "execution_count": 94,
     "metadata": {},
     "output_type": "execute_result"
    }
   ],
   "source": [
    "# Extract App_IDs from the DataFrame\n",
    "app_ids = df[\"App_ID\"].tolist()\n",
    "\n",
    "app_ids"
   ]
  },
  {
   "cell_type": "code",
   "execution_count": 99,
   "metadata": {},
   "outputs": [
    {
     "name": "stdout",
     "output_type": "stream",
     "text": [
      "Error fetching details for App_ID com.mobile.legends: App not found(404).\n",
      "Error fetching details for App_ID com.lilithgame.roc.gp: App not found(404).\n"
     ]
    }
   ],
   "source": [
    "\n",
    "# Call the function with the extracted App_IDs\n",
    "dataset = extract_app_data(app_ids)"
   ]
  },
  {
   "cell_type": "code",
   "execution_count": 102,
   "metadata": {},
   "outputs": [
    {
     "data": {
      "text/html": [
       "<div>\n",
       "<style scoped>\n",
       "    .dataframe tbody tr th:only-of-type {\n",
       "        vertical-align: middle;\n",
       "    }\n",
       "\n",
       "    .dataframe tbody tr th {\n",
       "        vertical-align: top;\n",
       "    }\n",
       "\n",
       "    .dataframe thead th {\n",
       "        text-align: right;\n",
       "    }\n",
       "</style>\n",
       "<table border=\"1\" class=\"dataframe\">\n",
       "  <thead>\n",
       "    <tr style=\"text-align: right;\">\n",
       "      <th></th>\n",
       "      <th>appId</th>\n",
       "      <th>title</th>\n",
       "      <th>description</th>\n",
       "      <th>summary</th>\n",
       "      <th>installs</th>\n",
       "      <th>score</th>\n",
       "      <th>ratings</th>\n",
       "      <th>developer</th>\n",
       "      <th>categories</th>\n",
       "      <th>icon</th>\n",
       "      <th>headerImage</th>\n",
       "      <th>contentRating</th>\n",
       "      <th>contentRatingDescription</th>\n",
       "      <th>released</th>\n",
       "      <th>lastUpdatedOn</th>\n",
       "      <th>version</th>\n",
       "    </tr>\n",
       "  </thead>\n",
       "  <tbody>\n",
       "    <tr>\n",
       "      <th>0</th>\n",
       "      <td>com.supercell.clashofclans</td>\n",
       "      <td>Clash of Clans</td>\n",
       "      <td>Join millions of players worldwide as you build your village, raise a clan, and compete in epic Clan Wars!\\r\\n\\r\\nMustachioed Barbarians, fire wielding Wizards, and other unique troops are waiting for you! Enter the world of Clash!\\r\\n\\r\\nClassic Features:\\r\\n● Join a Clan of fellow players or start your own and invite friends.\\r\\n● Fight in Clan Wars as a team against millions of active players across the globe.\\r\\n● Test your skills in the competitive Clan War Leagues and prove you’re the best.\\r\\n● Forge alliances, work together with your Clan in Clan Games to earn valuable Magic items.\\r\\n● Plan your unique battle strategy with countless combinations of Spells, Troops, and Heroes!\\r\\n● Compete with the best players from around the world and rise to the top of the Leaderboard in Legend League.\\r\\n● Collect resources and steal loot from other players to upgrade your own Village and turn it into a stronghold. \\r\\n● Defend against enemy attacks with a multitude of Towers, Cannons, Bombs, Traps, Mortars, and Walls.\\r\\n● Unlock epic Heroes like the Barbarian King, Archer Queen, Grand Warden, Royal Champion, and Battle Machine. \\r\\n● Research upgrades in your Laboratory to make your Troops, Spells, and Siege Machines even more powerful.\\r\\n● Create your own custom PVP experiences through Friendly Challenges, Friendly Wars, and special live events.\\r\\n● Watch Clanmates attack and defend in real-time as a spectator or check out the video replays.\\r\\n● Fight against the Goblin King in a single player campaign mode through the realm.\\r\\n● Learn new tactics and experiment with your army and Clan Castle troops in Practice Mode.\\r\\n● Journey to the Builder Base and discover new buildings and characters in a mysterious world.\\r\\n● Turn your Builder Base into an unbeatable fortress and defeat rival players in Versus Battles. \\r\\n● Collect exclusive Hero Skins and Sceneries to customize your Village.\\r\\n\\r\\nWhat are you waiting for, Chief? Join the action today.\\r\\n\\r\\nPLEASE NOTE! Clash of Clans is free to download and play, however, some game items can also be purchased for real money. If you don't want to use this feature, please disable in-app purchases in your device's settings. Also, under our Terms of Service and Privacy Policy, you must be at least 13 years of age to play or download Clash of Clans.\\r\\n\\r\\nA network connection is also required.\\r\\n\\r\\nIf you have fun playing Clash of Clans, you may also enjoy other Supercell games like Clash Royale, Brawl Stars, Boom Beach, and Hay Day. Make sure to check those out!\\r\\n\\r\\nSupport: Chief, are you having problems? Visit https://help.supercellsupport.com/clash-of-clans/en/index.html or http://supr.cl/ClashForum or contact us in game by going to Settings &gt; Help and Support.\\r\\n\\r\\nPrivacy Policy: http://www.supercell.net/privacy-policy/\\r\\n\\r\\nTerms of Service: http://www.supercell.net/terms-of-service/\\r\\n\\r\\nParent’s Guide: http://www.supercell.net/parents</td>\n",
       "      <td>Epic combat strategy game. Build your village, train your troops &amp; go to battle!</td>\n",
       "      <td>500,000,000+</td>\n",
       "      <td>4.500125</td>\n",
       "      <td>61148515.0</td>\n",
       "      <td>Supercell</td>\n",
       "      <td>[{'name': 'Strategy', 'id': 'GAME_STRATEGY'}, {'name': 'Build &amp; battle', 'id': None}, {'name': 'Casual', 'id': 'GAME_CASUAL'}, {'name': 'Single player', 'id': None}, {'name': 'Multiplayer', 'id': None}, {'name': 'Stylized', 'id': None}, {'name': 'Cartoon', 'id': None}]</td>\n",
       "      <td>https://play-lh.googleusercontent.com/LByrur1mTmPeNr0ljI-uAUcct1rzmTve5Esau1SwoAzjBXQUby6uHIfHbF9TAT51mgHm</td>\n",
       "      <td>https://play-lh.googleusercontent.com/D6u3M1r7IM2Xr9IZa-R0OTs4I4fIMBXEKJdQbLRtOxAmfTOH4GVtEFPXCq23IvlZpcg</td>\n",
       "      <td>Rated for 7+</td>\n",
       "      <td>Mild Violence</td>\n",
       "      <td>Sep 30, 2013</td>\n",
       "      <td>May 3, 2024</td>\n",
       "      <td>16.253.25</td>\n",
       "    </tr>\n",
       "    <tr>\n",
       "      <th>1</th>\n",
       "      <td>com.supercell.clashroyale</td>\n",
       "      <td>Clash Royale</td>\n",
       "      <td>Enter the Arena! Build your Battle Deck and outsmart the enemy in fast real-time battles. From the creators of CLASH OF CLANS comes a real-time multiplayer battle game starring your favourite Clash characters and more. Start battling against players from around the world!\\r\\n\\r\\nBECOME A MASTER OF STRATEGY AND DECK BUILDING\\r\\nChoose unique Cards to your Battle Deck and head to the Arena for Battle! \\r\\nPlace your Cards right and knock down the enemy King and Princesses from their Towers in a strategic and fast-paced match. \\r\\n\\r\\nCOLLECT AND UPGRADE 100+ CARDS\\r\\nHog Rider! Collect and upgrade 100+ Cards featuring the Clash of Clans troops, spells and defences you know and love and many others. Win battles and progress to new Arenas to unlock powerful new Cards to your collection!\\r\\n\\r\\nBATTLE YOUR WAY TO THE TOP\\r\\nBattle your way to the League and Global Tournaments to match against the best players in the world.\\r\\nCompete for glory and rewards!\\r\\n\\r\\nSEASONAL EVENTS\\r\\nUnlock new Seasonal items like Tower Skins, Emotes and powerful Magic Items with the Season Pass and participate in fun Challenges that put your skills to the test!\\r\\n\\r\\nJOIN A CLAN AND GO TO WAR\\r\\nJoin or form a Clan with other players to share Cards and battle in Clan Wars for BIG rewards! \\r\\n\\r\\nSee you in the Arena!\\r\\n\\r\\nPLEASE NOTE! Clash Royale is free to download and play, however, some game items can also be purchased for real money. If you do not want to use this feature, please set up password protection for purchases in the settings of your Google Play Store app. Also, under our Terms of Service and Privacy Policy, you must be at least 13 years of age to play or download Clash Royale.\\r\\n \\r\\nA network connection is also required.\\r\\n \\r\\nSupport\\r\\nAre you having problems? Visit http://supercell.helpshift.com/a/clash-royale/ or http://supr.cl/ClashRoyaleForum or contact us in game by going to Settings &gt; Help and Support.\\r\\n\\r\\nPrivacy Policy: \\r\\nhttp://supercell.com/en/privacy-policy/\\r\\n\\r\\nTerms of Service:\\r\\nhttp://supercell.com/en/terms-of-service/\\r\\n\\r\\nParent’s Guide:\\r\\nhttp://supercell.com/en/parents/</td>\n",
       "      <td>Clash Royale is a real-time, head-to-head battle game set in the Clash Universe.</td>\n",
       "      <td>500,000,000+</td>\n",
       "      <td>4.178366</td>\n",
       "      <td>37525676.0</td>\n",
       "      <td>Supercell</td>\n",
       "      <td>[{'name': 'Strategy', 'id': 'GAME_STRATEGY'}, {'name': 'Tactics', 'id': None}, {'name': 'Casual', 'id': 'GAME_CASUAL'}, {'name': 'Multiplayer', 'id': None}, {'name': 'Competitive multiplayer', 'id': None}, {'name': 'Single player', 'id': None}, {'name': 'Stylized', 'id': None}]</td>\n",
       "      <td>https://play-lh.googleusercontent.com/z950eFx-wowoAV2KgHast5YFcrxoGJtY18fYd_eMgvEDVn8_tsJwApy4Dbs1iqE2tAjX</td>\n",
       "      <td>https://play-lh.googleusercontent.com/s9qs3woasHqqz_FbBoHmsrdHyxIiO5wtuurXR9wqJII_5DSOxFyhzcjgdKVVgjXtuiw</td>\n",
       "      <td>Rated for 7+</td>\n",
       "      <td>Mild Violence</td>\n",
       "      <td>Mar 1, 2016</td>\n",
       "      <td>Apr 17, 2024</td>\n",
       "      <td>60256021</td>\n",
       "    </tr>\n",
       "  </tbody>\n",
       "</table>\n",
       "</div>"
      ],
      "text/plain": [
       "                        appId           title  \\\n",
       "0  com.supercell.clashofclans  Clash of Clans   \n",
       "1   com.supercell.clashroyale    Clash Royale   \n",
       "\n",
       "                                                                                                                                                                                                                                                                                                                                                                                                                                                                                                                                                                                                                                                                                                                                                                                                                                                                                                                                                                                                                                                                                                                                                                                                                                                                                                                                                                                                                                                                                                                                                                                                                                                                                                                                                                                                                                                                                                                                                                                                                                                                                                                                                                                                                                                                                                                                                                                                                                                                                                                                                                                                                                                                                                                                                                                                                                                                                                                                                                                                                                                                 description  \\\n",
       "0  Join millions of players worldwide as you build your village, raise a clan, and compete in epic Clan Wars!\\r\\n\\r\\nMustachioed Barbarians, fire wielding Wizards, and other unique troops are waiting for you! Enter the world of Clash!\\r\\n\\r\\nClassic Features:\\r\\n● Join a Clan of fellow players or start your own and invite friends.\\r\\n● Fight in Clan Wars as a team against millions of active players across the globe.\\r\\n● Test your skills in the competitive Clan War Leagues and prove you’re the best.\\r\\n● Forge alliances, work together with your Clan in Clan Games to earn valuable Magic items.\\r\\n● Plan your unique battle strategy with countless combinations of Spells, Troops, and Heroes!\\r\\n● Compete with the best players from around the world and rise to the top of the Leaderboard in Legend League.\\r\\n● Collect resources and steal loot from other players to upgrade your own Village and turn it into a stronghold. \\r\\n● Defend against enemy attacks with a multitude of Towers, Cannons, Bombs, Traps, Mortars, and Walls.\\r\\n● Unlock epic Heroes like the Barbarian King, Archer Queen, Grand Warden, Royal Champion, and Battle Machine. \\r\\n● Research upgrades in your Laboratory to make your Troops, Spells, and Siege Machines even more powerful.\\r\\n● Create your own custom PVP experiences through Friendly Challenges, Friendly Wars, and special live events.\\r\\n● Watch Clanmates attack and defend in real-time as a spectator or check out the video replays.\\r\\n● Fight against the Goblin King in a single player campaign mode through the realm.\\r\\n● Learn new tactics and experiment with your army and Clan Castle troops in Practice Mode.\\r\\n● Journey to the Builder Base and discover new buildings and characters in a mysterious world.\\r\\n● Turn your Builder Base into an unbeatable fortress and defeat rival players in Versus Battles. \\r\\n● Collect exclusive Hero Skins and Sceneries to customize your Village.\\r\\n\\r\\nWhat are you waiting for, Chief? Join the action today.\\r\\n\\r\\nPLEASE NOTE! Clash of Clans is free to download and play, however, some game items can also be purchased for real money. If you don't want to use this feature, please disable in-app purchases in your device's settings. Also, under our Terms of Service and Privacy Policy, you must be at least 13 years of age to play or download Clash of Clans.\\r\\n\\r\\nA network connection is also required.\\r\\n\\r\\nIf you have fun playing Clash of Clans, you may also enjoy other Supercell games like Clash Royale, Brawl Stars, Boom Beach, and Hay Day. Make sure to check those out!\\r\\n\\r\\nSupport: Chief, are you having problems? Visit https://help.supercellsupport.com/clash-of-clans/en/index.html or http://supr.cl/ClashForum or contact us in game by going to Settings > Help and Support.\\r\\n\\r\\nPrivacy Policy: http://www.supercell.net/privacy-policy/\\r\\n\\r\\nTerms of Service: http://www.supercell.net/terms-of-service/\\r\\n\\r\\nParent’s Guide: http://www.supercell.net/parents   \n",
       "1                                                                                                                                                                                                                                                                                                                                                                                                                                                                                                                                                                                                                                                                                                                                                                                                                                               Enter the Arena! Build your Battle Deck and outsmart the enemy in fast real-time battles. From the creators of CLASH OF CLANS comes a real-time multiplayer battle game starring your favourite Clash characters and more. Start battling against players from around the world!\\r\\n\\r\\nBECOME A MASTER OF STRATEGY AND DECK BUILDING\\r\\nChoose unique Cards to your Battle Deck and head to the Arena for Battle! \\r\\nPlace your Cards right and knock down the enemy King and Princesses from their Towers in a strategic and fast-paced match. \\r\\n\\r\\nCOLLECT AND UPGRADE 100+ CARDS\\r\\nHog Rider! Collect and upgrade 100+ Cards featuring the Clash of Clans troops, spells and defences you know and love and many others. Win battles and progress to new Arenas to unlock powerful new Cards to your collection!\\r\\n\\r\\nBATTLE YOUR WAY TO THE TOP\\r\\nBattle your way to the League and Global Tournaments to match against the best players in the world.\\r\\nCompete for glory and rewards!\\r\\n\\r\\nSEASONAL EVENTS\\r\\nUnlock new Seasonal items like Tower Skins, Emotes and powerful Magic Items with the Season Pass and participate in fun Challenges that put your skills to the test!\\r\\n\\r\\nJOIN A CLAN AND GO TO WAR\\r\\nJoin or form a Clan with other players to share Cards and battle in Clan Wars for BIG rewards! \\r\\n\\r\\nSee you in the Arena!\\r\\n\\r\\nPLEASE NOTE! Clash Royale is free to download and play, however, some game items can also be purchased for real money. If you do not want to use this feature, please set up password protection for purchases in the settings of your Google Play Store app. Also, under our Terms of Service and Privacy Policy, you must be at least 13 years of age to play or download Clash Royale.\\r\\n \\r\\nA network connection is also required.\\r\\n \\r\\nSupport\\r\\nAre you having problems? Visit http://supercell.helpshift.com/a/clash-royale/ or http://supr.cl/ClashRoyaleForum or contact us in game by going to Settings > Help and Support.\\r\\n\\r\\nPrivacy Policy: \\r\\nhttp://supercell.com/en/privacy-policy/\\r\\n\\r\\nTerms of Service:\\r\\nhttp://supercell.com/en/terms-of-service/\\r\\n\\r\\nParent’s Guide:\\r\\nhttp://supercell.com/en/parents/   \n",
       "\n",
       "                                                                            summary  \\\n",
       "0  Epic combat strategy game. Build your village, train your troops & go to battle!   \n",
       "1  Clash Royale is a real-time, head-to-head battle game set in the Clash Universe.   \n",
       "\n",
       "       installs     score     ratings  developer  \\\n",
       "0  500,000,000+  4.500125  61148515.0  Supercell   \n",
       "1  500,000,000+  4.178366  37525676.0  Supercell   \n",
       "\n",
       "                                                                                                                                                                                                                                                                               categories  \\\n",
       "0           [{'name': 'Strategy', 'id': 'GAME_STRATEGY'}, {'name': 'Build & battle', 'id': None}, {'name': 'Casual', 'id': 'GAME_CASUAL'}, {'name': 'Single player', 'id': None}, {'name': 'Multiplayer', 'id': None}, {'name': 'Stylized', 'id': None}, {'name': 'Cartoon', 'id': None}]   \n",
       "1  [{'name': 'Strategy', 'id': 'GAME_STRATEGY'}, {'name': 'Tactics', 'id': None}, {'name': 'Casual', 'id': 'GAME_CASUAL'}, {'name': 'Multiplayer', 'id': None}, {'name': 'Competitive multiplayer', 'id': None}, {'name': 'Single player', 'id': None}, {'name': 'Stylized', 'id': None}]   \n",
       "\n",
       "                                                                                                         icon  \\\n",
       "0  https://play-lh.googleusercontent.com/LByrur1mTmPeNr0ljI-uAUcct1rzmTve5Esau1SwoAzjBXQUby6uHIfHbF9TAT51mgHm   \n",
       "1  https://play-lh.googleusercontent.com/z950eFx-wowoAV2KgHast5YFcrxoGJtY18fYd_eMgvEDVn8_tsJwApy4Dbs1iqE2tAjX   \n",
       "\n",
       "                                                                                                 headerImage  \\\n",
       "0  https://play-lh.googleusercontent.com/D6u3M1r7IM2Xr9IZa-R0OTs4I4fIMBXEKJdQbLRtOxAmfTOH4GVtEFPXCq23IvlZpcg   \n",
       "1  https://play-lh.googleusercontent.com/s9qs3woasHqqz_FbBoHmsrdHyxIiO5wtuurXR9wqJII_5DSOxFyhzcjgdKVVgjXtuiw   \n",
       "\n",
       "  contentRating contentRatingDescription      released lastUpdatedOn  \\\n",
       "0  Rated for 7+            Mild Violence  Sep 30, 2013   May 3, 2024   \n",
       "1  Rated for 7+            Mild Violence   Mar 1, 2016  Apr 17, 2024   \n",
       "\n",
       "     version  \n",
       "0  16.253.25  \n",
       "1   60256021  "
      ]
     },
     "execution_count": 102,
     "metadata": {},
     "output_type": "execute_result"
    }
   ],
   "source": [
    "dataset.head(2)"
   ]
  },
  {
   "cell_type": "code",
   "execution_count": 103,
   "metadata": {},
   "outputs": [
    {
     "name": "stdout",
     "output_type": "stream",
     "text": [
      "Dataset saved successfully.\n"
     ]
    }
   ],
   "source": [
    "# Rename the \"appId\" column to \"appId_or_package_name\"\n",
    "dataset.rename(columns={\"appId\": \"appId_or_package_name\"}, inplace=True)\n",
    "\n"
   ]
  },
  {
   "cell_type": "code",
   "execution_count": 104,
   "metadata": {},
   "outputs": [
    {
     "name": "stdout",
     "output_type": "stream",
     "text": [
      "Dataset saved successfully.\n"
     ]
    }
   ],
   "source": [
    "# Save the DataFrame to a CSV file\n",
    "dataset.to_csv(\"../Data/app_details.csv\", index=False)\n",
    "\n",
    "print(\"Dataset saved successfully.\")"
   ]
  },
  {
   "cell_type": "code",
   "execution_count": null,
   "metadata": {},
   "outputs": [],
   "source": []
  }
 ],
 "metadata": {
  "kernelspec": {
   "display_name": "Python 3",
   "language": "python",
   "name": "python3"
  },
  "language_info": {
   "codemirror_mode": {
    "name": "ipython",
    "version": 3
   },
   "file_extension": ".py",
   "mimetype": "text/x-python",
   "name": "python",
   "nbconvert_exporter": "python",
   "pygments_lexer": "ipython3",
   "version": "3.9.18"
  }
 },
 "nbformat": 4,
 "nbformat_minor": 2
}
